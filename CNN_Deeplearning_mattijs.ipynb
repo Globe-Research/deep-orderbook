{
  "nbformat": 4,
  "nbformat_minor": 0,
  "metadata": {
    "kernelspec": {
      "display_name": "Python 3",
      "language": "python",
      "name": "python3"
    },
    "language_info": {
      "codemirror_mode": {
        "name": "ipython",
        "version": 3
      },
      "file_extension": ".py",
      "mimetype": "text/x-python",
      "name": "python",
      "nbconvert_exporter": "python",
      "pygments_lexer": "ipython3",
      "version": "3.7.5"
    },
    "colab": {
      "name": "CNN Deeplearning_mattijs.ipynb",
      "provenance": [],
      "collapsed_sections": []
    },
    "accelerator": "GPU"
  },
  "cells": [
    {
      "cell_type": "code",
      "metadata": {
        "id": "bhz3q1xpevKZ",
        "colab_type": "code",
        "colab": {
          "base_uri": "https://localhost:8080/",
          "height": 330
        },
        "outputId": "007340b2-5892-4fe1-ca43-2e4ded981065"
      },
      "source": [
        "import os\n",
        "import pandas as pd\n",
        "import numpy as np\n",
        "from google.cloud import storage\n",
        "%matplotlib inline\n",
        "import seaborn as sns\n",
        "import matplotlib.pyplot as plt\n",
        "from tqdm import tqdm\n",
        "from sklearn.metrics import classification_report\n",
        "from sklearn.model_selection import train_test_split\n",
        "import gc\n"
      ],
      "execution_count": 8,
      "outputs": [
        {
          "output_type": "error",
          "ename": "ModuleNotFoundError",
          "evalue": "ignored",
          "traceback": [
            "\u001b[0;31m---------------------------------------------------------------------------\u001b[0m",
            "\u001b[0;31mModuleNotFoundError\u001b[0m                       Traceback (most recent call last)",
            "\u001b[0;32m<ipython-input-8-ac429372c6fc>\u001b[0m in \u001b[0;36m<module>\u001b[0;34m()\u001b[0m\n\u001b[1;32m     10\u001b[0m \u001b[0;32mfrom\u001b[0m \u001b[0msklearn\u001b[0m\u001b[0;34m.\u001b[0m\u001b[0mmodel_selection\u001b[0m \u001b[0;32mimport\u001b[0m \u001b[0mtrain_test_split\u001b[0m\u001b[0;34m\u001b[0m\u001b[0;34m\u001b[0m\u001b[0m\n\u001b[1;32m     11\u001b[0m \u001b[0;32mimport\u001b[0m \u001b[0mgc\u001b[0m\u001b[0;34m\u001b[0m\u001b[0;34m\u001b[0m\u001b[0m\n\u001b[0;32m---> 12\u001b[0;31m \u001b[0;32mimport\u001b[0m \u001b[0mgcsfs\u001b[0m\u001b[0;34m\u001b[0m\u001b[0;34m\u001b[0m\u001b[0m\n\u001b[0m",
            "\u001b[0;31mModuleNotFoundError\u001b[0m: No module named 'gcsfs'",
            "",
            "\u001b[0;31m---------------------------------------------------------------------------\u001b[0;32m\nNOTE: If your import is failing due to a missing package, you can\nmanually install dependencies using either !pip or !apt.\n\nTo view examples of installing some common dependencies, click the\n\"Open Examples\" button below.\n\u001b[0;31m---------------------------------------------------------------------------\u001b[0m\n"
          ]
        }
      ]
    },
    {
      "cell_type": "code",
      "metadata": {
        "id": "ONBRrtUhevKu",
        "colab_type": "code",
        "colab": {}
      },
      "source": [
        "# if run locally\n",
        "# from google.colab import drive\n",
        "# drive.mount('/content/drive/', force_remount=True)\n",
        "os.chdir('drive')\n",
        "os.chdir('My Drive')\n",
        "os.chdir('Colab Notebooks')\n",
        "print(os.getcwd())"
      ],
      "execution_count": 0,
      "outputs": []
    },
    {
      "cell_type": "code",
      "metadata": {
        "id": "9aeLjSyhNJRn",
        "colab_type": "code",
        "colab": {}
      },
      "source": [
        "JSONcredential = \"key_storage_dl-orderbook.json\"\n",
        "os.environ[\"GOOGLE_APPLICATION_CREDENTIALS\"] = JSONcredential"
      ],
      "execution_count": 0,
      "outputs": []
    },
    {
      "cell_type": "code",
      "metadata": {
        "id": "Sc3zbGbAFdFN",
        "colab_type": "code",
        "colab": {}
      },
      "source": [
        "#Create client to bundle configuration needed for API requests.\n",
        "storage_client = storage.client.Client()\n",
        "\n",
        "#Or create object to existing bucket\n",
        "bucket = storage_client.get_bucket('bucket_l2_snapshot')\n",
        "\n",
        "# blob = bucket.blob('l2_snapshot_100ms.csv')"
      ],
      "execution_count": 0,
      "outputs": []
    },
    {
      "cell_type": "code",
      "metadata": {
        "id": "VpgOk6jlT-bG",
        "colab_type": "code",
        "colab": {
          "base_uri": "https://localhost:8080/",
          "height": 458
        },
        "outputId": "c219f574-4b74-485e-af64-fbb1eeaf63ad"
      },
      "source": [
        "df = pd.read_csv('gs://bucket_l2_snapshot/l2_snapshot_100ms.csv', index_col=0, infer_datetime_format=True)"
      ],
      "execution_count": 6,
      "outputs": [
        {
          "output_type": "error",
          "ename": "ImportError",
          "evalue": "ignored",
          "traceback": [
            "\u001b[0;31m---------------------------------------------------------------------------\u001b[0m",
            "\u001b[0;31mImportError\u001b[0m                               Traceback (most recent call last)",
            "\u001b[0;32m<ipython-input-6-6abd3d002e8b>\u001b[0m in \u001b[0;36m<module>\u001b[0;34m()\u001b[0m\n\u001b[0;32m----> 1\u001b[0;31m \u001b[0mdf\u001b[0m \u001b[0;34m=\u001b[0m \u001b[0mpd\u001b[0m\u001b[0;34m.\u001b[0m\u001b[0mread_csv\u001b[0m\u001b[0;34m(\u001b[0m\u001b[0;34m'gs://bucket_l2_snapshot/l2_snapshot_100ms.csv'\u001b[0m\u001b[0;34m,\u001b[0m \u001b[0mindex_col\u001b[0m\u001b[0;34m=\u001b[0m\u001b[0;36m0\u001b[0m\u001b[0;34m,\u001b[0m \u001b[0minfer_datetime_format\u001b[0m\u001b[0;34m=\u001b[0m\u001b[0;32mTrue\u001b[0m\u001b[0;34m)\u001b[0m\u001b[0;34m\u001b[0m\u001b[0;34m\u001b[0m\u001b[0m\n\u001b[0m",
            "\u001b[0;32m/usr/local/lib/python3.6/dist-packages/pandas/io/parsers.py\u001b[0m in \u001b[0;36mparser_f\u001b[0;34m(filepath_or_buffer, sep, delimiter, header, names, index_col, usecols, squeeze, prefix, mangle_dupe_cols, dtype, engine, converters, true_values, false_values, skipinitialspace, skiprows, skipfooter, nrows, na_values, keep_default_na, na_filter, verbose, skip_blank_lines, parse_dates, infer_datetime_format, keep_date_col, date_parser, dayfirst, cache_dates, iterator, chunksize, compression, thousands, decimal, lineterminator, quotechar, quoting, doublequote, escapechar, comment, encoding, dialect, error_bad_lines, warn_bad_lines, delim_whitespace, low_memory, memory_map, float_precision)\u001b[0m\n\u001b[1;32m    674\u001b[0m         )\n\u001b[1;32m    675\u001b[0m \u001b[0;34m\u001b[0m\u001b[0m\n\u001b[0;32m--> 676\u001b[0;31m         \u001b[0;32mreturn\u001b[0m \u001b[0m_read\u001b[0m\u001b[0;34m(\u001b[0m\u001b[0mfilepath_or_buffer\u001b[0m\u001b[0;34m,\u001b[0m \u001b[0mkwds\u001b[0m\u001b[0;34m)\u001b[0m\u001b[0;34m\u001b[0m\u001b[0;34m\u001b[0m\u001b[0m\n\u001b[0m\u001b[1;32m    677\u001b[0m \u001b[0;34m\u001b[0m\u001b[0m\n\u001b[1;32m    678\u001b[0m     \u001b[0mparser_f\u001b[0m\u001b[0;34m.\u001b[0m\u001b[0m__name__\u001b[0m \u001b[0;34m=\u001b[0m \u001b[0mname\u001b[0m\u001b[0;34m\u001b[0m\u001b[0;34m\u001b[0m\u001b[0m\n",
            "\u001b[0;32m/usr/local/lib/python3.6/dist-packages/pandas/io/parsers.py\u001b[0m in \u001b[0;36m_read\u001b[0;34m(filepath_or_buffer, kwds)\u001b[0m\n\u001b[1;32m    429\u001b[0m     \u001b[0;31m# See https://github.com/python/mypy/issues/1297\u001b[0m\u001b[0;34m\u001b[0m\u001b[0;34m\u001b[0m\u001b[0;34m\u001b[0m\u001b[0m\n\u001b[1;32m    430\u001b[0m     fp_or_buf, _, compression, should_close = get_filepath_or_buffer(\n\u001b[0;32m--> 431\u001b[0;31m         \u001b[0mfilepath_or_buffer\u001b[0m\u001b[0;34m,\u001b[0m \u001b[0mencoding\u001b[0m\u001b[0;34m,\u001b[0m \u001b[0mcompression\u001b[0m\u001b[0;34m\u001b[0m\u001b[0;34m\u001b[0m\u001b[0m\n\u001b[0m\u001b[1;32m    432\u001b[0m     )\n\u001b[1;32m    433\u001b[0m     \u001b[0mkwds\u001b[0m\u001b[0;34m[\u001b[0m\u001b[0;34m\"compression\"\u001b[0m\u001b[0;34m]\u001b[0m \u001b[0;34m=\u001b[0m \u001b[0mcompression\u001b[0m\u001b[0;34m\u001b[0m\u001b[0;34m\u001b[0m\u001b[0m\n",
            "\u001b[0;32m/usr/local/lib/python3.6/dist-packages/pandas/io/common.py\u001b[0m in \u001b[0;36mget_filepath_or_buffer\u001b[0;34m(filepath_or_buffer, encoding, compression, mode)\u001b[0m\n\u001b[1;32m    214\u001b[0m \u001b[0;34m\u001b[0m\u001b[0m\n\u001b[1;32m    215\u001b[0m     \u001b[0;32mif\u001b[0m \u001b[0mis_gcs_url\u001b[0m\u001b[0;34m(\u001b[0m\u001b[0mfilepath_or_buffer\u001b[0m\u001b[0;34m)\u001b[0m\u001b[0;34m:\u001b[0m\u001b[0;34m\u001b[0m\u001b[0;34m\u001b[0m\u001b[0m\n\u001b[0;32m--> 216\u001b[0;31m         \u001b[0;32mfrom\u001b[0m \u001b[0mpandas\u001b[0m\u001b[0;34m.\u001b[0m\u001b[0mio\u001b[0m \u001b[0;32mimport\u001b[0m \u001b[0mgcs\u001b[0m\u001b[0;34m\u001b[0m\u001b[0;34m\u001b[0m\u001b[0m\n\u001b[0m\u001b[1;32m    217\u001b[0m \u001b[0;34m\u001b[0m\u001b[0m\n\u001b[1;32m    218\u001b[0m         return gcs.get_filepath_or_buffer(\n",
            "\u001b[0;32m/usr/local/lib/python3.6/dist-packages/pandas/io/gcs.py\u001b[0m in \u001b[0;36m<module>\u001b[0;34m()\u001b[0m\n\u001b[1;32m      3\u001b[0m \u001b[0;34m\u001b[0m\u001b[0m\n\u001b[1;32m      4\u001b[0m gcsfs = import_optional_dependency(\n\u001b[0;32m----> 5\u001b[0;31m     \u001b[0;34m\"gcsfs\"\u001b[0m\u001b[0;34m,\u001b[0m \u001b[0mextra\u001b[0m\u001b[0;34m=\u001b[0m\u001b[0;34m\"The gcsfs library is required to handle GCS files\"\u001b[0m\u001b[0;34m\u001b[0m\u001b[0;34m\u001b[0m\u001b[0m\n\u001b[0m\u001b[1;32m      6\u001b[0m )\n\u001b[1;32m      7\u001b[0m \u001b[0;34m\u001b[0m\u001b[0m\n",
            "\u001b[0;32m/usr/local/lib/python3.6/dist-packages/pandas/compat/_optional.py\u001b[0m in \u001b[0;36mimport_optional_dependency\u001b[0;34m(name, extra, raise_on_missing, on_version)\u001b[0m\n\u001b[1;32m     90\u001b[0m     \u001b[0;32mexcept\u001b[0m \u001b[0mImportError\u001b[0m\u001b[0;34m:\u001b[0m\u001b[0;34m\u001b[0m\u001b[0;34m\u001b[0m\u001b[0m\n\u001b[1;32m     91\u001b[0m         \u001b[0;32mif\u001b[0m \u001b[0mraise_on_missing\u001b[0m\u001b[0;34m:\u001b[0m\u001b[0;34m\u001b[0m\u001b[0;34m\u001b[0m\u001b[0m\n\u001b[0;32m---> 92\u001b[0;31m             \u001b[0;32mraise\u001b[0m \u001b[0mImportError\u001b[0m\u001b[0;34m(\u001b[0m\u001b[0mmsg\u001b[0m\u001b[0;34m)\u001b[0m \u001b[0;32mfrom\u001b[0m \u001b[0;32mNone\u001b[0m\u001b[0;34m\u001b[0m\u001b[0;34m\u001b[0m\u001b[0m\n\u001b[0m\u001b[1;32m     93\u001b[0m         \u001b[0;32melse\u001b[0m\u001b[0;34m:\u001b[0m\u001b[0;34m\u001b[0m\u001b[0;34m\u001b[0m\u001b[0m\n\u001b[1;32m     94\u001b[0m             \u001b[0;32mreturn\u001b[0m \u001b[0;32mNone\u001b[0m\u001b[0;34m\u001b[0m\u001b[0;34m\u001b[0m\u001b[0m\n",
            "\u001b[0;31mImportError\u001b[0m: Missing optional dependency 'gcsfs'. The gcsfs library is required to handle GCS files Use pip or conda to install gcsfs.",
            "",
            "\u001b[0;31m---------------------------------------------------------------------------\u001b[0;32m\nNOTE: If your import is failing due to a missing package, you can\nmanually install dependencies using either !pip or !apt.\n\nTo view examples of installing some common dependencies, click the\n\"Open Examples\" button below.\n\u001b[0;31m---------------------------------------------------------------------------\u001b[0m\n"
          ]
        }
      ]
    },
    {
      "cell_type": "code",
      "metadata": {
        "id": "C2qvcsVScmIB",
        "colab_type": "code",
        "colab": {
          "base_uri": "https://localhost:8080/",
          "height": 162
        },
        "outputId": "66ae2e71-9d56-4d01-fa7e-a6cc7385210e"
      },
      "source": [
        "df.index = pd.to_datetime(df.index)"
      ],
      "execution_count": 7,
      "outputs": [
        {
          "output_type": "error",
          "ename": "NameError",
          "evalue": "ignored",
          "traceback": [
            "\u001b[0;31m---------------------------------------------------------------------------\u001b[0m",
            "\u001b[0;31mNameError\u001b[0m                                 Traceback (most recent call last)",
            "\u001b[0;32m<ipython-input-7-4d24419b1a6b>\u001b[0m in \u001b[0;36m<module>\u001b[0;34m()\u001b[0m\n\u001b[0;32m----> 1\u001b[0;31m \u001b[0mdf\u001b[0m\u001b[0;34m.\u001b[0m\u001b[0mindex\u001b[0m \u001b[0;34m=\u001b[0m \u001b[0mpd\u001b[0m\u001b[0;34m.\u001b[0m\u001b[0mto_datetime\u001b[0m\u001b[0;34m(\u001b[0m\u001b[0mdf\u001b[0m\u001b[0;34m.\u001b[0m\u001b[0mindex\u001b[0m\u001b[0;34m)\u001b[0m\u001b[0;34m\u001b[0m\u001b[0;34m\u001b[0m\u001b[0m\n\u001b[0m",
            "\u001b[0;31mNameError\u001b[0m: name 'df' is not defined"
          ]
        }
      ]
    },
    {
      "cell_type": "code",
      "metadata": {
        "id": "vSxdj0pTevLR",
        "colab_type": "code",
        "colab": {}
      },
      "source": [
        "def concat_data(base_path, features):\n",
        "    \"\"\"Concatenate all the files in basepath keeping only the\n",
        "    columns specified by features.\n",
        "    \"\"\"\n",
        "    l2_snapshot = pd.DataFrame()\n",
        "    for i, x in enumerate(tqdm(sorted(os.listdir(base_path)))):\n",
        "      if base_path is None:\n",
        "        path = x\n",
        "      else:\n",
        "        path = base_path + x\n",
        "      df_hour = pd.read_parquet(path, columns=features)\n",
        "      l2_snapshot = pd.concat([l2_snapshot, df_hour.dropna()])\n",
        "        \n",
        "    return l2_snapshot\n",
        "\n",
        "def extend_matrix(A, n):\n",
        "    \"\"\"Extend a matrix A by duplicating rows as specified by the list n.\"\"\"\n",
        "    n = n[1:]  # Do not duplicate rows for the first day\n",
        "    A = A[:-1]  # Do not duplicate the last day's row\n",
        "    A = np.repeat(A, repeats=n, axis=0)\n",
        "    return A\n",
        "\n",
        "def normalise_data_per_day(df):\n",
        "    df_mean = df.resample('D').mean()\n",
        "    df_var = df.resample('D').var()\n",
        "    \n",
        "    timestamps_per_day = np.unique(df.index.date, return_counts=True)[1]\n",
        "    mean_array = extend_matrix(df_mean.to_numpy(), timestamps_per_day)\n",
        "    var_array = extend_matrix(df_var.to_numpy(), timestamps_per_day)\n",
        "    \n",
        "    # Drop the rows of the first day\n",
        "    df = df[df.index.date != df.index[0].date()]\n",
        "    \n",
        "    df = (df - mean_array) / np.sqrt(var_array)\n",
        "\n",
        "    return df\n",
        "\n",
        "def balance_classes(y):\n",
        "    unique = np.unique(y, return_counts=True)\n",
        "\n",
        "    # Take smallest number as class size\n",
        "    class_size = np.min(unique[1])\n",
        "    class_size_index = np.argmin(unique[1])\n",
        "    timestamps = np.array([], dtype=int)\n",
        "    for i, category in enumerate(unique[0]):\n",
        "        if i == class_size_index:\n",
        "            continue\n",
        "        index = np.argwhere(y==category)\n",
        "        index = index.reshape(len(index))\n",
        "        random_timestamps = np.random.choice(index, (unique[1][i] - class_size), replace=False)\n",
        "        timestamps = np.concatenate((timestamps, random_timestamps), axis=None)\n",
        "        \n",
        "    return timestamps\n",
        "\n",
        "def generate_y(df_snapshot, T=100, D=40, best_ask='a1', best_bid='b1', k=20, alpha=10e-5):\n",
        "    \"\"\"Return X, y from the snapshot dataframe and the best ask/bid columns.\"\"\"\n",
        "    df = pd.DataFrame()\n",
        "    df['mid_price'] = (df_snapshot[best_ask].to_numpy()+df_snapshot[best_bid].to_numpy())/2\n",
        "\n",
        "    # Create columns delayed by -k to k-1\n",
        "    for i in range(-k, k):\n",
        "        df[i] = df['mid_price'].shift(periods=i)\n",
        "\n",
        "    # Drop first k-1 rows and last k rows\n",
        "    df.drop(range(0,20), axis=0, inplace=True)\n",
        "    df.drop(range(len(df_snapshot)-20,len(df_snapshot)), axis=0, inplace=True)\n",
        "    \n",
        "    # Compute mean of previous k and next k\n",
        "    df['m_b'] = df[range(0,20)].mean(axis=1)\n",
        "    df['m_a'] = df[range(-20,0)].mean(axis=1)\n",
        "    \n",
        "    # Compute label of increasing or decreasing\n",
        "    y_increase = np.where(df['m_b'] > df['m_a'] * (1+alpha), 1, 0)\n",
        "    y_decrease = np.where(df['m_b'] < df['m_a'] * (1-alpha), -1, 0)\n",
        "    y = y_increase + y_decrease\n",
        "\n",
        "    # 100 most recent limit orders used so ignore first 100 timesteps\n",
        "    y = y[T:]\n",
        "    y += 1\n",
        "\n",
        "    return y\n",
        "\n",
        "def generate_preX(df_snapshot):\n",
        "    preX = df_snapshot.to_numpy()[20:-20]\n",
        "\n",
        "    return preX\n",
        "\n",
        "def generate_X(preX, T=100, D=40):\n",
        "    # For each timestep create matrix of 100 most recent limit orders\n",
        "    X = np.array([preX[t:t+T] for t in range(len(preX)-T)], dtype='float32')\n",
        "        \n",
        "    return X"
      ],
      "execution_count": 0,
      "outputs": []
    },
    {
      "cell_type": "code",
      "metadata": {
        "id": "JdDD7lRKevLg",
        "colab_type": "code",
        "colab": {}
      },
      "source": [
        "features = ['b1','b2','b3','b4','b5','b6','b7','b8', 'b9', 'b10', 'a1','a2','a3','a4','a5','a6','a7','a8', 'a9', 'a10', 'bq1','bq2','bq3','bq4','bq5','bq6','bq7','bq8', 'bq9', 'bq10', 'aq1','aq2','aq3','aq4','aq5','aq6','aq7','aq8', 'aq9', 'aq10']\n",
        "#l2_snapshot = concat_data(None, features)"
      ],
      "execution_count": 0,
      "outputs": []
    },
    {
      "cell_type": "code",
      "metadata": {
        "id": "vwyPabPooItJ",
        "colab_type": "code",
        "colab": {}
      },
      "source": [
        "# l2_snapshot.to_csv(\"l2_snapshot_100ms.csv\")\n",
        "# l2_snapshot = pd.read_csv(\"l2_snapshot_100ms.csv\", index_col=0, parse_dates=True)"
      ],
      "execution_count": 0,
      "outputs": []
    },
    {
      "cell_type": "code",
      "metadata": {
        "id": "XwQ_MmCFevL5",
        "colab_type": "code",
        "colab": {}
      },
      "source": [
        "# takes 70 seconds\n",
        "l2_norm = normalise_data_per_day(df)"
      ],
      "execution_count": 0,
      "outputs": []
    },
    {
      "cell_type": "code",
      "metadata": {
        "id": "DLvio-Nxxz22",
        "colab_type": "code",
        "colab": {}
      },
      "source": [
        "del df"
      ],
      "execution_count": 0,
      "outputs": []
    },
    {
      "cell_type": "code",
      "metadata": {
        "id": "NEb1NMSXevNO",
        "colab_type": "code",
        "outputId": "896c712e-d48c-47a8-b254-af4f96f99505",
        "colab": {
          "base_uri": "https://localhost:8080/",
          "height": 486
        }
      },
      "source": [
        "# Careful, if run must delete `mid_price` before creating preX dataset\n",
        "l2_norm['mid_price'] = (l2_norm['a1']+l2_norm['b1'])/2\n",
        "\n",
        "plt.figure(figsize = (15,8))\n",
        "plt.plot(np.arange(1,l2_norm.shape[0]+1), l2_norm['mid_price'])\n",
        "plt.show()"
      ],
      "execution_count": 0,
      "outputs": [
        {
          "output_type": "display_data",
          "data": {
            "text/plain": [
              "<Figure size 1080x576 with 1 Axes>"
            ],
            "image/png": "[encoded data removed]"
          },
          "metadata": {
            "tags": [],
            "needs_background": "light"
          }
        }
      ]
    },
    {
      "cell_type": "code",
      "metadata": {
        "id": "WJXze2VLevNj",
        "colab_type": "code",
        "colab": {}
      },
      "source": [
        "print(np.unique(y, return_counts=True)[1])\n",
        "sns.countplot(x = y)\n",
        "plt.show()"
      ],
      "execution_count": 0,
      "outputs": []
    },
    {
      "cell_type": "code",
      "metadata": {
        "id": "q-MNyf4S4pcg",
        "colab_type": "code",
        "colab": {}
      },
      "source": [
        "# First create input dataset and then undersample to have balanced classes\n",
        "# Train test validate split "
      ],
      "execution_count": 0,
      "outputs": []
    },
    {
      "cell_type": "code",
      "metadata": {
        "id": "sW2NrIdRevN2",
        "colab_type": "code",
        "outputId": "1c968fa8-ce72-474e-98ad-e29b496142b6",
        "colab": {
          "base_uri": "https://localhost:8080/",
          "height": 34
        }
      },
      "source": [
        "T = 100\n",
        "D = 40\n",
        "y = generate_y(l2_norm, T=T, D=D, best_ask='a1', best_bid = 'b1', alpha=0.002)\n",
        "preX = generate_preX(l2_norm)\n",
        "print(preX.shape)"
      ],
      "execution_count": 0,
      "outputs": [
        {
          "output_type": "stream",
          "text": [
            "(4220032, 40)\n"
          ],
          "name": "stdout"
        }
      ]
    },
    {
      "cell_type": "code",
      "metadata": {
        "id": "W3H1Ug8BEcaS",
        "colab_type": "code",
        "outputId": "fe4b1a8d-bd85-467f-b7f0-b4d77fd0d4e8",
        "colab": {
          "base_uri": "https://localhost:8080/",
          "height": 34
        }
      },
      "source": [
        "del l2_norm\n",
        "gc.collect()"
      ],
      "execution_count": 0,
      "outputs": [
        {
          "output_type": "execute_result",
          "data": {
            "text/plain": [
              "6459"
            ]
          },
          "metadata": {
            "tags": []
          },
          "execution_count": 59
        }
      ]
    },
    {
      "cell_type": "code",
      "metadata": {
        "id": "O7csSNPRrsPW",
        "colab_type": "code",
        "outputId": "3b766a46-4cd7-4e2d-9b45-e528b8e4071d",
        "colab": {
          "base_uri": "https://localhost:8080/",
          "height": 50
        }
      },
      "source": [
        "X = generate_X(preX)\n",
        "print(X.shape, y.shape)\n",
        "print(np.unique(y))"
      ],
      "execution_count": 0,
      "outputs": [
        {
          "output_type": "stream",
          "text": [
            "(4219932, 100, 40) (4219932,)\n",
            "[0 1 2]\n"
          ],
          "name": "stdout"
        }
      ]
    },
    {
      "cell_type": "code",
      "metadata": {
        "id": "E3DWyDJQrww-",
        "colab_type": "code",
        "outputId": "6f2687e4-0ea9-4aaa-98d3-118cefea51c9",
        "colab": {
          "base_uri": "https://localhost:8080/",
          "height": 34
        }
      },
      "source": [
        "del preX\n",
        "gc.collect()"
      ],
      "execution_count": 0,
      "outputs": [
        {
          "output_type": "execute_result",
          "data": {
            "text/plain": [
              "0"
            ]
          },
          "metadata": {
            "tags": []
          },
          "execution_count": 11
        }
      ]
    },
    {
      "cell_type": "code",
      "metadata": {
        "id": "POyNl1VEcNfG",
        "colab_type": "code",
        "outputId": "fb8f7db8-05a2-4b81-de8c-c73da4d3b4c0",
        "colab": {
          "base_uri": "https://localhost:8080/",
          "height": 34
        }
      },
      "source": [
        "# Balance out the classes by taking the number of the smallest class\n",
        "timestamps_to_delete = balance_classes(y)\n",
        "print(len(timestamps_to_delete))\n",
        "X = np.delete(X, timestamps_to_delete, axis=0)\n",
        "y = np.delete(y, timestamps_to_delete, axis=0)"
      ],
      "execution_count": 0,
      "outputs": [
        {
          "output_type": "stream",
          "text": [
            "2538525\n"
          ],
          "name": "stdout"
        }
      ]
    },
    {
      "cell_type": "code",
      "metadata": {
        "id": "9-lVEQQpgKEE",
        "colab_type": "code",
        "outputId": "a2c109b1-7fca-4c15-dc52-45a82fcace86",
        "colab": {
          "base_uri": "https://localhost:8080/",
          "height": 50
        }
      },
      "source": [
        "print(X.shape, y.shape)\n",
        "print(np.unique(y, return_counts=True))"
      ],
      "execution_count": 0,
      "outputs": [
        {
          "output_type": "stream",
          "text": [
            "(1681407, 100, 40) (1681407,)\n",
            "(array([0, 1, 2]), array([560469, 560469, 560469]))\n"
          ],
          "name": "stdout"
        }
      ]
    },
    {
      "cell_type": "code",
      "metadata": {
        "id": "wnyEXbDgv2Mm",
        "colab_type": "code",
        "colab": {}
      },
      "source": [
        "X_train, X_test_validation, y_train, y_test_validation = train_test_split(\n",
        "    X, y, test_size=0.15, random_state=42)\n",
        "X_validation, X_test, y_validation, y_test = train_test_split(\n",
        "    X_test_validation, y_test_validation, test_size=0.33, random_state=42)"
      ],
      "execution_count": 0,
      "outputs": []
    },
    {
      "cell_type": "code",
      "metadata": {
        "id": "EFrQw3QpyqDz",
        "colab_type": "code",
        "outputId": "2a6c7f48-1971-4b64-bd83-49f1572350d6",
        "colab": {
          "base_uri": "https://localhost:8080/",
          "height": 34
        }
      },
      "source": [
        "del X, y, X_test_validation, y_test_validation\n",
        "gc.collect()"
      ],
      "execution_count": 0,
      "outputs": [
        {
          "output_type": "execute_result",
          "data": {
            "text/plain": [
              "0"
            ]
          },
          "metadata": {
            "tags": []
          },
          "execution_count": 15
        }
      ]
    },
    {
      "cell_type": "code",
      "metadata": {
        "id": "ZlpMp2BjevO0",
        "colab_type": "code",
        "outputId": "0593d270-be28-43ec-a309-4f52dc3f7c2d",
        "colab": {
          "base_uri": "https://localhost:8080/",
          "height": 118
        }
      },
      "source": [
        "print('X_train - Before: {} GB'.format(X_train.nbytes/1024**3), X_train.dtype)\n",
        "print('y_train - Before: {} GB'.format(y_train.nbytes/1024**3), y_train.dtype)\n",
        "print('X_validation - Before: {} GB'.format(X_validation.nbytes/1024**3), X_validation.dtype)\n",
        "print('y_validation - Before: {} GB'.format(y_validation.nbytes/1024**3), y_validation.dtype)\n",
        "print('X_test - Before: {} GB'.format(X_test.nbytes/1024**3), X_test.dtype)\n",
        "print('y_test - Before: {} GB'.format(y_test.nbytes/1024**3), y_test.dtype)"
      ],
      "execution_count": 0,
      "outputs": [
        {
          "output_type": "stream",
          "text": [
            "X_train - Before: 21.2966650724411 GB float32\n",
            "y_train - Before: 0.01064833253622055 GB int64\n",
            "X_validation - Before: 2.5180280208587646 GB float32\n",
            "y_validation - Before: 0.0012590140104293823 GB int64\n",
            "X_test - Before: 1.2402236461639404 GB float32\n",
            "y_test - Before: 0.0006201118230819702 GB int64\n"
          ],
          "name": "stdout"
        }
      ]
    },
    {
      "cell_type": "code",
      "metadata": {
        "id": "pqiWc5lB_HIh",
        "colab_type": "code",
        "outputId": "1f5bbdb2-89d8-4285-827f-d8caad847e8f",
        "colab": {
          "base_uri": "https://localhost:8080/",
          "height": 34
        }
      },
      "source": [
        "X_train.shape, y_train.shape"
      ],
      "execution_count": 0,
      "outputs": [
        {
          "output_type": "execute_result",
          "data": {
            "text/plain": [
              "((1429195, 100, 40), (1429195,))"
            ]
          },
          "metadata": {
            "tags": []
          },
          "execution_count": 17
        }
      ]
    },
    {
      "cell_type": "code",
      "metadata": {
        "id": "LTlsiH-ievO_",
        "colab_type": "code",
        "outputId": "02610761-93c8-44bf-a4a5-be02ee0eaf01",
        "colab": {
          "base_uri": "https://localhost:8080/",
          "height": 34
        }
      },
      "source": [
        "import tensorflow as tf\n",
        "print(tf.__version__)"
      ],
      "execution_count": 0,
      "outputs": [
        {
          "output_type": "stream",
          "text": [
            "2.1.0\n"
          ],
          "name": "stdout"
        }
      ]
    },
    {
      "cell_type": "code",
      "metadata": {
        "id": "9ksiHjs4evPL",
        "colab_type": "code",
        "colab": {}
      },
      "source": [
        "# !pip install tensorflow-addons"
      ],
      "execution_count": 0,
      "outputs": []
    },
    {
      "cell_type": "code",
      "metadata": {
        "id": "Ti3cAUuQevPY",
        "colab_type": "code",
        "colab": {}
      },
      "source": [
        "# import tensorflow_addons as tfa"
      ],
      "execution_count": 0,
      "outputs": []
    },
    {
      "cell_type": "code",
      "metadata": {
        "id": "q9ETniLaevPm",
        "colab_type": "code",
        "colab": {}
      },
      "source": [
        "from tensorflow.keras.layers import Input, Conv1D, Conv2D, Flatten, MaxPooling1D, MaxPooling2D, Dense, LeakyReLU, Bidirectional, LSTM, Add, Activation, GlobalAveragePooling1D, BatchNormalization\n",
        "from tensorflow.keras.models import Model\n",
        "from tensorflow.keras.optimizers import SGD, Adam\n",
        "from tensorflow.compat.v1.keras.layers import CuDNNLSTM"
      ],
      "execution_count": 0,
      "outputs": []
    },
    {
      "cell_type": "code",
      "metadata": {
        "id": "5rtq8PcaevP4",
        "colab_type": "code",
        "colab": {}
      },
      "source": [
        "from tensorflow import keras\n",
        "from functools import partial"
      ],
      "execution_count": 0,
      "outputs": []
    },
    {
      "cell_type": "code",
      "metadata": {
        "id": "soWHHEhhevQN",
        "colab_type": "code",
        "colab": {}
      },
      "source": [
        "## Resnet of Conv1D\n",
        "DefaultConv1D = partial(keras.layers.Conv1D, kernel_size=4, strides=1,\n",
        "                        padding=\"SAME\", use_bias=False)\n",
        "\n",
        "class ResidualUnit(keras.layers.Layer):\n",
        "    def __init__(self, filters, strides=1, activation=\"relu\", **kwargs):\n",
        "        super().__init__(**kwargs)\n",
        "        self.activation = keras.activations.get(activation)\n",
        "        self.main_layers = [\n",
        "            DefaultConv1D(filters, strides=strides),\n",
        "            keras.layers.BatchNormalization(),\n",
        "            self.activation,\n",
        "            DefaultConv1D(filters),\n",
        "            keras.layers.BatchNormalization()]\n",
        "        self.skip_layers = []\n",
        "        if strides > 1:\n",
        "            self.skip_layers = [\n",
        "                DefaultConv1D(filters, kernel_size=1, strides=strides),\n",
        "                keras.layers.BatchNormalization()]\n",
        "\n",
        "    def call(self, inputs):\n",
        "        Z = inputs\n",
        "        for layer in self.main_layers:\n",
        "            Z = layer(Z)\n",
        "        skip_Z = inputs\n",
        "        for layer in self.skip_layers:\n",
        "            skip_Z = layer(skip_Z)\n",
        "        return self.activation(Z + skip_Z)\n",
        "\n",
        "    #def get_config()"
      ],
      "execution_count": 0,
      "outputs": []
    },
    {
      "cell_type": "code",
      "metadata": {
        "id": "PR6nWtzZevQh",
        "colab_type": "code",
        "outputId": "7394dda8-7ca9-4c9e-ea54-67b2c472a3cb",
        "colab": {
          "base_uri": "https://localhost:8080/",
          "height": 222
        }
      },
      "source": [
        "strategy = tf.distribute.MirroredStrategy()\n",
        "with strategy.scope():\n",
        "    inputs = keras.layers.Input(shape = (100,40))\n",
        "    x = keras.layers.Conv1D(filters=16, kernel_size=4 ,activation='relu', padding='SAME')(inputs)\n",
        "    x = keras.layers.MaxPooling1D(2)(x)\n",
        "    \n",
        "    prev_filters = 16\n",
        "    for filters in [16]*3+[32]*2:\n",
        "        if prev_filters != filters:\n",
        "            stride = 2\n",
        "        else:\n",
        "            stride = 1\n",
        "        x = ResidualUnit(filters, stride)(x)\n",
        "        prev_filters = filters\n",
        "\n",
        "    x = keras.layers.GlobalAveragePooling1D()(x)\n",
        "    outputs = keras.layers.Dense(3, activation='softmax')(x)\n",
        "\n",
        "    res_net_model = keras.models.Model(inputs, outputs)\n",
        "    opt = keras.optimizers.Adam(learning_rate=0.0005)  # Default is 0.001\n",
        "    res_net_model.compile(optimizer=opt,\n",
        "               loss='sparse_categorical_crossentropy',\n",
        "                metrics = ['accuracy'])"
      ],
      "execution_count": 0,
      "outputs": [
        {
          "output_type": "stream",
          "text": [
            "INFO:tensorflow:Using MirroredStrategy with devices ('/job:localhost/replica:0/task:0/device:GPU:0', '/job:localhost/replica:0/task:0/device:GPU:1', '/job:localhost/replica:0/task:0/device:GPU:2', '/job:localhost/replica:0/task:0/device:GPU:3')\n",
            "INFO:tensorflow:Reduce to /job:localhost/replica:0/task:0/device:CPU:0 then broadcast to ('/job:localhost/replica:0/task:0/device:CPU:0',).\n",
            "INFO:tensorflow:Reduce to /job:localhost/replica:0/task:0/device:CPU:0 then broadcast to ('/job:localhost/replica:0/task:0/device:CPU:0',).\n",
            "INFO:tensorflow:Reduce to /job:localhost/replica:0/task:0/device:CPU:0 then broadcast to ('/job:localhost/replica:0/task:0/device:CPU:0',).\n",
            "INFO:tensorflow:Reduce to /job:localhost/replica:0/task:0/device:CPU:0 then broadcast to ('/job:localhost/replica:0/task:0/device:CPU:0',).\n",
            "INFO:tensorflow:Reduce to /job:localhost/replica:0/task:0/device:CPU:0 then broadcast to ('/job:localhost/replica:0/task:0/device:CPU:0',).\n",
            "INFO:tensorflow:Reduce to /job:localhost/replica:0/task:0/device:CPU:0 then broadcast to ('/job:localhost/replica:0/task:0/device:CPU:0',).\n",
            "INFO:tensorflow:Reduce to /job:localhost/replica:0/task:0/device:CPU:0 then broadcast to ('/job:localhost/replica:0/task:0/device:CPU:0',).\n",
            "INFO:tensorflow:Reduce to /job:localhost/replica:0/task:0/device:CPU:0 then broadcast to ('/job:localhost/replica:0/task:0/device:CPU:0',).\n",
            "INFO:tensorflow:Reduce to /job:localhost/replica:0/task:0/device:CPU:0 then broadcast to ('/job:localhost/replica:0/task:0/device:CPU:0',).\n",
            "INFO:tensorflow:Reduce to /job:localhost/replica:0/task:0/device:CPU:0 then broadcast to ('/job:localhost/replica:0/task:0/device:CPU:0',).\n"
          ],
          "name": "stdout"
        }
      ]
    },
    {
      "cell_type": "code",
      "metadata": {
        "id": "bsZIrwxTevQ2",
        "colab_type": "code",
        "colab": {}
      },
      "source": [
        "# strategy = tf.distribute.MirroredStrategy()\n",
        "# with strategy.scope():\n",
        "#     i = Input(shape=X_train[0].shape)\n",
        "    \n",
        "#     x = Conv2D(16, (4,D),kernel_initializer=\"he_normal\")(i)\n",
        "#     x = LeakyReLU(alpha=0.01)(x)\n",
        "#     x = tf.keras.layers.BatchNormalization()(x)\n",
        "    \n",
        "#     x = tf.keras.layers.Reshape(target_shape=(T-3,16))(x)\n",
        "    \n",
        "#     x = Conv1D(16, 4, kernel_initializer=\"he_normal\")(x)\n",
        "#     x = LeakyReLU(alpha=0.01)(x)\n",
        "#     x = tf.keras.layers.BatchNormalization()(x)\n",
        "#     x = MaxPooling1D(2)(x)\n",
        "    \n",
        "#     x = Conv1D(32, 3, activation=LeakyReLU(alpha=0.01), kernel_initializer=\"he_normal\")(x)\n",
        "#     x = LeakyReLU(alpha=0.01)(x)\n",
        "#     x = tf.keras.layers.BatchNormalization()(x)\n",
        "#     x = MaxPooling1D(2)(x)\n",
        "    \n",
        "#     x = Bidirectional(LSTM(64, return_sequences = False))(x)\n",
        "    \n",
        "#     x = Dense(32 ,kernel_initializer=\"he_normal\")(x)\n",
        "#     x = LeakyReLU(alpha=0.01)(x)\n",
        "#     x = tf.keras.layers.BatchNormalization()(x)\n",
        "    \n",
        "#     x = Dense(32, kernel_initializer=\"he_normal\")(x)\n",
        "#     x = LeakyReLU(alpha=0.01)(x)\n",
        "#     x = tf.keras.layers.BatchNormalization()(x)\n",
        "    \n",
        "#     x = Dense(3, activation='softmax', kernel_initializer=\"he_normal\")(x)\n",
        "\n",
        "#     model = Model(i,x)\n",
        "#     model.compile(optimizer='adam',\n",
        "#               loss='sparse_categorical_crossentropy',\n",
        "#               metrics=['accuracy'])\n",
        "    "
      ],
      "execution_count": 0,
      "outputs": []
    },
    {
      "cell_type": "code",
      "metadata": {
        "id": "usv_jxCWevQ_",
        "colab_type": "code",
        "outputId": "54eada90-ae8c-4c86-f97f-25fe723b5a5b",
        "colab": {
          "base_uri": "https://localhost:8080/",
          "height": 1000
        }
      },
      "source": [
        "EPOCHS = 1000\n",
        "early_stop = keras.callbacks.EarlyStopping(monitor='loss', patience=2)\n",
        "r = res_net_model.fit(\n",
        "    X_train,y_train,\n",
        "    epochs=EPOCHS,\n",
        "    batch_size=128,\n",
        "    callbacks=[early_stop]\n",
        ")"
      ],
      "execution_count": 0,
      "outputs": [
        {
          "output_type": "stream",
          "text": [
            "Train on 1429195 samples\n",
            "Epoch 1/1000\n",
            "INFO:tensorflow:batch_all_reduce: 37 all-reduces with algorithm = nccl, num_packs = 1, agg_small_grads_max_bytes = 0 and agg_small_grads_max_group = 10\n",
            "1429195/1429195 [==============================] - 235s 165us/sample - loss: 0.6599 - accuracy: 0.7037\n",
            "Epoch 2/1000\n",
            "1429195/1429195 [==============================] - 207s 145us/sample - loss: 0.6495 - accuracy: 0.7093\n",
            "Epoch 3/1000\n",
            "1429195/1429195 [==============================] - 207s 145us/sample - loss: 0.6419 - accuracy: 0.7126\n",
            "Epoch 4/1000\n",
            "1429195/1429195 [==============================] - 207s 145us/sample - loss: 0.6357 - accuracy: 0.7156\n",
            "Epoch 5/1000\n",
            "1429195/1429195 [==============================] - 206s 144us/sample - loss: 0.6303 - accuracy: 0.7188\n",
            "Epoch 6/1000\n",
            "1429195/1429195 [==============================] - 206s 144us/sample - loss: 0.6257 - accuracy: 0.7213\n",
            "Epoch 7/1000\n",
            "1429195/1429195 [==============================] - 207s 145us/sample - loss: 0.6217 - accuracy: 0.7232\n",
            "Epoch 8/1000\n",
            "1429195/1429195 [==============================] - 207s 145us/sample - loss: 0.6184 - accuracy: 0.7245\n",
            "Epoch 9/1000\n",
            "1429195/1429195 [==============================] - 207s 145us/sample - loss: 0.6151 - accuracy: 0.7264\n",
            "Epoch 10/1000\n",
            "1429195/1429195 [==============================] - 206s 144us/sample - loss: 0.6119 - accuracy: 0.7279\n",
            "Epoch 11/1000\n",
            "1429195/1429195 [==============================] - 207s 145us/sample - loss: 0.6090 - accuracy: 0.7295\n",
            "Epoch 12/1000\n",
            "1429195/1429195 [==============================] - 207s 145us/sample - loss: 0.6065 - accuracy: 0.7304\n",
            "Epoch 13/1000\n",
            "1429195/1429195 [==============================] - 207s 145us/sample - loss: 0.6039 - accuracy: 0.7320\n",
            "Epoch 14/1000\n",
            "1429195/1429195 [==============================] - 207s 145us/sample - loss: 0.6018 - accuracy: 0.7328\n",
            "Epoch 15/1000\n",
            "1429195/1429195 [==============================] - 207s 145us/sample - loss: 0.5999 - accuracy: 0.7341\n",
            "Epoch 16/1000\n",
            "1429195/1429195 [==============================] - 207s 145us/sample - loss: 0.5978 - accuracy: 0.7350\n",
            "Epoch 17/1000\n",
            "1429195/1429195 [==============================] - 207s 145us/sample - loss: 0.5961 - accuracy: 0.7359\n",
            "Epoch 18/1000\n",
            "1429195/1429195 [==============================] - 207s 145us/sample - loss: 0.5946 - accuracy: 0.7367\n",
            "Epoch 19/1000\n",
            "1429195/1429195 [==============================] - 206s 144us/sample - loss: 0.5928 - accuracy: 0.7376\n",
            "Epoch 20/1000\n",
            "1429195/1429195 [==============================] - 207s 145us/sample - loss: 0.5916 - accuracy: 0.7381\n",
            "Epoch 21/1000\n",
            "1429195/1429195 [==============================] - 207s 145us/sample - loss: 0.5898 - accuracy: 0.7392\n",
            "Epoch 22/1000\n",
            "1429195/1429195 [==============================] - 206s 144us/sample - loss: 0.5887 - accuracy: 0.7404\n",
            "Epoch 23/1000\n",
            "1429195/1429195 [==============================] - 207s 145us/sample - loss: 0.5870 - accuracy: 0.7404\n",
            "Epoch 24/1000\n",
            "1429195/1429195 [==============================] - 207s 145us/sample - loss: 0.5861 - accuracy: 0.7410\n",
            "Epoch 25/1000\n",
            "1429195/1429195 [==============================] - 207s 145us/sample - loss: 0.5852 - accuracy: 0.7414\n",
            "Epoch 26/1000\n",
            "1429195/1429195 [==============================] - 207s 145us/sample - loss: 0.5839 - accuracy: 0.7424\n",
            "Epoch 27/1000\n",
            "1429195/1429195 [==============================] - 207s 145us/sample - loss: 0.5827 - accuracy: 0.7427\n",
            "Epoch 28/1000\n",
            "1429195/1429195 [==============================] - 206s 144us/sample - loss: 0.5823 - accuracy: 0.7430\n",
            "Epoch 29/1000\n",
            "1429195/1429195 [==============================] - 207s 145us/sample - loss: 0.5810 - accuracy: 0.7436\n",
            "Epoch 30/1000\n",
            "1429195/1429195 [==============================] - 207s 145us/sample - loss: 0.5799 - accuracy: 0.7442\n",
            "Epoch 31/1000\n",
            "1429195/1429195 [==============================] - 206s 144us/sample - loss: 0.5793 - accuracy: 0.7442\n",
            "Epoch 32/1000\n",
            "1429195/1429195 [==============================] - 207s 145us/sample - loss: 0.5784 - accuracy: 0.7450\n",
            "Epoch 33/1000\n",
            "1429195/1429195 [==============================] - 207s 145us/sample - loss: 0.5780 - accuracy: 0.7454\n",
            "Epoch 34/1000\n",
            "1429195/1429195 [==============================] - 207s 145us/sample - loss: 0.5767 - accuracy: 0.7461\n",
            "Epoch 35/1000\n",
            "1429195/1429195 [==============================] - 207s 145us/sample - loss: 0.5762 - accuracy: 0.7463\n",
            "Epoch 36/1000\n",
            "1429195/1429195 [==============================] - 207s 145us/sample - loss: 0.5759 - accuracy: 0.7464\n",
            "Epoch 37/1000\n",
            "1429195/1429195 [==============================] - 206s 144us/sample - loss: 0.5752 - accuracy: 0.7466\n",
            "Epoch 38/1000\n",
            "1429195/1429195 [==============================] - 206s 144us/sample - loss: 0.5745 - accuracy: 0.7472\n",
            "Epoch 39/1000\n",
            "1429195/1429195 [==============================] - 207s 145us/sample - loss: 0.5736 - accuracy: 0.7478\n",
            "Epoch 40/1000\n",
            "1429195/1429195 [==============================] - 207s 145us/sample - loss: 0.5728 - accuracy: 0.7479\n",
            "Epoch 41/1000\n",
            "1429195/1429195 [==============================] - 207s 145us/sample - loss: 0.5722 - accuracy: 0.7477\n",
            "Epoch 42/1000\n",
            "1429195/1429195 [==============================] - 207s 145us/sample - loss: 0.5714 - accuracy: 0.7486\n",
            "Epoch 43/1000\n",
            "1429195/1429195 [==============================] - 207s 145us/sample - loss: 0.5709 - accuracy: 0.7488\n",
            "Epoch 44/1000\n",
            "1429195/1429195 [==============================] - 207s 145us/sample - loss: 0.5705 - accuracy: 0.7492\n",
            "Epoch 45/1000\n",
            "1429195/1429195 [==============================] - 207s 145us/sample - loss: 0.5702 - accuracy: 0.7494\n",
            "Epoch 46/1000\n",
            "1429195/1429195 [==============================] - 207s 145us/sample - loss: 0.5698 - accuracy: 0.7495\n",
            "Epoch 47/1000\n",
            "1429195/1429195 [==============================] - 207s 145us/sample - loss: 0.5690 - accuracy: 0.7503\n",
            "Epoch 48/1000\n",
            "1429195/1429195 [==============================] - 207s 145us/sample - loss: 0.5685 - accuracy: 0.7500\n",
            "Epoch 49/1000\n",
            "1429195/1429195 [==============================] - 206s 144us/sample - loss: 0.5680 - accuracy: 0.7507\n",
            "Epoch 50/1000\n",
            "1429195/1429195 [==============================] - 207s 145us/sample - loss: 0.5677 - accuracy: 0.7508\n",
            "Epoch 51/1000\n",
            "1429195/1429195 [==============================] - 207s 145us/sample - loss: 0.5670 - accuracy: 0.7509\n",
            "Epoch 52/1000\n",
            "1429195/1429195 [==============================] - 206s 144us/sample - loss: 0.5667 - accuracy: 0.7509\n",
            "Epoch 53/1000\n",
            "1429195/1429195 [==============================] - 206s 144us/sample - loss: 0.5661 - accuracy: 0.7513\n",
            "Epoch 54/1000\n",
            "1429195/1429195 [==============================] - 207s 145us/sample - loss: 0.5652 - accuracy: 0.7515\n",
            "Epoch 55/1000\n",
            "1429195/1429195 [==============================] - 207s 145us/sample - loss: 0.5656 - accuracy: 0.7517\n",
            "Epoch 56/1000\n",
            "1429195/1429195 [==============================] - 207s 145us/sample - loss: 0.5651 - accuracy: 0.7519\n",
            "Epoch 57/1000\n",
            "1429195/1429195 [==============================] - 207s 145us/sample - loss: 0.5646 - accuracy: 0.7519\n",
            "Epoch 58/1000\n",
            "1429195/1429195 [==============================] - 207s 145us/sample - loss: 0.5644 - accuracy: 0.7524\n",
            "Epoch 59/1000\n",
            "1429195/1429195 [==============================] - 206s 144us/sample - loss: 0.5636 - accuracy: 0.7524\n",
            "Epoch 60/1000\n",
            "1429195/1429195 [==============================] - 207s 145us/sample - loss: 0.5630 - accuracy: 0.7529\n",
            "Epoch 61/1000\n",
            "1429195/1429195 [==============================] - 207s 145us/sample - loss: 0.5631 - accuracy: 0.7529\n",
            "Epoch 62/1000\n",
            "1429195/1429195 [==============================] - 207s 145us/sample - loss: 0.5627 - accuracy: 0.7535\n",
            "Epoch 63/1000\n",
            "1429195/1429195 [==============================] - 207s 145us/sample - loss: 0.5623 - accuracy: 0.7532\n",
            "Epoch 64/1000\n",
            "1429195/1429195 [==============================] - 206s 144us/sample - loss: 0.5619 - accuracy: 0.7535\n",
            "Epoch 65/1000\n",
            "1429195/1429195 [==============================] - 207s 145us/sample - loss: 0.5616 - accuracy: 0.7532\n",
            "Epoch 66/1000\n",
            "1429195/1429195 [==============================] - 207s 145us/sample - loss: 0.5614 - accuracy: 0.7536\n",
            "Epoch 67/1000\n",
            "1429195/1429195 [==============================] - 207s 145us/sample - loss: 0.5610 - accuracy: 0.7537\n",
            "Epoch 68/1000\n",
            "1429195/1429195 [==============================] - 207s 145us/sample - loss: 0.5607 - accuracy: 0.7541\n",
            "Epoch 69/1000\n",
            "1429195/1429195 [==============================] - 207s 145us/sample - loss: 0.5604 - accuracy: 0.7538\n",
            "Epoch 70/1000\n",
            "1429195/1429195 [==============================] - 206s 144us/sample - loss: 0.5598 - accuracy: 0.7548\n",
            "Epoch 71/1000\n",
            "1429195/1429195 [==============================] - 207s 145us/sample - loss: 0.5596 - accuracy: 0.7548\n",
            "Epoch 72/1000\n",
            "1429195/1429195 [==============================] - 206s 144us/sample - loss: 0.5595 - accuracy: 0.7549\n",
            "Epoch 73/1000\n",
            "1429195/1429195 [==============================] - 206s 144us/sample - loss: 0.5590 - accuracy: 0.7550\n",
            "Epoch 74/1000\n",
            "1429195/1429195 [==============================] - 206s 144us/sample - loss: 0.5589 - accuracy: 0.7552\n",
            "Epoch 75/1000\n",
            "1429195/1429195 [==============================] - 207s 145us/sample - loss: 0.5585 - accuracy: 0.7549\n",
            "Epoch 76/1000\n",
            "1429195/1429195 [==============================] - 206s 144us/sample - loss: 0.5580 - accuracy: 0.7551\n",
            "Epoch 77/1000\n",
            "1429195/1429195 [==============================] - 206s 144us/sample - loss: 0.5576 - accuracy: 0.7557\n",
            "Epoch 78/1000\n",
            "1429195/1429195 [==============================] - 207s 145us/sample - loss: 0.5577 - accuracy: 0.7555\n",
            "Epoch 79/1000\n",
            "1429195/1429195 [==============================] - 206s 144us/sample - loss: 0.5571 - accuracy: 0.7559\n",
            "Epoch 80/1000\n",
            "1429195/1429195 [==============================] - 207s 145us/sample - loss: 0.5575 - accuracy: 0.7553\n",
            "Epoch 81/1000\n",
            "1429195/1429195 [==============================] - 207s 145us/sample - loss: 0.5573 - accuracy: 0.7556\n"
          ],
          "name": "stdout"
        }
      ]
    },
    {
      "cell_type": "code",
      "metadata": {
        "id": "WPd9pySdU7I7",
        "colab_type": "code",
        "outputId": "ee4d5a5a-3243-454b-bf54-ba3b6258f1e1",
        "colab": {
          "base_uri": "https://localhost:8080/",
          "height": 458
        }
      },
      "source": [
        "res_net_model.save('model_epoch5_alpha_early')"
      ],
      "execution_count": 0,
      "outputs": [
        {
          "output_type": "stream",
          "text": [
            "INFO:tensorflow:Assets written to: model_epoch5_alpha_early/assets\n"
          ],
          "name": "stdout"
        },
        {
          "output_type": "error",
          "ename": "KeyError",
          "evalue": "ignored",
          "traceback": [
            "\u001b[0;31m---------------------------------------------------------------------------\u001b[0m",
            "\u001b[0;31mKeyError\u001b[0m                                  Traceback (most recent call last)",
            "\u001b[0;32m/usr/local/lib/python3.5/dist-packages/tensorflow_core/python/saved_model/function_serialization.py\u001b[0m in \u001b[0;36mserialize_concrete_function\u001b[0;34m(concrete_function, node_ids, coder)\u001b[0m\n\u001b[1;32m     53\u001b[0m     \u001b[0;32mfor\u001b[0m \u001b[0mcapture\u001b[0m \u001b[0;32min\u001b[0m \u001b[0mconcrete_function\u001b[0m\u001b[0;34m.\u001b[0m\u001b[0mcaptured_inputs\u001b[0m\u001b[0;34m:\u001b[0m\u001b[0;34m\u001b[0m\u001b[0m\n\u001b[0;32m---> 54\u001b[0;31m       \u001b[0mbound_inputs\u001b[0m\u001b[0;34m.\u001b[0m\u001b[0mappend\u001b[0m\u001b[0;34m(\u001b[0m\u001b[0mnode_ids\u001b[0m\u001b[0;34m[\u001b[0m\u001b[0mcapture\u001b[0m\u001b[0;34m]\u001b[0m\u001b[0;34m)\u001b[0m\u001b[0;34m\u001b[0m\u001b[0m\n\u001b[0m\u001b[1;32m     55\u001b[0m   \u001b[0;32mexcept\u001b[0m \u001b[0mKeyError\u001b[0m\u001b[0;34m:\u001b[0m\u001b[0;34m\u001b[0m\u001b[0m\n",
            "\u001b[0;32m/usr/local/lib/python3.5/dist-packages/tensorflow_core/python/util/object_identity.py\u001b[0m in \u001b[0;36m__getitem__\u001b[0;34m(self, key)\u001b[0m\n\u001b[1;32m    131\u001b[0m   \u001b[0;32mdef\u001b[0m \u001b[0m__getitem__\u001b[0m\u001b[0;34m(\u001b[0m\u001b[0mself\u001b[0m\u001b[0;34m,\u001b[0m \u001b[0mkey\u001b[0m\u001b[0;34m)\u001b[0m\u001b[0;34m:\u001b[0m\u001b[0;34m\u001b[0m\u001b[0m\n\u001b[0;32m--> 132\u001b[0;31m     \u001b[0;32mreturn\u001b[0m \u001b[0mself\u001b[0m\u001b[0;34m.\u001b[0m\u001b[0m_storage\u001b[0m\u001b[0;34m[\u001b[0m\u001b[0mself\u001b[0m\u001b[0;34m.\u001b[0m\u001b[0m_wrap_key\u001b[0m\u001b[0;34m(\u001b[0m\u001b[0mkey\u001b[0m\u001b[0;34m)\u001b[0m\u001b[0;34m]\u001b[0m\u001b[0;34m\u001b[0m\u001b[0m\n\u001b[0m\u001b[1;32m    133\u001b[0m \u001b[0;34m\u001b[0m\u001b[0m\n",
            "\u001b[0;31mKeyError\u001b[0m: <_ObjectIdentityWrapper wrapping <tf.Tensor: shape=(), dtype=resource, numpy=<unprintable>>>",
            "\nDuring handling of the above exception, another exception occurred:\n",
            "\u001b[0;31mKeyError\u001b[0m                                  Traceback (most recent call last)",
            "\u001b[0;32m<ipython-input-26-e57d0a7f7fe1>\u001b[0m in \u001b[0;36m<module>\u001b[0;34m\u001b[0m\n\u001b[0;32m----> 1\u001b[0;31m \u001b[0mres_net_model\u001b[0m\u001b[0;34m.\u001b[0m\u001b[0msave\u001b[0m\u001b[0;34m(\u001b[0m\u001b[0;34m'model_epoch5_alpha_early'\u001b[0m\u001b[0;34m)\u001b[0m\u001b[0;34m\u001b[0m\u001b[0m\n\u001b[0m",
            "\u001b[0;32m/usr/local/lib/python3.5/dist-packages/tensorflow_core/python/keras/engine/network.py\u001b[0m in \u001b[0;36msave\u001b[0;34m(self, filepath, overwrite, include_optimizer, save_format, signatures, options)\u001b[0m\n\u001b[1;32m   1006\u001b[0m     \"\"\"\n\u001b[1;32m   1007\u001b[0m     save.save_model(self, filepath, overwrite, include_optimizer, save_format,\n\u001b[0;32m-> 1008\u001b[0;31m                     signatures, options)\n\u001b[0m\u001b[1;32m   1009\u001b[0m \u001b[0;34m\u001b[0m\u001b[0m\n\u001b[1;32m   1010\u001b[0m   \u001b[0;32mdef\u001b[0m \u001b[0msave_weights\u001b[0m\u001b[0;34m(\u001b[0m\u001b[0mself\u001b[0m\u001b[0;34m,\u001b[0m \u001b[0mfilepath\u001b[0m\u001b[0;34m,\u001b[0m \u001b[0moverwrite\u001b[0m\u001b[0;34m=\u001b[0m\u001b[0;32mTrue\u001b[0m\u001b[0;34m,\u001b[0m \u001b[0msave_format\u001b[0m\u001b[0;34m=\u001b[0m\u001b[0;32mNone\u001b[0m\u001b[0;34m)\u001b[0m\u001b[0;34m:\u001b[0m\u001b[0;34m\u001b[0m\u001b[0m\n",
            "\u001b[0;32m/usr/local/lib/python3.5/dist-packages/tensorflow_core/python/keras/saving/save.py\u001b[0m in \u001b[0;36msave_model\u001b[0;34m(model, filepath, overwrite, include_optimizer, save_format, signatures, options)\u001b[0m\n\u001b[1;32m    113\u001b[0m   \u001b[0;32melse\u001b[0m\u001b[0;34m:\u001b[0m\u001b[0;34m\u001b[0m\u001b[0m\n\u001b[1;32m    114\u001b[0m     saved_model_save.save(model, filepath, overwrite, include_optimizer,\n\u001b[0;32m--> 115\u001b[0;31m                           signatures, options)\n\u001b[0m\u001b[1;32m    116\u001b[0m \u001b[0;34m\u001b[0m\u001b[0m\n\u001b[1;32m    117\u001b[0m \u001b[0;34m\u001b[0m\u001b[0m\n",
            "\u001b[0;32m/usr/local/lib/python3.5/dist-packages/tensorflow_core/python/keras/saving/saved_model/save.py\u001b[0m in \u001b[0;36msave\u001b[0;34m(model, filepath, overwrite, include_optimizer, signatures, options)\u001b[0m\n\u001b[1;32m     76\u001b[0m     \u001b[0;31m# we use the default replica context here.\u001b[0m\u001b[0;34m\u001b[0m\u001b[0;34m\u001b[0m\u001b[0m\n\u001b[1;32m     77\u001b[0m     \u001b[0;32mwith\u001b[0m \u001b[0mdistribution_strategy_context\u001b[0m\u001b[0;34m.\u001b[0m\u001b[0m_get_default_replica_context\u001b[0m\u001b[0;34m(\u001b[0m\u001b[0;34m)\u001b[0m\u001b[0;34m:\u001b[0m  \u001b[0;31m# pylint: disable=protected-access\u001b[0m\u001b[0;34m\u001b[0m\u001b[0m\n\u001b[0;32m---> 78\u001b[0;31m       \u001b[0msave_lib\u001b[0m\u001b[0;34m.\u001b[0m\u001b[0msave\u001b[0m\u001b[0;34m(\u001b[0m\u001b[0mmodel\u001b[0m\u001b[0;34m,\u001b[0m \u001b[0mfilepath\u001b[0m\u001b[0;34m,\u001b[0m \u001b[0msignatures\u001b[0m\u001b[0;34m,\u001b[0m \u001b[0moptions\u001b[0m\u001b[0;34m)\u001b[0m\u001b[0;34m\u001b[0m\u001b[0m\n\u001b[0m\u001b[1;32m     79\u001b[0m \u001b[0;34m\u001b[0m\u001b[0m\n\u001b[1;32m     80\u001b[0m   \u001b[0;32mif\u001b[0m \u001b[0;32mnot\u001b[0m \u001b[0minclude_optimizer\u001b[0m\u001b[0;34m:\u001b[0m\u001b[0;34m\u001b[0m\u001b[0m\n",
            "\u001b[0;32m/usr/local/lib/python3.5/dist-packages/tensorflow_core/python/saved_model/save.py\u001b[0m in \u001b[0;36msave\u001b[0;34m(obj, export_dir, signatures, options)\u001b[0m\n\u001b[1;32m    921\u001b[0m       compat.as_str(constants.SAVED_MODEL_FILENAME_PB))\n\u001b[1;32m    922\u001b[0m   object_graph_proto = _serialize_object_graph(\n\u001b[0;32m--> 923\u001b[0;31m       saveable_view, asset_info.asset_index)\n\u001b[0m\u001b[1;32m    924\u001b[0m   \u001b[0mmeta_graph_def\u001b[0m\u001b[0;34m.\u001b[0m\u001b[0mobject_graph_def\u001b[0m\u001b[0;34m.\u001b[0m\u001b[0mCopyFrom\u001b[0m\u001b[0;34m(\u001b[0m\u001b[0mobject_graph_proto\u001b[0m\u001b[0;34m)\u001b[0m\u001b[0;34m\u001b[0m\u001b[0m\n\u001b[1;32m    925\u001b[0m \u001b[0;34m\u001b[0m\u001b[0m\n",
            "\u001b[0;32m/usr/local/lib/python3.5/dist-packages/tensorflow_core/python/saved_model/save.py\u001b[0m in \u001b[0;36m_serialize_object_graph\u001b[0;34m(saveable_view, asset_file_def_index)\u001b[0m\n\u001b[1;32m    645\u001b[0m   \u001b[0;32mfor\u001b[0m \u001b[0mconcrete_function\u001b[0m \u001b[0;32min\u001b[0m \u001b[0msaveable_view\u001b[0m\u001b[0;34m.\u001b[0m\u001b[0mconcrete_functions\u001b[0m\u001b[0;34m:\u001b[0m\u001b[0;34m\u001b[0m\u001b[0m\n\u001b[1;32m    646\u001b[0m     serialized = function_serialization.serialize_concrete_function(\n\u001b[0;32m--> 647\u001b[0;31m         concrete_function, saveable_view.captured_tensor_node_ids, coder)\n\u001b[0m\u001b[1;32m    648\u001b[0m     \u001b[0;32mif\u001b[0m \u001b[0mserialized\u001b[0m \u001b[0;32mis\u001b[0m \u001b[0;32mnot\u001b[0m \u001b[0;32mNone\u001b[0m\u001b[0;34m:\u001b[0m\u001b[0;34m\u001b[0m\u001b[0m\n\u001b[1;32m    649\u001b[0m       proto.concrete_functions[concrete_function.name].CopyFrom(\n",
            "\u001b[0;32m/usr/local/lib/python3.5/dist-packages/tensorflow_core/python/saved_model/function_serialization.py\u001b[0m in \u001b[0;36mserialize_concrete_function\u001b[0;34m(concrete_function, node_ids, coder)\u001b[0m\n\u001b[1;32m     61\u001b[0m         \u001b[0;34m\"trackable object \"\u001b[0m\u001b[0;34m\u001b[0m\u001b[0m\n\u001b[1;32m     62\u001b[0m         \u001b[0;34m\"(see SaveTest.test_captures_unreachable_variable).\"\u001b[0m\u001b[0;34m\u001b[0m\u001b[0m\n\u001b[0;32m---> 63\u001b[0;31m         % (concrete_function.name, capture))\n\u001b[0m\u001b[1;32m     64\u001b[0m   \u001b[0mconcrete_function_proto\u001b[0m \u001b[0;34m=\u001b[0m \u001b[0msaved_object_graph_pb2\u001b[0m\u001b[0;34m.\u001b[0m\u001b[0mSavedConcreteFunction\u001b[0m\u001b[0;34m(\u001b[0m\u001b[0;34m)\u001b[0m\u001b[0;34m\u001b[0m\u001b[0m\n\u001b[1;32m     65\u001b[0m   structured_outputs = func_graph_module.convert_structure_to_signature(\n",
            "\u001b[0;31mKeyError\u001b[0m: \"Failed to add concrete function b'__inference_model_layer_call_and_return_conditional_losses_2834018' to object based saved model as it captures tensor tf.Tensor(<unprintable>, shape=(), dtype=resource) which is unsupported or not reachable from root. One reason could be that a stateful object or a variable that the function depends on is not assigned to an attribute of the serialized trackable object (see SaveTest.test_captures_unreachable_variable).\""
          ]
        }
      ]
    },
    {
      "cell_type": "code",
      "metadata": {
        "id": "Yt6KpEU8evRJ",
        "colab_type": "code",
        "outputId": "762d273d-1ea9-4b81-a0ef-950f85d65194",
        "colab": {
          "base_uri": "https://localhost:8080/",
          "height": 50
        }
      },
      "source": [
        "res_net_model.evaluate(X_validation, y_validation)"
      ],
      "execution_count": 0,
      "outputs": [
        {
          "output_type": "stream",
          "text": [
            "168982/168982 [==============================] - 29s 171us/sample - loss: 0.5599 - accuracy: 0.7541\n"
          ],
          "name": "stdout"
        },
        {
          "output_type": "execute_result",
          "data": {
            "text/plain": [
              "[0.5598972626810415, 0.7540803]"
            ]
          },
          "metadata": {
            "tags": []
          },
          "execution_count": 27
        }
      ]
    },
    {
      "cell_type": "code",
      "metadata": {
        "id": "uCbCbYYCevRT",
        "colab_type": "code",
        "colab": {}
      },
      "source": [
        "y_pred = res_net_model.predict(X_test)"
      ],
      "execution_count": 0,
      "outputs": []
    },
    {
      "cell_type": "code",
      "metadata": {
        "scrolled": true,
        "id": "UEasGeXDevRh",
        "colab_type": "code",
        "outputId": "800bc918-84c9-40ab-8a97-3b3bbad930b0",
        "colab": {
          "base_uri": "https://localhost:8080/",
          "height": 312
        }
      },
      "source": [
        "sns.lineplot(x=range(1,81+1),y=r.history['loss'])\n",
        "#sns.lineplot(x=range(1,EPOCHS+1),y=r.history['val_loss'])\n",
        "plt.title('Model Cross Entropy Loss')\n",
        "plt.ylabel('Cross Entropy Loss')\n",
        "plt.xlabel('Epochs')\n",
        "plt.legend(['Training'], loc='upper left')"
      ],
      "execution_count": 0,
      "outputs": [
        {
          "output_type": "execute_result",
          "data": {
            "text/plain": [
              "<matplotlib.legend.Legend at 0x7f9d8dba3128>"
            ]
          },
          "metadata": {
            "tags": []
          },
          "execution_count": 29
        },
        {
          "output_type": "display_data",
          "data": {
            "image/png": "[encoded data removed]",
            "text/plain": [
              "<Figure size 432x288 with 1 Axes>"
            ]
          },
          "metadata": {
            "tags": [],
            "needs_background": "light"
          }
        }
      ]
    },
    {
      "cell_type": "code",
      "metadata": {
        "id": "sEdOgorJevRt",
        "colab_type": "code",
        "colab": {}
      },
      "source": [
        "y_pred = y_pred.argmax(axis=1)"
      ],
      "execution_count": 0,
      "outputs": []
    },
    {
      "cell_type": "code",
      "metadata": {
        "id": "7yYSjC0zevSD",
        "colab_type": "code",
        "outputId": "01160000-5249-4e8e-9cae-24df029e1cb4",
        "colab": {
          "base_uri": "https://localhost:8080/",
          "height": 269
        }
      },
      "source": [
        "from sklearn.metrics import confusion_matrix\n",
        "\n",
        "cm = confusion_matrix(y_pred=y_pred, y_true=y_test)\n",
        "    \n",
        "cm = cm.astype('float') / cm.sum(axis=1)[:, np.newaxis]\n",
        "\n",
        "ax=sns.heatmap(cm, annot=True, xticklabels=[0,1,2], yticklabels=[0,1,2], cmap='Blues')\n",
        "ax.set_ylim(3.0, 0)\n",
        "plt.show()"
      ],
      "execution_count": 0,
      "outputs": [
        {
          "output_type": "display_data",
          "data": {
            "image/png": "[encoded data removed]",
            "text/plain": [
              "<Figure size 432x288 with 2 Axes>"
            ]
          },
          "metadata": {
            "tags": [],
            "needs_background": "light"
          }
        }
      ]
    },
    {
      "cell_type": "code",
      "metadata": {
        "scrolled": true,
        "id": "lUlPtc50evSO",
        "colab_type": "code",
        "outputId": "ed988d81-d6e0-4c2d-e2b1-1e9dc1ab922b",
        "colab": {
          "base_uri": "https://localhost:8080/",
          "height": 151
        }
      },
      "source": [
        "print(classification_report(y_test,y_pred))"
      ],
      "execution_count": 0,
      "outputs": [
        {
          "output_type": "stream",
          "text": [
            "             precision    recall  f1-score   support\n",
            "\n",
            "          0       0.78      0.75      0.76     27800\n",
            "          1       0.70      0.78      0.73     27675\n",
            "          2       0.80      0.74      0.77     27755\n",
            "\n",
            "avg / total       0.76      0.76      0.76     83230\n",
            "\n"
          ],
          "name": "stdout"
        }
      ]
    },
    {
      "cell_type": "code",
      "metadata": {
        "id": "yCfOME4BdHZ9",
        "colab_type": "code",
        "colab": {}
      },
      "source": [
        "res_net_model.save_weights('alpha_002_early_stopping_weights')"
      ],
      "execution_count": 0,
      "outputs": []
    },
    {
      "cell_type": "code",
      "metadata": {
        "id": "305ueujFKU96",
        "colab_type": "code",
        "outputId": "8cf3cdb1-37c4-449e-ffa1-8cc2747a0586",
        "colab": {
          "base_uri": "https://localhost:8080/",
          "height": 303
        }
      },
      "source": [
        "res_net_model.save('alpha_002_early_stopping.h5')"
      ],
      "execution_count": 0,
      "outputs": [
        {
          "output_type": "error",
          "ename": "NotImplementedError",
          "evalue": "ignored",
          "traceback": [
            "\u001b[0;31m---------------------------------------------------------------------------\u001b[0m",
            "\u001b[0;31mNotImplementedError\u001b[0m                       Traceback (most recent call last)",
            "\u001b[0;32m<ipython-input-35-4d79d6a392e6>\u001b[0m in \u001b[0;36m<module>\u001b[0;34m\u001b[0m\n\u001b[0;32m----> 1\u001b[0;31m \u001b[0mres_net_model\u001b[0m\u001b[0;34m.\u001b[0m\u001b[0msave\u001b[0m\u001b[0;34m(\u001b[0m\u001b[0;34m'alpha_002_early_stopping.h5'\u001b[0m\u001b[0;34m)\u001b[0m\u001b[0;34m\u001b[0m\u001b[0m\n\u001b[0m",
            "\u001b[0;32m/usr/local/lib/python3.5/dist-packages/tensorflow_core/python/keras/engine/network.py\u001b[0m in \u001b[0;36msave\u001b[0;34m(self, filepath, overwrite, include_optimizer, save_format, signatures, options)\u001b[0m\n\u001b[1;32m   1006\u001b[0m     \"\"\"\n\u001b[1;32m   1007\u001b[0m     save.save_model(self, filepath, overwrite, include_optimizer, save_format,\n\u001b[0;32m-> 1008\u001b[0;31m                     signatures, options)\n\u001b[0m\u001b[1;32m   1009\u001b[0m \u001b[0;34m\u001b[0m\u001b[0m\n\u001b[1;32m   1010\u001b[0m   \u001b[0;32mdef\u001b[0m \u001b[0msave_weights\u001b[0m\u001b[0;34m(\u001b[0m\u001b[0mself\u001b[0m\u001b[0;34m,\u001b[0m \u001b[0mfilepath\u001b[0m\u001b[0;34m,\u001b[0m \u001b[0moverwrite\u001b[0m\u001b[0;34m=\u001b[0m\u001b[0;32mTrue\u001b[0m\u001b[0;34m,\u001b[0m \u001b[0msave_format\u001b[0m\u001b[0;34m=\u001b[0m\u001b[0;32mNone\u001b[0m\u001b[0;34m)\u001b[0m\u001b[0;34m:\u001b[0m\u001b[0;34m\u001b[0m\u001b[0m\n",
            "\u001b[0;32m/usr/local/lib/python3.5/dist-packages/tensorflow_core/python/keras/saving/save.py\u001b[0m in \u001b[0;36msave_model\u001b[0;34m(model, filepath, overwrite, include_optimizer, save_format, signatures, options)\u001b[0m\n\u001b[1;32m    110\u001b[0m           'or using `save_weights`.')\n\u001b[1;32m    111\u001b[0m     hdf5_format.save_model_to_hdf5(\n\u001b[0;32m--> 112\u001b[0;31m         model, filepath, overwrite, include_optimizer)\n\u001b[0m\u001b[1;32m    113\u001b[0m   \u001b[0;32melse\u001b[0m\u001b[0;34m:\u001b[0m\u001b[0;34m\u001b[0m\u001b[0m\n\u001b[1;32m    114\u001b[0m     saved_model_save.save(model, filepath, overwrite, include_optimizer,\n",
            "\u001b[0;32m/usr/local/lib/python3.5/dist-packages/tensorflow_core/python/keras/saving/hdf5_format.py\u001b[0m in \u001b[0;36msave_model_to_hdf5\u001b[0;34m(model, filepath, overwrite, include_optimizer)\u001b[0m\n\u001b[1;32m     97\u001b[0m \u001b[0;34m\u001b[0m\u001b[0m\n\u001b[1;32m     98\u001b[0m   \u001b[0;32mtry\u001b[0m\u001b[0;34m:\u001b[0m\u001b[0;34m\u001b[0m\u001b[0m\n\u001b[0;32m---> 99\u001b[0;31m     \u001b[0mmodel_metadata\u001b[0m \u001b[0;34m=\u001b[0m \u001b[0msaving_utils\u001b[0m\u001b[0;34m.\u001b[0m\u001b[0mmodel_metadata\u001b[0m\u001b[0;34m(\u001b[0m\u001b[0mmodel\u001b[0m\u001b[0;34m,\u001b[0m \u001b[0minclude_optimizer\u001b[0m\u001b[0;34m)\u001b[0m\u001b[0;34m\u001b[0m\u001b[0m\n\u001b[0m\u001b[1;32m    100\u001b[0m     \u001b[0;32mfor\u001b[0m \u001b[0mk\u001b[0m\u001b[0;34m,\u001b[0m \u001b[0mv\u001b[0m \u001b[0;32min\u001b[0m \u001b[0mmodel_metadata\u001b[0m\u001b[0;34m.\u001b[0m\u001b[0mitems\u001b[0m\u001b[0;34m(\u001b[0m\u001b[0;34m)\u001b[0m\u001b[0;34m:\u001b[0m\u001b[0;34m\u001b[0m\u001b[0m\n\u001b[1;32m    101\u001b[0m       \u001b[0;32mif\u001b[0m \u001b[0misinstance\u001b[0m\u001b[0;34m(\u001b[0m\u001b[0mv\u001b[0m\u001b[0;34m,\u001b[0m \u001b[0;34m(\u001b[0m\u001b[0mdict\u001b[0m\u001b[0;34m,\u001b[0m \u001b[0mlist\u001b[0m\u001b[0;34m,\u001b[0m \u001b[0mtuple\u001b[0m\u001b[0;34m)\u001b[0m\u001b[0;34m)\u001b[0m\u001b[0;34m:\u001b[0m\u001b[0;34m\u001b[0m\u001b[0m\n",
            "\u001b[0;32m/usr/local/lib/python3.5/dist-packages/tensorflow_core/python/keras/saving/saving_utils.py\u001b[0m in \u001b[0;36mmodel_metadata\u001b[0;34m(model, include_optimizer, require_config)\u001b[0m\n\u001b[1;32m    170\u001b[0m   \u001b[0;32mexcept\u001b[0m \u001b[0mNotImplementedError\u001b[0m \u001b[0;32mas\u001b[0m \u001b[0me\u001b[0m\u001b[0;34m:\u001b[0m\u001b[0;34m\u001b[0m\u001b[0m\n\u001b[1;32m    171\u001b[0m     \u001b[0;32mif\u001b[0m \u001b[0mrequire_config\u001b[0m\u001b[0;34m:\u001b[0m\u001b[0;34m\u001b[0m\u001b[0m\n\u001b[0;32m--> 172\u001b[0;31m       \u001b[0;32mraise\u001b[0m \u001b[0me\u001b[0m\u001b[0;34m\u001b[0m\u001b[0m\n\u001b[0m\u001b[1;32m    173\u001b[0m \u001b[0;34m\u001b[0m\u001b[0m\n\u001b[1;32m    174\u001b[0m   metadata = dict(\n",
            "\u001b[0;32m/usr/local/lib/python3.5/dist-packages/tensorflow_core/python/keras/saving/saving_utils.py\u001b[0m in \u001b[0;36mmodel_metadata\u001b[0;34m(model, include_optimizer, require_config)\u001b[0m\n\u001b[1;32m    167\u001b[0m   \u001b[0mmodel_config\u001b[0m \u001b[0;34m=\u001b[0m \u001b[0;34m{\u001b[0m\u001b[0;34m'class_name'\u001b[0m\u001b[0;34m:\u001b[0m \u001b[0mmodel\u001b[0m\u001b[0;34m.\u001b[0m\u001b[0m__class__\u001b[0m\u001b[0;34m.\u001b[0m\u001b[0m__name__\u001b[0m\u001b[0;34m}\u001b[0m\u001b[0;34m\u001b[0m\u001b[0m\n\u001b[1;32m    168\u001b[0m   \u001b[0;32mtry\u001b[0m\u001b[0;34m:\u001b[0m\u001b[0;34m\u001b[0m\u001b[0m\n\u001b[0;32m--> 169\u001b[0;31m     \u001b[0mmodel_config\u001b[0m\u001b[0;34m[\u001b[0m\u001b[0;34m'config'\u001b[0m\u001b[0;34m]\u001b[0m \u001b[0;34m=\u001b[0m \u001b[0mmodel\u001b[0m\u001b[0;34m.\u001b[0m\u001b[0mget_config\u001b[0m\u001b[0;34m(\u001b[0m\u001b[0;34m)\u001b[0m\u001b[0;34m\u001b[0m\u001b[0m\n\u001b[0m\u001b[1;32m    170\u001b[0m   \u001b[0;32mexcept\u001b[0m \u001b[0mNotImplementedError\u001b[0m \u001b[0;32mas\u001b[0m \u001b[0me\u001b[0m\u001b[0;34m:\u001b[0m\u001b[0;34m\u001b[0m\u001b[0m\n\u001b[1;32m    171\u001b[0m     \u001b[0;32mif\u001b[0m \u001b[0mrequire_config\u001b[0m\u001b[0;34m:\u001b[0m\u001b[0;34m\u001b[0m\u001b[0m\n",
            "\u001b[0;32m/usr/local/lib/python3.5/dist-packages/tensorflow_core/python/keras/engine/network.py\u001b[0m in \u001b[0;36mget_config\u001b[0;34m(self)\u001b[0m\n\u001b[1;32m    916\u001b[0m     \u001b[0;32mif\u001b[0m \u001b[0;32mnot\u001b[0m \u001b[0mself\u001b[0m\u001b[0;34m.\u001b[0m\u001b[0m_is_graph_network\u001b[0m\u001b[0;34m:\u001b[0m\u001b[0;34m\u001b[0m\u001b[0m\n\u001b[1;32m    917\u001b[0m       \u001b[0;32mraise\u001b[0m \u001b[0mNotImplementedError\u001b[0m\u001b[0;34m\u001b[0m\u001b[0m\n\u001b[0;32m--> 918\u001b[0;31m     \u001b[0;32mreturn\u001b[0m \u001b[0mcopy\u001b[0m\u001b[0;34m.\u001b[0m\u001b[0mdeepcopy\u001b[0m\u001b[0;34m(\u001b[0m\u001b[0mget_network_config\u001b[0m\u001b[0;34m(\u001b[0m\u001b[0mself\u001b[0m\u001b[0;34m)\u001b[0m\u001b[0;34m)\u001b[0m\u001b[0;34m\u001b[0m\u001b[0m\n\u001b[0m\u001b[1;32m    919\u001b[0m \u001b[0;34m\u001b[0m\u001b[0m\n\u001b[1;32m    920\u001b[0m   \u001b[0;34m@\u001b[0m\u001b[0mclassmethod\u001b[0m\u001b[0;34m\u001b[0m\u001b[0m\n",
            "\u001b[0;32m/usr/local/lib/python3.5/dist-packages/tensorflow_core/python/keras/engine/network.py\u001b[0m in \u001b[0;36mget_network_config\u001b[0;34m(network, serialize_layer_fn)\u001b[0m\n\u001b[1;32m   1991\u001b[0m           \u001b[0mfiltered_inbound_nodes\u001b[0m\u001b[0;34m.\u001b[0m\u001b[0mappend\u001b[0m\u001b[0;34m(\u001b[0m\u001b[0mnode_data\u001b[0m\u001b[0;34m)\u001b[0m\u001b[0;34m\u001b[0m\u001b[0m\n\u001b[1;32m   1992\u001b[0m \u001b[0;34m\u001b[0m\u001b[0m\n\u001b[0;32m-> 1993\u001b[0;31m     \u001b[0mlayer_config\u001b[0m \u001b[0;34m=\u001b[0m \u001b[0mserialize_layer_fn\u001b[0m\u001b[0;34m(\u001b[0m\u001b[0mlayer\u001b[0m\u001b[0;34m)\u001b[0m\u001b[0;34m\u001b[0m\u001b[0m\n\u001b[0m\u001b[1;32m   1994\u001b[0m     \u001b[0mlayer_config\u001b[0m\u001b[0;34m[\u001b[0m\u001b[0;34m'name'\u001b[0m\u001b[0;34m]\u001b[0m \u001b[0;34m=\u001b[0m \u001b[0mlayer\u001b[0m\u001b[0;34m.\u001b[0m\u001b[0mname\u001b[0m\u001b[0;34m\u001b[0m\u001b[0m\n\u001b[1;32m   1995\u001b[0m     \u001b[0mlayer_config\u001b[0m\u001b[0;34m[\u001b[0m\u001b[0;34m'inbound_nodes'\u001b[0m\u001b[0;34m]\u001b[0m \u001b[0;34m=\u001b[0m \u001b[0mfiltered_inbound_nodes\u001b[0m\u001b[0;34m\u001b[0m\u001b[0m\n",
            "\u001b[0;32m/usr/local/lib/python3.5/dist-packages/tensorflow_core/python/keras/utils/generic_utils.py\u001b[0m in \u001b[0;36mserialize_keras_object\u001b[0;34m(instance)\u001b[0m\n\u001b[1;32m    196\u001b[0m \u001b[0;34m\u001b[0m\u001b[0m\n\u001b[1;32m    197\u001b[0m   \u001b[0;32mif\u001b[0m \u001b[0mhasattr\u001b[0m\u001b[0;34m(\u001b[0m\u001b[0minstance\u001b[0m\u001b[0;34m,\u001b[0m \u001b[0;34m'get_config'\u001b[0m\u001b[0;34m)\u001b[0m\u001b[0;34m:\u001b[0m\u001b[0;34m\u001b[0m\u001b[0m\n\u001b[0;32m--> 198\u001b[0;31m     \u001b[0mconfig\u001b[0m \u001b[0;34m=\u001b[0m \u001b[0minstance\u001b[0m\u001b[0;34m.\u001b[0m\u001b[0mget_config\u001b[0m\u001b[0;34m(\u001b[0m\u001b[0;34m)\u001b[0m\u001b[0;34m\u001b[0m\u001b[0m\n\u001b[0m\u001b[1;32m    199\u001b[0m     \u001b[0mserialization_config\u001b[0m \u001b[0;34m=\u001b[0m \u001b[0;34m{\u001b[0m\u001b[0;34m}\u001b[0m\u001b[0;34m\u001b[0m\u001b[0m\n\u001b[1;32m    200\u001b[0m     \u001b[0;32mfor\u001b[0m \u001b[0mkey\u001b[0m\u001b[0;34m,\u001b[0m \u001b[0mitem\u001b[0m \u001b[0;32min\u001b[0m \u001b[0mconfig\u001b[0m\u001b[0;34m.\u001b[0m\u001b[0mitems\u001b[0m\u001b[0;34m(\u001b[0m\u001b[0;34m)\u001b[0m\u001b[0;34m:\u001b[0m\u001b[0;34m\u001b[0m\u001b[0m\n",
            "\u001b[0;32m/usr/local/lib/python3.5/dist-packages/tensorflow_core/python/keras/engine/base_layer.py\u001b[0m in \u001b[0;36mget_config\u001b[0;34m(self)\u001b[0m\n\u001b[1;32m    497\u001b[0m     \u001b[0;31m# or that `get_config` has been overridden:\u001b[0m\u001b[0;34m\u001b[0m\u001b[0;34m\u001b[0m\u001b[0m\n\u001b[1;32m    498\u001b[0m     \u001b[0;32mif\u001b[0m \u001b[0mlen\u001b[0m\u001b[0;34m(\u001b[0m\u001b[0mextra_args\u001b[0m\u001b[0;34m)\u001b[0m \u001b[0;34m>\u001b[0m \u001b[0;36m1\u001b[0m \u001b[0;32mand\u001b[0m \u001b[0mhasattr\u001b[0m\u001b[0;34m(\u001b[0m\u001b[0mself\u001b[0m\u001b[0;34m.\u001b[0m\u001b[0mget_config\u001b[0m\u001b[0;34m,\u001b[0m \u001b[0;34m'_is_default'\u001b[0m\u001b[0;34m)\u001b[0m\u001b[0;34m:\u001b[0m\u001b[0;34m\u001b[0m\u001b[0m\n\u001b[0;32m--> 499\u001b[0;31m       raise NotImplementedError('Layers with arguments in `__init__` must '\n\u001b[0m\u001b[1;32m    500\u001b[0m                                 'override `get_config`.')\n\u001b[1;32m    501\u001b[0m     \u001b[0;32mreturn\u001b[0m \u001b[0mconfig\u001b[0m\u001b[0;34m\u001b[0m\u001b[0m\n",
            "\u001b[0;31mNotImplementedError\u001b[0m: Layers with arguments in `__init__` must override `get_config`."
          ]
        }
      ]
    },
    {
      "cell_type": "code",
      "metadata": {
        "id": "aP9UjU3eKsn0",
        "colab_type": "code",
        "outputId": "1784c52d-682d-418f-a822-096ccf779a51",
        "colab": {
          "base_uri": "https://localhost:8080/",
          "height": 487
        }
      },
      "source": [
        "res_net_model.summary()"
      ],
      "execution_count": 0,
      "outputs": [
        {
          "output_type": "stream",
          "text": [
            "Model: \"model\"\n",
            "_________________________________________________________________\n",
            "Layer (type)                 Output Shape              Param #   \n",
            "=================================================================\n",
            "input_1 (InputLayer)         [(None, 100, 40)]         0         \n",
            "_________________________________________________________________\n",
            "conv1d (Conv1D)              (None, 100, 16)           2576      \n",
            "_________________________________________________________________\n",
            "max_pooling1d (MaxPooling1D) (None, 50, 16)            0         \n",
            "_________________________________________________________________\n",
            "residual_unit (ResidualUnit) (None, 50, 16)            2176      \n",
            "_________________________________________________________________\n",
            "residual_unit_1 (ResidualUni (None, 50, 16)            2176      \n",
            "_________________________________________________________________\n",
            "residual_unit_2 (ResidualUni (None, 50, 16)            2176      \n",
            "_________________________________________________________________\n",
            "residual_unit_3 (ResidualUni (None, 25, 32)            7040      \n",
            "_________________________________________________________________\n",
            "residual_unit_4 (ResidualUni (None, 25, 32)            8448      \n",
            "_________________________________________________________________\n",
            "global_average_pooling1d (Gl (None, 32)                0         \n",
            "_________________________________________________________________\n",
            "dense (Dense)                (None, 3)                 99        \n",
            "=================================================================\n",
            "Total params: 24,691\n",
            "Trainable params: 24,179\n",
            "Non-trainable params: 512\n",
            "_________________________________________________________________\n"
          ],
          "name": "stdout"
        }
      ]
    },
    {
      "cell_type": "code",
      "metadata": {
        "id": "fAGM3qGjK1Zj",
        "colab_type": "code",
        "colab": {}
      },
      "source": [
        ""
      ],
      "execution_count": 0,
      "outputs": []
    }
  ]
}