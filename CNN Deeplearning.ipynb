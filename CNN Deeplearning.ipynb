{
 "cells": [
  {
   "cell_type": "code",
   "execution_count": 1,
   "metadata": {},
   "outputs": [],
   "source": [
    "import os\n",
    "import pandas as pd\n",
    "import numpy as np\n",
    "%matplotlib inline\n",
    "import matplotlib.pyplot as plt\n",
    "import seaborn as sns\n",
    "import gc\n",
    "from tqdm import tqdm\n",
    "from sklearn.preprocessing import StandardScaler\n",
    "from sklearn.metrics import classification_report"
   ]
  },
  {
   "cell_type": "code",
   "execution_count": 2,
   "metadata": {},
   "outputs": [],
   "source": [
    "paths = 'coinbase_btc_usd/coinbase/btc_usd/l2_snapshots/100ms/'"
   ]
  },
  {
   "cell_type": "code",
   "execution_count": 3,
   "metadata": {},
   "outputs": [],
   "source": [
    "register = {}"
   ]
  },
  {
   "cell_type": "code",
   "execution_count": 4,
   "metadata": {},
   "outputs": [],
   "source": [
    "l2_snapshot = pd.DataFrame()"
   ]
  },
  {
   "cell_type": "code",
   "execution_count": 5,
   "metadata": {},
   "outputs": [
    {
     "name": "stdout",
     "output_type": "stream",
     "text": [
      "(566480, 200)\n",
      "(533024, 200)\n",
      "(517431, 200)\n",
      "(529814, 200)\n",
      "(537967, 200)\n",
      "(511850, 200)\n",
      "(545960, 200)\n",
      "(561058, 200)\n",
      "(535563, 200)\n"
     ]
    }
   ],
   "source": [
    "count = 0\n",
    "day = pd.DataFrame()\n",
    "i = 0\n",
    "for x in os.listdir(paths):\n",
    "    path = paths+x\n",
    "    temp = pd.read_parquet(path)\n",
    "    if count%24 == 0:\n",
    "        day = pd.read_parquet(path)\n",
    "    else:\n",
    "        day = pd.concat([day,temp])\n",
    "  \n",
    "    i+=1\n",
    "    count +=1\n",
    "\n",
    "    if count%24 == 0:\n",
    "        flag = not register\n",
    "        day = day.dropna()\n",
    "        print(day.shape)\n",
    "        result = []\n",
    "        for cols in day.columns:\n",
    "            values = day[cols].to_numpy()\n",
    "            mean = np.mean(values)\n",
    "            std = np.std(values)\n",
    "            result.append([cols,[mean,std]])\n",
    "        register[count/24] = result\n",
    "        if not flag:\n",
    "            for l in range(200):\n",
    "                prev_stat = register[(count/24)-1]\n",
    "                col_name = prev_stat[l][0]\n",
    "                col_mean = prev_stat[l][1][0]\n",
    "                col_std = prev_stat[l][1][1]\n",
    "                values = day[col_name].to_numpy()\n",
    "                values = (values - col_mean)/col_std\n",
    "                day[col_name] = values\n",
    "            l2_snapshot = pd.concat([day,l2_snapshot])\n",
    "        del day\n",
    "  \n",
    "    if i>240:\n",
    "        break"
   ]
  },
  {
   "cell_type": "code",
   "execution_count": 6,
   "metadata": {},
   "outputs": [],
   "source": [
    "def generate_features_labels(df,ask, bid,k=20, alpha = 10e-5):\n",
    "    df_ = df.copy()\n",
    "    df_['mid_price'] = (df_[ask].to_numpy()+df_[bid].to_numpy())/2\n",
    "    df_['target'] = 1\n",
    "    index = df_.columns.get_loc('mid_price')\n",
    "    target_index = df_.columns.get_loc('target')\n",
    "    shape = df_.shape[0]\n",
    "    y = df_['target'].to_numpy()\n",
    "    for i in tqdm(range(k,shape-k)):\n",
    "        if i==k:\n",
    "            m_b = np.mean(df_.iloc[(i-k):i, index].to_numpy())\n",
    "            m_a = np.mean(df_.iloc[i+1:(i+k+1), index].to_numpy())\n",
    "            val = df_.iloc[i-k,index]\n",
    "            valB = df_.iloc[i+1, index]\n",
    "        else:\n",
    "            curr_val = df_.iloc[i-1,index]\n",
    "            curr_valB = df_.iloc[i+k, index]\n",
    "            m_b = (m_b*k+(curr_val)-(val))/k\n",
    "            m_a = (m_a*k+(curr_valB - valB))/k\n",
    "            val = df_.iloc[(i-k),index]\n",
    "            valB = df_.iloc[(i+1), index]\n",
    "\n",
    "        if (m_b > m_a*(1+alpha)):\n",
    "            y[i] = 2\n",
    "        if (m_b < m_a*(1-alpha)):\n",
    "            y[i] = 0\n",
    "\n",
    "    y = y[k:shape-k]\n",
    "    X = df.iloc[k:shape-k,:].to_numpy()\n",
    "    return X,y"
   ]
  },
  {
   "cell_type": "code",
   "execution_count": 7,
   "metadata": {},
   "outputs": [
    {
     "name": "stderr",
     "output_type": "stream",
     "text": [
      "100%|██████████| 4272627/4272627 [03:07<00:00, 22755.24it/s]\n",
      "100%|██████████| 4272627/4272627 [03:07<00:00, 22784.42it/s]\n",
      "100%|██████████| 4272627/4272627 [03:07<00:00, 22763.23it/s]\n",
      "100%|██████████| 4272627/4272627 [03:06<00:00, 22884.57it/s]\n",
      "100%|██████████| 4272627/4272627 [03:07<00:00, 22804.80it/s]\n",
      "100%|██████████| 4272627/4272627 [03:06<00:00, 22937.27it/s]\n",
      "100%|██████████| 4272627/4272627 [03:08<00:00, 22718.67it/s]\n",
      "100%|██████████| 4272627/4272627 [03:07<00:00, 22792.67it/s]\n",
      "100%|██████████| 4272627/4272627 [03:06<00:00, 22857.50it/s]\n",
      "100%|██████████| 4272627/4272627 [03:06<00:00, 22967.97it/s]\n"
     ]
    }
   ],
   "source": [
    "# GridSearch\n",
    "min_ = float('inf')\n",
    "minI = 0\n",
    "for i in np.logspace(0,-8,10, endpoint = True):\n",
    "    X,y = generate_features_labels(l2_snapshot, ask='a1', bid = 'b1', alpha=i)\n",
    "    y_ = pd.Series(y)\n",
    "    temp = y_.value_counts()\n",
    "    a,b,c = temp[0], temp[1], temp[2]\n",
    "    sum_ = a+b+c\n",
    "    l2 = ((1/3-(a/sum_))*100)**2 + ((1/3-(b/sum_))*100)**2 + ((1/3-(c/sum_))*100)**2\n",
    "    if l2 < min_:\n",
    "        min_ = l2\n",
    "        minI = i\n",
    "    del X,y,temp"
   ]
  },
  {
   "cell_type": "code",
   "execution_count": null,
   "metadata": {},
   "outputs": [],
   "source": [
    "# GridSearch\n",
    "min_ = float('inf')\n",
    "minI = 0\n",
    "for i in np.logspace(0,-8,10, endpoint = True):\n",
    "    X,y = generate_features_labels(l2_snapshot, ask='a1', bid = 'b1', alpha=i)\n",
    "    y_ = pd.Series(y)\n",
    "    temp = y_.value_counts()\n",
    "    a,b,c = temp[0], temp[1], temp[2]\n",
    "    sum_ = a+b+c\n",
    "    l2 = ((1/3-(a/sum_))*100)**2 + ((1/3-(b/sum_))*100)**2 + ((1/3-(c/sum_))*100)**2\n",
    "    if l2 < min_:\n",
    "        min_ = l2\n",
    "        minI = i\n",
    "    del X,y,temp"
   ]
  },
  {
   "cell_type": "code",
   "execution_count": 8,
   "metadata": {},
   "outputs": [
    {
     "name": "stdout",
     "output_type": "stream",
     "text": [
      "7.742636826811277e-08 0.034751453285264196\n"
     ]
    }
   ],
   "source": [
    "print(minI, min_)"
   ]
  },
  {
   "cell_type": "code",
   "execution_count": null,
   "metadata": {},
   "outputs": [
    {
     "name": "stderr",
     "output_type": "stream",
     "text": [
      " 53%|█████▎    | 2282334/4272627 [01:41<01:27, 22744.08it/s]"
     ]
    }
   ],
   "source": [
    "X,y = generate_features_labels(l2_snapshot, ask='a1', bid = 'b1', alpha=minI)"
   ]
  },
  {
   "cell_type": "code",
   "execution_count": null,
   "metadata": {},
   "outputs": [],
   "source": [
    "X = X.astype('float16')\n",
    "y = y.astype('int')"
   ]
  },
  {
   "cell_type": "code",
   "execution_count": null,
   "metadata": {
    "scrolled": true
   },
   "outputs": [],
   "source": [
    "X.nbytes/(1024*1024*1024)"
   ]
  },
  {
   "cell_type": "code",
   "execution_count": null,
   "metadata": {},
   "outputs": [],
   "source": [
    "sns.countplot(x = y)"
   ]
  },
  {
   "cell_type": "code",
   "execution_count": 11,
   "metadata": {},
   "outputs": [],
   "source": [
    "T = 100\n",
    "D = 200\n",
    "N = len(X) - T"
   ]
  },
  {
   "cell_type": "code",
   "execution_count": 12,
   "metadata": {},
   "outputs": [],
   "source": [
    "trainPart = 3176046"
   ]
  },
  {
   "cell_type": "code",
   "execution_count": 13,
   "metadata": {},
   "outputs": [],
   "source": [
    "X_train = np.zeros((trainPart, T, D), dtype = 'float16')\n",
    "y_train = np.zeros(trainPart, dtype = 'float16')\n",
    "\n",
    "#Preparing the time series data using timestep of 100 and no of features = 200\n",
    "for t in range(trainPart):\n",
    "    X_train[t, :, :] = X[t:t+T]\n",
    "    y_train[t] = y[t+T] \n"
   ]
  },
  {
   "cell_type": "code",
   "execution_count": 14,
   "metadata": {},
   "outputs": [
    {
     "name": "stdout",
     "output_type": "stream",
     "text": [
      "X_train - Before: 118.31693351268768 GB float16\n"
     ]
    }
   ],
   "source": [
    "print('X_train - Before: {} GB'.format(X_train.nbytes/1024**3), X_train.dtype)"
   ]
  },
  {
   "cell_type": "code",
   "execution_count": 15,
   "metadata": {},
   "outputs": [
    {
     "name": "stdout",
     "output_type": "stream",
     "text": [
      "y_train - Before: 0.005915846675634384 GB float16\n"
     ]
    }
   ],
   "source": [
    "print('y_train - Before: {} GB'.format(y_train.nbytes/1024**3), y_train.dtype)"
   ]
  },
  {
   "cell_type": "code",
   "execution_count": 16,
   "metadata": {},
   "outputs": [
    {
     "name": "stdout",
     "output_type": "stream",
     "text": [
      "X_test - Before: 40.84710031747818 GB float16\n",
      "y_test - Before: 0.002042355015873909 GB float16\n"
     ]
    }
   ],
   "source": [
    "X_test = np.zeros((N - trainPart, T, D), dtype='float16')\n",
    "y_test = np.zeros(N - trainPart, dtype='float16')\n",
    "\n",
    "#Preparing the time series data using timestep of 100 and no of features = 200\n",
    "for k in range(N - trainPart):\n",
    "    t = k + trainPart\n",
    "    X_test[k, :, :] = X[t:t+T]\n",
    "    y_test[k] = y[t+T]\n",
    "\n",
    "print('X_test - Before: {} GB'.format(X_test.nbytes/1024**3), X_test.dtype)\n",
    "print('y_test - Before: {} GB'.format(y_test.nbytes/1024**3), y_test.dtype)"
   ]
  },
  {
   "cell_type": "code",
   "execution_count": 17,
   "metadata": {},
   "outputs": [],
   "source": [
    "del X, y, l2_snapshot"
   ]
  },
  {
   "cell_type": "code",
   "execution_count": 18,
   "metadata": {},
   "outputs": [
    {
     "name": "stdout",
     "output_type": "stream",
     "text": [
      "2.1.0\n"
     ]
    }
   ],
   "source": [
    "import tensorflow as tf\n",
    "print(tf.__version__)"
   ]
  },
  {
   "cell_type": "code",
   "execution_count": 19,
   "metadata": {},
   "outputs": [],
   "source": [
    "from tensorflow.keras.layers import Input, Conv1D, Conv2D, Flatten, MaxPooling1D, MaxPooling2D, Dense, LeakyReLU\n",
    "from tensorflow.keras.models import Model\n",
    "from tensorflow.keras.optimizers import SGD, Adam"
   ]
  },
  {
   "cell_type": "code",
   "execution_count": 20,
   "metadata": {},
   "outputs": [],
   "source": [
    "X_train = np.expand_dims(X_train, -1)\n",
    "X_test = np.expand_dims(X_test, -1)"
   ]
  },
  {
   "cell_type": "code",
   "execution_count": 21,
   "metadata": {},
   "outputs": [
    {
     "name": "stdout",
     "output_type": "stream",
     "text": [
      "Tensor(\"input_1:0\", shape=(None, 100, 200, 1), dtype=float32)\n",
      "(None, 97, 1, 16)\n",
      "(None, 97, 16)\n"
     ]
    }
   ],
   "source": [
    "i = Input(shape=X_train[0].shape)\n",
    "print(i)\n",
    "x = Conv2D(16, (4,D), activation=LeakyReLU(alpha=0.01))(i)\n",
    "print(x.shape)\n",
    "x = tf.keras.layers.Reshape(target_shape=(T-3,16))(x)\n",
    "print(x.shape)\n",
    "x = Conv1D(16, 4, activation=LeakyReLU(alpha=0.01))(x)\n",
    "x = MaxPooling1D(2)(x)\n",
    "#x = Conv1D(32, 3, activation=LeakyReLU(alpha=0.01))(x)\n",
    "x = Conv1D(32, 3, activation=LeakyReLU(alpha=0.01))(x)\n",
    "x = MaxPooling1D(2)(x)\n",
    "x = Flatten()(x)\n",
    "x = tf.keras.layers.Dropout(0.4)(x)\n",
    "x = Dense(32, activation=LeakyReLU(alpha=0.01))(x)\n",
    "x = Dense(32, activation=LeakyReLU(alpha=0.01))(x)\n",
    "x = Dense(3, activation='softmax')(x)\n",
    "\n",
    "model = Model(i,x)"
   ]
  },
  {
   "cell_type": "code",
   "execution_count": 22,
   "metadata": {},
   "outputs": [
    {
     "name": "stdout",
     "output_type": "stream",
     "text": [
      "Model: \"model\"\n",
      "_________________________________________________________________\n",
      "Layer (type)                 Output Shape              Param #   \n",
      "=================================================================\n",
      "input_1 (InputLayer)         [(None, 100, 200, 1)]     0         \n",
      "_________________________________________________________________\n",
      "conv2d (Conv2D)              (None, 97, 1, 16)         12816     \n",
      "_________________________________________________________________\n",
      "reshape (Reshape)            (None, 97, 16)            0         \n",
      "_________________________________________________________________\n",
      "conv1d (Conv1D)              (None, 94, 16)            1040      \n",
      "_________________________________________________________________\n",
      "max_pooling1d (MaxPooling1D) (None, 47, 16)            0         \n",
      "_________________________________________________________________\n",
      "conv1d_1 (Conv1D)            (None, 45, 32)            1568      \n",
      "_________________________________________________________________\n",
      "max_pooling1d_1 (MaxPooling1 (None, 22, 32)            0         \n",
      "_________________________________________________________________\n",
      "flatten (Flatten)            (None, 704)               0         \n",
      "_________________________________________________________________\n",
      "dropout (Dropout)            (None, 704)               0         \n",
      "_________________________________________________________________\n",
      "dense (Dense)                (None, 32)                22560     \n",
      "_________________________________________________________________\n",
      "dense_1 (Dense)              (None, 32)                1056      \n",
      "_________________________________________________________________\n",
      "dense_2 (Dense)              (None, 3)                 99        \n",
      "=================================================================\n",
      "Total params: 39,139\n",
      "Trainable params: 39,139\n",
      "Non-trainable params: 0\n",
      "_________________________________________________________________\n"
     ]
    }
   ],
   "source": [
    "model.summary()"
   ]
  },
  {
   "cell_type": "code",
   "execution_count": 23,
   "metadata": {},
   "outputs": [],
   "source": [
    "model.compile(optimizer='adam',\n",
    "              loss='sparse_categorical_crossentropy',\n",
    "              metrics=['accuracy'])"
   ]
  },
  {
   "cell_type": "code",
   "execution_count": 24,
   "metadata": {},
   "outputs": [
    {
     "name": "stdout",
     "output_type": "stream",
     "text": [
      "Train on 3176046 samples, validate on 1096481 samples\n",
      "Epoch 1/4\n",
      "3176046/3176046 [==============================] - 455s 143us/sample - loss: 0.5220 - accuracy: 0.7843 - val_loss: 0.4889 - val_accuracy: 0.7996\n",
      "Epoch 2/4\n",
      "3176046/3176046 [==============================] - 433s 136us/sample - loss: 0.4824 - accuracy: 0.8066 - val_loss: 0.4732 - val_accuracy: 0.8068\n",
      "Epoch 3/4\n",
      "3176046/3176046 [==============================] - 429s 135us/sample - loss: 0.4738 - accuracy: 0.8111 - val_loss: 0.4746 - val_accuracy: 0.8096\n",
      "Epoch 4/4\n",
      "3176046/3176046 [==============================] - 427s 134us/sample - loss: 0.4733 - accuracy: 0.8142 - val_loss: 0.4793 - val_accuracy: 0.8055\n"
     ]
    }
   ],
   "source": [
    "EPOCHS = 4\n",
    "BATCH_SIZE = 32\n",
    "r = model.fit(\n",
    "  X_train, y_train,\n",
    "  batch_size=BATCH_SIZE,\n",
    "  epochs=EPOCHS,\n",
    "  validation_data=(X_test, y_test),\n",
    ")"
   ]
  },
  {
   "cell_type": "code",
   "execution_count": 25,
   "metadata": {
    "scrolled": true
   },
   "outputs": [
    {
     "data": {
      "text/plain": [
       "<matplotlib.legend.Legend at 0x7f635d78efd0>"
      ]
     },
     "execution_count": 25,
     "metadata": {},
     "output_type": "execute_result"
    },
    {
     "data": {
      "image/png": "[encoded data removed]",
      "text/plain": [
       "<Figure size 432x288 with 1 Axes>"
      ]
     },
     "metadata": {
      "needs_background": "light"
     },
     "output_type": "display_data"
    }
   ],
   "source": [
    "sns.lineplot(x=range(1,EPOCHS+1),y=r.history['loss'])\n",
    "sns.lineplot(x=range(1,EPOCHS+1),y=r.history['val_loss'])\n",
    "plt.title('Model Cross Entropy Loss')\n",
    "plt.ylabel('Cross Entropy Loss')\n",
    "plt.xlabel('Epochs')\n",
    "plt.legend(['Training', 'Testing'], loc='upper left')"
   ]
  },
  {
   "cell_type": "code",
   "execution_count": null,
   "metadata": {},
   "outputs": [],
   "source": [
    "y_pred = model.predict(X_test).argmax(axis=1)"
   ]
  },
  {
   "cell_type": "code",
   "execution_count": null,
   "metadata": {},
   "outputs": [],
   "source": [
    "from sklearn.metrics import confusion_matrix\n",
    "\n",
    "cm = confusion_matrix(y_pred=y_pred, y_true=y_test)\n",
    "    \n",
    "cm = cm.astype('float') / cm.sum(axis=1)[:, np.newaxis]\n",
    "    \n",
    "ax=sns.heatmap(cm, annot=True, xticklabels=[0,1,2], yticklabels=[0,1,2], cmap='Blues')\n",
    "ax.set_ylim(3.0, 0)\n",
    "plt.show()"
   ]
  },
  {
   "cell_type": "code",
   "execution_count": null,
   "metadata": {},
   "outputs": [],
   "source": []
  }
 ],
 "metadata": {
  "kernelspec": {
   "display_name": "Python 3",
   "language": "python",
   "name": "python3"
  },
  "language_info": {
   "codemirror_mode": {
    "name": "ipython",
    "version": 3
   },
   "file_extension": ".py",
   "mimetype": "text/x-python",
   "name": "python",
   "nbconvert_exporter": "python",
   "pygments_lexer": "ipython3",
   "version": "3.5.3"
  }
 },
 "nbformat": 4,
 "nbformat_minor": 2
}
