{
  "nbformat": 4,
  "nbformat_minor": 0,
  "metadata": {
    "colab": {
      "name": "CoinBase.ipynb",
      "provenance": [],
      "collapsed_sections": [],
      "machine_shape": "hm",
      "include_colab_link": true
    },
    "kernelspec": {
      "name": "python3",
      "display_name": "Python 3"
    },
    "accelerator": "TPU"
  },
  "cells": [
    {
      "cell_type": "markdown",
      "metadata": {
        "id": "view-in-github",
        "colab_type": "text"
      },
      "source": [
        "<a href=\"https://colab.research.google.com/github/rkj26/deep-orderbook/blob/rakshit_jha/CoinBase.ipynb\" target=\"_parent\"><img src=\"https://colab.research.google.com/assets/colab-badge.svg\" alt=\"Open In Colab\"/></a>"
      ]
    },
    {
      "cell_type": "code",
      "metadata": {
        "id": "sh_SnT3l9HZz",
        "colab_type": "code",
        "colab": {}
      },
      "source": [
        "%%capture\n",
        "!wget -O dataset.7z https://www.dropbox.com/sh/w3qagq2ze9noxon/AACE6f4nkBAJaJEc7Nbf2nhla/coinbase_btc_usd.7z?dl=0"
      ],
      "execution_count": 0,
      "outputs": []
    },
    {
      "cell_type": "code",
      "metadata": {
        "id": "hYTd7ONy-IO9",
        "colab_type": "code",
        "colab": {}
      },
      "source": [
        "%%capture\n",
        "!pip install pyunpack\n",
        "!pip install patool"
      ],
      "execution_count": 0,
      "outputs": []
    },
    {
      "cell_type": "code",
      "metadata": {
        "id": "N4mqvERn9yr5",
        "colab_type": "code",
        "colab": {}
      },
      "source": [
        "from pyunpack import Archive"
      ],
      "execution_count": 0,
      "outputs": []
    },
    {
      "cell_type": "code",
      "metadata": {
        "id": "fmfVVJx0-GMx",
        "colab_type": "code",
        "colab": {}
      },
      "source": [
        "Archive('/content/dataset.7z').extractall(\"/content\")"
      ],
      "execution_count": 0,
      "outputs": []
    },
    {
      "cell_type": "code",
      "metadata": {
        "id": "rc5Q7S_b-c0p",
        "colab_type": "code",
        "colab": {}
      },
      "source": [
        "import os\n",
        "import pandas as pd\n",
        "import numpy as np\n",
        "%matplotlib inline\n",
        "import matplotlib.pyplot as plt\n",
        "import seaborn as sns\n",
        "import gc\n",
        "from tqdm import tqdm\n",
        "from sklearn.preprocessing import StandardScaler\n",
        "from sklearn.metrics import classification_report"
      ],
      "execution_count": 0,
      "outputs": []
    },
    {
      "cell_type": "code",
      "metadata": {
        "id": "33uRritzLow_",
        "colab_type": "code",
        "colab": {}
      },
      "source": [
        "path_ = '/content/coinbase_btc_usd/coinbase/btc_usd/l2_snapshots/100ms/'"
      ],
      "execution_count": 0,
      "outputs": []
    },
    {
      "cell_type": "code",
      "metadata": {
        "id": "Io0T4wiBJ5xz",
        "colab_type": "code",
        "colab": {}
      },
      "source": [
        "l2_snapshot = pd.read_parquet('/content/coinbase_btc_usd/coinbase/btc_usd/l2_snapshots/100ms/coinbase_btc_usd_l2_book_snapshots_depth50_2019_11_12_0000_0100.parquet')"
      ],
      "execution_count": 0,
      "outputs": []
    },
    {
      "cell_type": "code",
      "metadata": {
        "id": "w3x4QWVDeo3-",
        "colab_type": "code",
        "outputId": "9846a6b1-28aa-4b0e-baf9-521260a22567",
        "colab": {
          "base_uri": "https://localhost:8080/",
          "height": 369
        }
      },
      "source": [
        "l2_snapshot.head()"
      ],
      "execution_count": 0,
      "outputs": [
        {
          "output_type": "execute_result",
          "data": {
            "text/html": [
              "<div>\n",
              "<style scoped>\n",
              "    .dataframe tbody tr th:only-of-type {\n",
              "        vertical-align: middle;\n",
              "    }\n",
              "\n",
              "    .dataframe tbody tr th {\n",
              "        vertical-align: top;\n",
              "    }\n",
              "\n",
              "    .dataframe thead th {\n",
              "        text-align: right;\n",
              "    }\n",
              "</style>\n",
              "<table border=\"1\" class=\"dataframe\">\n",
              "  <thead>\n",
              "    <tr style=\"text-align: right;\">\n",
              "      <th></th>\n",
              "      <th>b1</th>\n",
              "      <th>b2</th>\n",
              "      <th>b3</th>\n",
              "      <th>b4</th>\n",
              "      <th>b5</th>\n",
              "      <th>b6</th>\n",
              "      <th>b7</th>\n",
              "      <th>b8</th>\n",
              "      <th>b9</th>\n",
              "      <th>b10</th>\n",
              "      <th>b11</th>\n",
              "      <th>b12</th>\n",
              "      <th>b13</th>\n",
              "      <th>b14</th>\n",
              "      <th>b15</th>\n",
              "      <th>b16</th>\n",
              "      <th>b17</th>\n",
              "      <th>b18</th>\n",
              "      <th>b19</th>\n",
              "      <th>b20</th>\n",
              "      <th>b21</th>\n",
              "      <th>b22</th>\n",
              "      <th>b23</th>\n",
              "      <th>b24</th>\n",
              "      <th>b25</th>\n",
              "      <th>b26</th>\n",
              "      <th>b27</th>\n",
              "      <th>b28</th>\n",
              "      <th>b29</th>\n",
              "      <th>b30</th>\n",
              "      <th>b31</th>\n",
              "      <th>b32</th>\n",
              "      <th>b33</th>\n",
              "      <th>b34</th>\n",
              "      <th>b35</th>\n",
              "      <th>b36</th>\n",
              "      <th>b37</th>\n",
              "      <th>b38</th>\n",
              "      <th>b39</th>\n",
              "      <th>b40</th>\n",
              "      <th>...</th>\n",
              "      <th>aq11</th>\n",
              "      <th>aq12</th>\n",
              "      <th>aq13</th>\n",
              "      <th>aq14</th>\n",
              "      <th>aq15</th>\n",
              "      <th>aq16</th>\n",
              "      <th>aq17</th>\n",
              "      <th>aq18</th>\n",
              "      <th>aq19</th>\n",
              "      <th>aq20</th>\n",
              "      <th>aq21</th>\n",
              "      <th>aq22</th>\n",
              "      <th>aq23</th>\n",
              "      <th>aq24</th>\n",
              "      <th>aq25</th>\n",
              "      <th>aq26</th>\n",
              "      <th>aq27</th>\n",
              "      <th>aq28</th>\n",
              "      <th>aq29</th>\n",
              "      <th>aq30</th>\n",
              "      <th>aq31</th>\n",
              "      <th>aq32</th>\n",
              "      <th>aq33</th>\n",
              "      <th>aq34</th>\n",
              "      <th>aq35</th>\n",
              "      <th>aq36</th>\n",
              "      <th>aq37</th>\n",
              "      <th>aq38</th>\n",
              "      <th>aq39</th>\n",
              "      <th>aq40</th>\n",
              "      <th>aq41</th>\n",
              "      <th>aq42</th>\n",
              "      <th>aq43</th>\n",
              "      <th>aq44</th>\n",
              "      <th>aq45</th>\n",
              "      <th>aq46</th>\n",
              "      <th>aq47</th>\n",
              "      <th>aq48</th>\n",
              "      <th>aq49</th>\n",
              "      <th>aq50</th>\n",
              "    </tr>\n",
              "    <tr>\n",
              "      <th>timestamp</th>\n",
              "      <th></th>\n",
              "      <th></th>\n",
              "      <th></th>\n",
              "      <th></th>\n",
              "      <th></th>\n",
              "      <th></th>\n",
              "      <th></th>\n",
              "      <th></th>\n",
              "      <th></th>\n",
              "      <th></th>\n",
              "      <th></th>\n",
              "      <th></th>\n",
              "      <th></th>\n",
              "      <th></th>\n",
              "      <th></th>\n",
              "      <th></th>\n",
              "      <th></th>\n",
              "      <th></th>\n",
              "      <th></th>\n",
              "      <th></th>\n",
              "      <th></th>\n",
              "      <th></th>\n",
              "      <th></th>\n",
              "      <th></th>\n",
              "      <th></th>\n",
              "      <th></th>\n",
              "      <th></th>\n",
              "      <th></th>\n",
              "      <th></th>\n",
              "      <th></th>\n",
              "      <th></th>\n",
              "      <th></th>\n",
              "      <th></th>\n",
              "      <th></th>\n",
              "      <th></th>\n",
              "      <th></th>\n",
              "      <th></th>\n",
              "      <th></th>\n",
              "      <th></th>\n",
              "      <th></th>\n",
              "      <th></th>\n",
              "      <th></th>\n",
              "      <th></th>\n",
              "      <th></th>\n",
              "      <th></th>\n",
              "      <th></th>\n",
              "      <th></th>\n",
              "      <th></th>\n",
              "      <th></th>\n",
              "      <th></th>\n",
              "      <th></th>\n",
              "      <th></th>\n",
              "      <th></th>\n",
              "      <th></th>\n",
              "      <th></th>\n",
              "      <th></th>\n",
              "      <th></th>\n",
              "      <th></th>\n",
              "      <th></th>\n",
              "      <th></th>\n",
              "      <th></th>\n",
              "      <th></th>\n",
              "      <th></th>\n",
              "      <th></th>\n",
              "      <th></th>\n",
              "      <th></th>\n",
              "      <th></th>\n",
              "      <th></th>\n",
              "      <th></th>\n",
              "      <th></th>\n",
              "      <th></th>\n",
              "      <th></th>\n",
              "      <th></th>\n",
              "      <th></th>\n",
              "      <th></th>\n",
              "      <th></th>\n",
              "      <th></th>\n",
              "      <th></th>\n",
              "      <th></th>\n",
              "      <th></th>\n",
              "      <th></th>\n",
              "    </tr>\n",
              "  </thead>\n",
              "  <tbody>\n",
              "    <tr>\n",
              "      <th>2019-11-12 00:00:00.000</th>\n",
              "      <td>8721.53</td>\n",
              "      <td>8720.59</td>\n",
              "      <td>8719.55</td>\n",
              "      <td>8719.50</td>\n",
              "      <td>8719.0</td>\n",
              "      <td>8718.02</td>\n",
              "      <td>8717.87</td>\n",
              "      <td>8717.85</td>\n",
              "      <td>8717.56</td>\n",
              "      <td>8716.06</td>\n",
              "      <td>8716.00</td>\n",
              "      <td>8715.29</td>\n",
              "      <td>8715.00</td>\n",
              "      <td>8714.97</td>\n",
              "      <td>8714.61</td>\n",
              "      <td>8714.20</td>\n",
              "      <td>8713.93</td>\n",
              "      <td>8712.43</td>\n",
              "      <td>8712.41</td>\n",
              "      <td>8712.09</td>\n",
              "      <td>8710.56</td>\n",
              "      <td>8710.55</td>\n",
              "      <td>8710.00</td>\n",
              "      <td>8708.91</td>\n",
              "      <td>8708.69</td>\n",
              "      <td>8708.68</td>\n",
              "      <td>8708.19</td>\n",
              "      <td>8708.13</td>\n",
              "      <td>8707.99</td>\n",
              "      <td>8705.89</td>\n",
              "      <td>8705.21</td>\n",
              "      <td>8705.00</td>\n",
              "      <td>8704.09</td>\n",
              "      <td>8704.08</td>\n",
              "      <td>8703.0</td>\n",
              "      <td>8702.34</td>\n",
              "      <td>8701.50</td>\n",
              "      <td>8700.99</td>\n",
              "      <td>8700.60</td>\n",
              "      <td>8700.36</td>\n",
              "      <td>...</td>\n",
              "      <td>0.08</td>\n",
              "      <td>0.630734</td>\n",
              "      <td>5.999000</td>\n",
              "      <td>1.116316</td>\n",
              "      <td>0.00224</td>\n",
              "      <td>1.00000</td>\n",
              "      <td>0.04</td>\n",
              "      <td>0.005</td>\n",
              "      <td>0.001889</td>\n",
              "      <td>4.100000</td>\n",
              "      <td>1.0</td>\n",
              "      <td>1.060263</td>\n",
              "      <td>1.000000</td>\n",
              "      <td>0.4099</td>\n",
              "      <td>2.0000</td>\n",
              "      <td>1.5</td>\n",
              "      <td>0.01</td>\n",
              "      <td>0.68713</td>\n",
              "      <td>0.25000</td>\n",
              "      <td>1.141294</td>\n",
              "      <td>3.500000</td>\n",
              "      <td>0.092358</td>\n",
              "      <td>0.688130</td>\n",
              "      <td>0.67100</td>\n",
              "      <td>0.2335</td>\n",
              "      <td>0.689853</td>\n",
              "      <td>0.747313</td>\n",
              "      <td>1.640000</td>\n",
              "      <td>1.042177</td>\n",
              "      <td>0.009135</td>\n",
              "      <td>8.200000</td>\n",
              "      <td>2.203</td>\n",
              "      <td>2.600</td>\n",
              "      <td>0.005</td>\n",
              "      <td>2.500</td>\n",
              "      <td>0.896321</td>\n",
              "      <td>0.766000</td>\n",
              "      <td>0.001737</td>\n",
              "      <td>1.820000</td>\n",
              "      <td>0.933419</td>\n",
              "    </tr>\n",
              "    <tr>\n",
              "      <th>2019-11-12 00:00:00.100</th>\n",
              "      <td>8721.53</td>\n",
              "      <td>8720.59</td>\n",
              "      <td>8719.56</td>\n",
              "      <td>8719.55</td>\n",
              "      <td>8719.0</td>\n",
              "      <td>8718.02</td>\n",
              "      <td>8717.87</td>\n",
              "      <td>8717.85</td>\n",
              "      <td>8717.56</td>\n",
              "      <td>8716.06</td>\n",
              "      <td>8716.00</td>\n",
              "      <td>8715.29</td>\n",
              "      <td>8715.00</td>\n",
              "      <td>8714.97</td>\n",
              "      <td>8714.61</td>\n",
              "      <td>8714.20</td>\n",
              "      <td>8713.93</td>\n",
              "      <td>8712.43</td>\n",
              "      <td>8712.41</td>\n",
              "      <td>8712.09</td>\n",
              "      <td>8710.56</td>\n",
              "      <td>8710.55</td>\n",
              "      <td>8710.00</td>\n",
              "      <td>8708.91</td>\n",
              "      <td>8708.69</td>\n",
              "      <td>8708.68</td>\n",
              "      <td>8708.19</td>\n",
              "      <td>8708.13</td>\n",
              "      <td>8707.99</td>\n",
              "      <td>8705.89</td>\n",
              "      <td>8705.21</td>\n",
              "      <td>8705.00</td>\n",
              "      <td>8704.09</td>\n",
              "      <td>8704.08</td>\n",
              "      <td>8703.0</td>\n",
              "      <td>8702.34</td>\n",
              "      <td>8701.50</td>\n",
              "      <td>8700.99</td>\n",
              "      <td>8700.60</td>\n",
              "      <td>8700.36</td>\n",
              "      <td>...</td>\n",
              "      <td>0.08</td>\n",
              "      <td>0.630734</td>\n",
              "      <td>5.999000</td>\n",
              "      <td>1.116316</td>\n",
              "      <td>0.00224</td>\n",
              "      <td>1.00000</td>\n",
              "      <td>0.04</td>\n",
              "      <td>0.005</td>\n",
              "      <td>0.001889</td>\n",
              "      <td>4.100000</td>\n",
              "      <td>1.0</td>\n",
              "      <td>1.060263</td>\n",
              "      <td>1.000000</td>\n",
              "      <td>0.4099</td>\n",
              "      <td>2.0000</td>\n",
              "      <td>1.5</td>\n",
              "      <td>0.01</td>\n",
              "      <td>0.68713</td>\n",
              "      <td>0.25000</td>\n",
              "      <td>1.141294</td>\n",
              "      <td>3.500000</td>\n",
              "      <td>0.092358</td>\n",
              "      <td>0.688130</td>\n",
              "      <td>0.67100</td>\n",
              "      <td>0.2335</td>\n",
              "      <td>0.689853</td>\n",
              "      <td>0.747313</td>\n",
              "      <td>1.640000</td>\n",
              "      <td>1.042177</td>\n",
              "      <td>0.009135</td>\n",
              "      <td>8.200000</td>\n",
              "      <td>2.203</td>\n",
              "      <td>2.600</td>\n",
              "      <td>0.005</td>\n",
              "      <td>2.500</td>\n",
              "      <td>0.896321</td>\n",
              "      <td>0.766000</td>\n",
              "      <td>0.001737</td>\n",
              "      <td>1.820000</td>\n",
              "      <td>0.933419</td>\n",
              "    </tr>\n",
              "    <tr>\n",
              "      <th>2019-11-12 00:00:00.200</th>\n",
              "      <td>8721.53</td>\n",
              "      <td>8720.59</td>\n",
              "      <td>8719.61</td>\n",
              "      <td>8719.56</td>\n",
              "      <td>8719.0</td>\n",
              "      <td>8718.02</td>\n",
              "      <td>8717.87</td>\n",
              "      <td>8717.85</td>\n",
              "      <td>8716.06</td>\n",
              "      <td>8716.00</td>\n",
              "      <td>8715.29</td>\n",
              "      <td>8715.00</td>\n",
              "      <td>8714.61</td>\n",
              "      <td>8714.20</td>\n",
              "      <td>8713.93</td>\n",
              "      <td>8712.43</td>\n",
              "      <td>8712.41</td>\n",
              "      <td>8712.09</td>\n",
              "      <td>8710.56</td>\n",
              "      <td>8710.55</td>\n",
              "      <td>8710.00</td>\n",
              "      <td>8708.91</td>\n",
              "      <td>8708.69</td>\n",
              "      <td>8708.68</td>\n",
              "      <td>8708.19</td>\n",
              "      <td>8708.13</td>\n",
              "      <td>8707.99</td>\n",
              "      <td>8705.89</td>\n",
              "      <td>8705.21</td>\n",
              "      <td>8705.00</td>\n",
              "      <td>8704.09</td>\n",
              "      <td>8704.08</td>\n",
              "      <td>8703.00</td>\n",
              "      <td>8702.34</td>\n",
              "      <td>8701.5</td>\n",
              "      <td>8700.99</td>\n",
              "      <td>8700.60</td>\n",
              "      <td>8700.36</td>\n",
              "      <td>8700.02</td>\n",
              "      <td>8700.00</td>\n",
              "      <td>...</td>\n",
              "      <td>1.00</td>\n",
              "      <td>0.080000</td>\n",
              "      <td>0.630734</td>\n",
              "      <td>5.999000</td>\n",
              "      <td>0.03030</td>\n",
              "      <td>0.00224</td>\n",
              "      <td>1.00</td>\n",
              "      <td>0.040</td>\n",
              "      <td>0.005000</td>\n",
              "      <td>0.001889</td>\n",
              "      <td>4.1</td>\n",
              "      <td>1.000000</td>\n",
              "      <td>1.060263</td>\n",
              "      <td>1.0000</td>\n",
              "      <td>0.4099</td>\n",
              "      <td>2.0</td>\n",
              "      <td>1.50</td>\n",
              "      <td>0.01000</td>\n",
              "      <td>0.68713</td>\n",
              "      <td>0.250000</td>\n",
              "      <td>1.141294</td>\n",
              "      <td>3.500000</td>\n",
              "      <td>0.092358</td>\n",
              "      <td>0.68813</td>\n",
              "      <td>0.6710</td>\n",
              "      <td>0.233500</td>\n",
              "      <td>0.689853</td>\n",
              "      <td>0.747313</td>\n",
              "      <td>1.640000</td>\n",
              "      <td>1.042177</td>\n",
              "      <td>0.009135</td>\n",
              "      <td>8.200</td>\n",
              "      <td>2.203</td>\n",
              "      <td>2.600</td>\n",
              "      <td>0.005</td>\n",
              "      <td>2.500000</td>\n",
              "      <td>0.896321</td>\n",
              "      <td>0.766000</td>\n",
              "      <td>0.001737</td>\n",
              "      <td>1.820000</td>\n",
              "    </tr>\n",
              "    <tr>\n",
              "      <th>2019-11-12 00:00:00.300</th>\n",
              "      <td>8721.53</td>\n",
              "      <td>8720.59</td>\n",
              "      <td>8719.61</td>\n",
              "      <td>8719.56</td>\n",
              "      <td>8719.0</td>\n",
              "      <td>8718.02</td>\n",
              "      <td>8718.00</td>\n",
              "      <td>8717.87</td>\n",
              "      <td>8717.85</td>\n",
              "      <td>8716.60</td>\n",
              "      <td>8716.06</td>\n",
              "      <td>8716.00</td>\n",
              "      <td>8715.29</td>\n",
              "      <td>8715.00</td>\n",
              "      <td>8714.61</td>\n",
              "      <td>8714.20</td>\n",
              "      <td>8713.93</td>\n",
              "      <td>8713.10</td>\n",
              "      <td>8712.41</td>\n",
              "      <td>8712.09</td>\n",
              "      <td>8710.56</td>\n",
              "      <td>8710.55</td>\n",
              "      <td>8710.26</td>\n",
              "      <td>8710.00</td>\n",
              "      <td>8708.91</td>\n",
              "      <td>8708.69</td>\n",
              "      <td>8708.19</td>\n",
              "      <td>8708.13</td>\n",
              "      <td>8707.99</td>\n",
              "      <td>8705.89</td>\n",
              "      <td>8705.00</td>\n",
              "      <td>8704.09</td>\n",
              "      <td>8704.08</td>\n",
              "      <td>8703.00</td>\n",
              "      <td>8701.5</td>\n",
              "      <td>8700.99</td>\n",
              "      <td>8700.60</td>\n",
              "      <td>8700.36</td>\n",
              "      <td>8700.02</td>\n",
              "      <td>8700.00</td>\n",
              "      <td>...</td>\n",
              "      <td>1.00</td>\n",
              "      <td>0.080000</td>\n",
              "      <td>0.630734</td>\n",
              "      <td>5.999000</td>\n",
              "      <td>0.03030</td>\n",
              "      <td>0.00224</td>\n",
              "      <td>1.00</td>\n",
              "      <td>0.040</td>\n",
              "      <td>0.005000</td>\n",
              "      <td>0.001889</td>\n",
              "      <td>4.1</td>\n",
              "      <td>1.000000</td>\n",
              "      <td>1.060263</td>\n",
              "      <td>1.0000</td>\n",
              "      <td>0.4099</td>\n",
              "      <td>2.0</td>\n",
              "      <td>1.50</td>\n",
              "      <td>0.01000</td>\n",
              "      <td>0.68713</td>\n",
              "      <td>0.250000</td>\n",
              "      <td>1.141294</td>\n",
              "      <td>3.500000</td>\n",
              "      <td>0.092358</td>\n",
              "      <td>0.68813</td>\n",
              "      <td>0.6710</td>\n",
              "      <td>0.233500</td>\n",
              "      <td>0.689853</td>\n",
              "      <td>0.747313</td>\n",
              "      <td>1.640000</td>\n",
              "      <td>1.042177</td>\n",
              "      <td>0.009135</td>\n",
              "      <td>8.200</td>\n",
              "      <td>2.203</td>\n",
              "      <td>2.600</td>\n",
              "      <td>0.005</td>\n",
              "      <td>2.500000</td>\n",
              "      <td>0.896321</td>\n",
              "      <td>0.766000</td>\n",
              "      <td>0.001737</td>\n",
              "      <td>1.820000</td>\n",
              "    </tr>\n",
              "    <tr>\n",
              "      <th>2019-11-12 00:00:00.400</th>\n",
              "      <td>8721.53</td>\n",
              "      <td>8720.59</td>\n",
              "      <td>8719.61</td>\n",
              "      <td>8719.56</td>\n",
              "      <td>8719.0</td>\n",
              "      <td>8718.99</td>\n",
              "      <td>8718.02</td>\n",
              "      <td>8718.00</td>\n",
              "      <td>8717.87</td>\n",
              "      <td>8717.85</td>\n",
              "      <td>8716.60</td>\n",
              "      <td>8716.06</td>\n",
              "      <td>8716.00</td>\n",
              "      <td>8715.29</td>\n",
              "      <td>8715.00</td>\n",
              "      <td>8714.61</td>\n",
              "      <td>8714.20</td>\n",
              "      <td>8713.93</td>\n",
              "      <td>8713.10</td>\n",
              "      <td>8712.41</td>\n",
              "      <td>8712.09</td>\n",
              "      <td>8710.56</td>\n",
              "      <td>8710.55</td>\n",
              "      <td>8710.26</td>\n",
              "      <td>8710.00</td>\n",
              "      <td>8708.91</td>\n",
              "      <td>8708.69</td>\n",
              "      <td>8708.19</td>\n",
              "      <td>8708.13</td>\n",
              "      <td>8707.99</td>\n",
              "      <td>8705.89</td>\n",
              "      <td>8705.00</td>\n",
              "      <td>8704.09</td>\n",
              "      <td>8704.08</td>\n",
              "      <td>8703.0</td>\n",
              "      <td>8701.50</td>\n",
              "      <td>8700.99</td>\n",
              "      <td>8700.60</td>\n",
              "      <td>8700.36</td>\n",
              "      <td>8700.02</td>\n",
              "      <td>...</td>\n",
              "      <td>1.00</td>\n",
              "      <td>0.080000</td>\n",
              "      <td>0.630734</td>\n",
              "      <td>5.999000</td>\n",
              "      <td>0.03030</td>\n",
              "      <td>0.00224</td>\n",
              "      <td>1.00</td>\n",
              "      <td>0.040</td>\n",
              "      <td>0.005000</td>\n",
              "      <td>0.001889</td>\n",
              "      <td>4.1</td>\n",
              "      <td>1.000000</td>\n",
              "      <td>1.060263</td>\n",
              "      <td>1.0000</td>\n",
              "      <td>0.4099</td>\n",
              "      <td>2.0</td>\n",
              "      <td>1.50</td>\n",
              "      <td>0.01000</td>\n",
              "      <td>0.68713</td>\n",
              "      <td>0.250000</td>\n",
              "      <td>1.141294</td>\n",
              "      <td>3.500000</td>\n",
              "      <td>0.092358</td>\n",
              "      <td>0.68813</td>\n",
              "      <td>0.6710</td>\n",
              "      <td>0.233500</td>\n",
              "      <td>0.689853</td>\n",
              "      <td>0.747313</td>\n",
              "      <td>1.640000</td>\n",
              "      <td>1.042177</td>\n",
              "      <td>0.009135</td>\n",
              "      <td>8.200</td>\n",
              "      <td>2.203</td>\n",
              "      <td>2.600</td>\n",
              "      <td>0.005</td>\n",
              "      <td>2.500000</td>\n",
              "      <td>0.896321</td>\n",
              "      <td>0.766000</td>\n",
              "      <td>0.001737</td>\n",
              "      <td>1.820000</td>\n",
              "    </tr>\n",
              "  </tbody>\n",
              "</table>\n",
              "<p>5 rows × 200 columns</p>\n",
              "</div>"
            ],
            "text/plain": [
              "                              b1       b2  ...      aq49      aq50\n",
              "timestamp                                  ...                    \n",
              "2019-11-12 00:00:00.000  8721.53  8720.59  ...  1.820000  0.933419\n",
              "2019-11-12 00:00:00.100  8721.53  8720.59  ...  1.820000  0.933419\n",
              "2019-11-12 00:00:00.200  8721.53  8720.59  ...  0.001737  1.820000\n",
              "2019-11-12 00:00:00.300  8721.53  8720.59  ...  0.001737  1.820000\n",
              "2019-11-12 00:00:00.400  8721.53  8720.59  ...  0.001737  1.820000\n",
              "\n",
              "[5 rows x 200 columns]"
            ]
          },
          "metadata": {
            "tags": []
          },
          "execution_count": 10
        }
      ]
    },
    {
      "cell_type": "code",
      "metadata": {
        "id": "4ED9NkndJkCK",
        "colab_type": "code",
        "outputId": "7eae8315-1311-4de5-d65a-9ec6fae86b04",
        "colab": {
          "base_uri": "https://localhost:8080/",
          "height": 221
        }
      },
      "source": [
        "i = 0\n",
        "for x in os.listdir(path_):\n",
        "  #Remove the if part to load the full dataset\n",
        "  if i > 10:\n",
        "    break\n",
        "  else:\n",
        "    if i == 0:\n",
        "      l2_snapshot = pd.read_parquet('/content/coinbase_btc_usd/coinbase/btc_usd/l2_snapshots/100ms/coinbase_btc_usd_l2_book_snapshots_depth50_2019_11_12_0000_0100.parquet')\n",
        "    else:\n",
        "      temp = pd.read_parquet(path_+x)\n",
        "      l2_snapshot_ = l2_snapshot.copy()\n",
        "      l2_snapshot = pd.concat([l2_snapshot_, temp])\n",
        "      del temp\n",
        "      del l2_snapshot_\n",
        "      gc.collect()\n",
        "    i = i+1\n",
        "print('Memory Usage: {} MB'.format(l2_snapshot.memory_usage().sum()/(1024**2)))"
      ],
      "execution_count": 0,
      "outputs": [
        {
          "output_type": "stream",
          "text": [
            "True\n",
            "True\n",
            "True\n",
            "True\n",
            "True\n",
            "True\n",
            "True\n",
            "True\n",
            "True\n",
            "True\n",
            "True\n",
            "Memory Usage: 607.2401504516602\n"
          ],
          "name": "stdout"
        }
      ]
    },
    {
      "cell_type": "code",
      "metadata": {
        "id": "5rzKlDvrzjyK",
        "colab_type": "code",
        "outputId": "f4d0b8d4-f0a8-4821-9d6b-f28b64c61f3d",
        "colab": {
          "base_uri": "https://localhost:8080/",
          "height": 34
        }
      },
      "source": [
        "print('Before dropping null values: {}'.format(l2_snapshot.shape))\n",
        "l2_snapshot.dropna(inplace=True)\n",
        "print('After dropping null values: {}'.format(l2_snapshot.shape))"
      ],
      "execution_count": 0,
      "outputs": [
        {
          "output_type": "execute_result",
          "data": {
            "text/plain": [
              "(395981, 200)"
            ]
          },
          "metadata": {
            "tags": []
          },
          "execution_count": 13
        }
      ]
    },
    {
      "cell_type": "code",
      "metadata": {
        "id": "KdEO-8eBHM4z",
        "colab_type": "code",
        "colab": {}
      },
      "source": [
        "# Function to generate the labels for learning\n",
        "def generate_features_labels(df,ask, bid,k=20, alpha = 10e-6):\n",
        "  df_ = df.copy()\n",
        "  df_['mid_price'] = (df_[ask]+df_[bid])/2\n",
        "  df_['target'] = 1\n",
        "  index = df_.columns.get_loc('mid_price')\n",
        "  target_index = df_.columns.get_loc('target')\n",
        "  shape = df_.shape[0]\n",
        "  for i in tqdm(range(k,shape-k)):\n",
        "    m_b = np.mean(df_.iloc[(i-k):i, index].values)\n",
        "    m_a = np.mean(df_.iloc[i+1:(i+k+1), index].values)\n",
        "\n",
        "    if (m_b > m_a*(1+alpha)):\n",
        "      df_.iloc[i,target_index] = 2\n",
        "    if (m_b < m_a*(1-alpha)):\n",
        "      df_.iloc[i,target_index] = 0\n",
        "\n",
        "  y = df_.iloc[k:shape-k, target_index].values\n",
        "  X = df.iloc[k:shape-k,:].values\n",
        "  #Free up memory by deleting not required dataframes.\n",
        "  del df_\n",
        "  del df\n",
        "  gc.collect()\n",
        "  return X,y"
      ],
      "execution_count": 0,
      "outputs": []
    },
    {
      "cell_type": "code",
      "metadata": {
        "id": "fDbvInqagtRk",
        "colab_type": "code",
        "outputId": "ffbbb26d-336c-41e8-c947-517fd6e1dbde",
        "colab": {
          "base_uri": "https://localhost:8080/",
          "height": 164
        }
      },
      "source": [
        "X,y = generate_features_labels(l2_snapshot, ask='a1', bid = 'b1')"
      ],
      "execution_count": 0,
      "outputs": [
        {
          "output_type": "error",
          "ename": "NameError",
          "evalue": "ignored",
          "traceback": [
            "\u001b[0;31m---------------------------------------------------------------------------\u001b[0m",
            "\u001b[0;31mNameError\u001b[0m                                 Traceback (most recent call last)",
            "\u001b[0;32m<ipython-input-1-98d986a922d5>\u001b[0m in \u001b[0;36m<module>\u001b[0;34m()\u001b[0m\n\u001b[0;32m----> 1\u001b[0;31m \u001b[0mX\u001b[0m\u001b[0;34m,\u001b[0m\u001b[0my\u001b[0m \u001b[0;34m=\u001b[0m \u001b[0mgenerate_features_labels\u001b[0m\u001b[0;34m(\u001b[0m\u001b[0ml2_snapshot\u001b[0m\u001b[0;34m,\u001b[0m \u001b[0mask\u001b[0m\u001b[0;34m=\u001b[0m\u001b[0;34m'a1'\u001b[0m\u001b[0;34m,\u001b[0m \u001b[0mbid\u001b[0m \u001b[0;34m=\u001b[0m \u001b[0;34m'b1'\u001b[0m\u001b[0;34m)\u001b[0m\u001b[0;34m\u001b[0m\u001b[0;34m\u001b[0m\u001b[0m\n\u001b[0m",
            "\u001b[0;31mNameError\u001b[0m: name 'generate_features_labels' is not defined"
          ]
        }
      ]
    },
    {
      "cell_type": "code",
      "metadata": {
        "id": "Uy_ivAgHDAqm",
        "colab_type": "code",
        "colab": {}
      },
      "source": [
        "T = 100\n",
        "D = 200\n",
        "N = len(X) - T"
      ],
      "execution_count": 0,
      "outputs": []
    },
    {
      "cell_type": "code",
      "metadata": {
        "id": "Kx7z59QgDRgL",
        "colab_type": "code",
        "colab": {}
      },
      "source": [
        "trainPart = int(len(X)*0.7)  #(70% Data for training and 30% for testing)\n",
        "scaler = StandardScaler()\n",
        "scaler.fit(X[:trainPart + T - 1])\n",
        "X = scaler.transform(X)"
      ],
      "execution_count": 0,
      "outputs": []
    },
    {
      "cell_type": "code",
      "metadata": {
        "colab_type": "code",
        "id": "7D-o4gGFq5lD",
        "outputId": "85e8c5b8-806b-4905-f6ad-a73ab5272f88",
        "colab": {
          "base_uri": "https://localhost:8080/",
          "height": 34
        }
      },
      "source": [
        "#Create the template structure of training set\n",
        "X_train = np.zeros((trainPart, T, D))\n",
        "Y_train = np.zeros(trainPart)\n",
        "\n",
        "#Preparing the time series data using timestep of 100 and no of features = 200\n",
        "for t in range(trainPart):\n",
        "  X_train[t, :, :] = X[t:t+T]\n",
        "  Y_train[t] = y[t+T] \n",
        "\n",
        "# Reducing X_train datasize memory usage\n",
        "print('X_train - Before: {} GB'.format(X_train.nbytes/1024**3))\n",
        "X_train = X_train.astype('float16')\n",
        "print('X_train - After: {} GB'.format(X_train.nbytes/1024**3))\n",
        "\n",
        "# Reducing Y_train datasize memory usage\n",
        "print('Y_train - before: {} GB'.format(Y_train.nbytes/1024**3))\n",
        "Y_train = Y_train.astype('int16')\n",
        "print('Y_train - After: {} GB'.format(Y_train.nbytes/1024**3))"
      ],
      "execution_count": 0,
      "outputs": [
        {
          "output_type": "stream",
          "text": [
            "26452.94189453125 1.3226470947265625\n"
          ],
          "name": "stdout"
        }
      ]
    },
    {
      "cell_type": "code",
      "metadata": {
        "id": "Q6FRnVV6EG1R",
        "colab_type": "code",
        "outputId": "cf03399a-8377-4699-da0c-272607160399",
        "colab": {
          "base_uri": "https://localhost:8080/",
          "height": 51
        }
      },
      "source": [
        "#Create the template structure of test set\n",
        "X_test = np.zeros((N - trainPart, T, D))\n",
        "Y_test = np.zeros(N - trainPart)\n",
        "\n",
        "#Preparing the time series data using timestep of 100 and no of features = 200\n",
        "for k in range(N - trainPart):\n",
        "  t = k + trainPart\n",
        "  X_test[k, :, :] = X[t:t+T]\n",
        "  Y_test[k] = y[t+T]\n",
        "\n",
        "# Reducing X_test datasize memory usage\n",
        "print('X_test - Before {} GB'.format(X_test.nbytes/1024**3))\n",
        "X_test = X_test.astype('float16')\n",
        "print('X_test - After {} GB'.format(X_test.nbytes/1024**3))\n",
        "\n",
        "# Reducing Y_test datasize memory usage\n",
        "print('Y_test - Before: {} GB'.format(Y_test.nbytes/1024**3))\n",
        "Y_test = Y_test.astype('int16')\n",
        "print('Y_test - After: {} GB'.format(Y_test.nbytes/1024**3))"
      ],
      "execution_count": 0,
      "outputs": [
        {
          "output_type": "stream",
          "text": [
            "Before 11321.71630859375 MB\n",
            "After 2830.4290771484375 MB\n"
          ],
          "name": "stdout"
        }
      ]
    },
    {
      "cell_type": "code",
      "metadata": {
        "id": "8EEo4XmdFYRv",
        "colab_type": "code",
        "outputId": "b1a3ce4b-6be8-4d99-cf93-c671cdfaaf89",
        "colab": {
          "base_uri": "https://localhost:8080/",
          "height": 119
        }
      },
      "source": [
        "# Install TensorFlow\n",
        "# !pip install -q tensorflow-gpu==2.0.0-beta1\n",
        "\n",
        "try:\n",
        "  %tensorflow_version 2.x  # Colab only.\n",
        "except Exception:\n",
        "  pass\n",
        "\n",
        "import tensorflow as tf\n",
        "print(tf.__version__)"
      ],
      "execution_count": 0,
      "outputs": [
        {
          "output_type": "stream",
          "text": [
            "`%tensorflow_version` only switches the major version: `1.x` or `2.x`.\n",
            "You set: `2.x  # Colab only.`. This will be interpreted as: `2.x`.\n",
            "\n",
            "\n",
            "TensorFlow 2.x selected.\n",
            "2.0.0\n"
          ],
          "name": "stdout"
        }
      ]
    },
    {
      "cell_type": "code",
      "metadata": {
        "id": "AisEvFPTjuZ0",
        "colab_type": "code",
        "colab": {}
      },
      "source": [
        "from tensorflow.keras.layers import Input, Conv1D, Conv2D, Flatten, MaxPooling1D, MaxPooling2D, Dense, LeakyReLU\n",
        "from tensorflow.keras.models import Model\n",
        "from tensorflow.keras.optimizers import SGD, Adam"
      ],
      "execution_count": 0,
      "outputs": []
    },
    {
      "cell_type": "code",
      "metadata": {
        "id": "FjeF7paIHkLt",
        "colab_type": "code",
        "colab": {}
      },
      "source": [
        "#Converting X_train and X_test for 2D Convolution\n",
        "X_train = np.expand_dims(X_train, -1)\n",
        "X_test = np.expand_dims(X_test, -1)"
      ],
      "execution_count": 0,
      "outputs": []
    },
    {
      "cell_type": "code",
      "metadata": {
        "id": "vkZo5eXYmkDd",
        "colab_type": "code",
        "outputId": "17e49e76-4bf7-4982-dbd6-a401fce7eb11",
        "colab": {
          "base_uri": "https://localhost:8080/",
          "height": 68
        }
      },
      "source": [
        "#Model architecture is as from the report\n",
        "#T = 100 from the above step for timesteps and D = 200 (no. of features) \n",
        "i = Input(shape=X_train[0].shape)\n",
        "print(i)\n",
        "x = Conv2D(16, (4,D), activation=LeakyReLU(alpha=0.01))(i)\n",
        "print(x.shape)\n",
        "x = tf.keras.layers.Reshape(target_shape=(T-3,16))(x)\n",
        "print(x.shape)\n",
        "x = Conv1D(16, 4, activation=LeakyReLU(alpha=0.01))(x)\n",
        "x = MaxPooling1D(2)(x)\n",
        "x = Conv1D(32, 3, activation=LeakyReLU(alpha=0.01))(x)\n",
        "x = Conv1D(32, 3, activation=LeakyReLU(alpha=0.01))(x)\n",
        "x = MaxPooling1D(2)(x)\n",
        "x = Flatten()(x)\n",
        "x = Dense(32, activation=LeakyReLU(alpha=0.01))(x)\n",
        "x = Dense(3, activation='softmax')(x)\n",
        "\n",
        "model = Model(i,x)"
      ],
      "execution_count": 0,
      "outputs": [
        {
          "output_type": "stream",
          "text": [
            "Tensor(\"input_1:0\", shape=(None, 100, 200, 1), dtype=float32)\n",
            "(None, 97, 1, 16)\n",
            "(None, 97, 16)\n"
          ],
          "name": "stdout"
        }
      ]
    },
    {
      "cell_type": "code",
      "metadata": {
        "id": "_iWtFhsNFUqr",
        "colab_type": "code",
        "outputId": "d01a29aa-f1de-4615-df38-75586eb327a0",
        "colab": {
          "base_uri": "https://localhost:8080/",
          "height": 527
        }
      },
      "source": [
        "#Printing Model Summary\n",
        "model.summary()"
      ],
      "execution_count": 0,
      "outputs": [
        {
          "output_type": "stream",
          "text": [
            "Model: \"model\"\n",
            "_________________________________________________________________\n",
            "Layer (type)                 Output Shape              Param #   \n",
            "=================================================================\n",
            "input_1 (InputLayer)         [(None, 100, 200, 1)]     0         \n",
            "_________________________________________________________________\n",
            "conv2d (Conv2D)              (None, 97, 1, 16)         12816     \n",
            "_________________________________________________________________\n",
            "reshape (Reshape)            (None, 97, 16)            0         \n",
            "_________________________________________________________________\n",
            "conv1d (Conv1D)              (None, 94, 16)            1040      \n",
            "_________________________________________________________________\n",
            "max_pooling1d (MaxPooling1D) (None, 47, 16)            0         \n",
            "_________________________________________________________________\n",
            "conv1d_1 (Conv1D)            (None, 45, 32)            1568      \n",
            "_________________________________________________________________\n",
            "conv1d_2 (Conv1D)            (None, 43, 32)            3104      \n",
            "_________________________________________________________________\n",
            "max_pooling1d_1 (MaxPooling1 (None, 21, 32)            0         \n",
            "_________________________________________________________________\n",
            "flatten (Flatten)            (None, 672)               0         \n",
            "_________________________________________________________________\n",
            "dense (Dense)                (None, 32)                21536     \n",
            "_________________________________________________________________\n",
            "dense_1 (Dense)              (None, 3)                 99        \n",
            "=================================================================\n",
            "Total params: 40,163\n",
            "Trainable params: 40,163\n",
            "Non-trainable params: 0\n",
            "_________________________________________________________________\n"
          ],
          "name": "stdout"
        }
      ]
    },
    {
      "cell_type": "code",
      "metadata": {
        "id": "zxcsMebPpWS-",
        "colab_type": "code",
        "colab": {}
      },
      "source": [
        "model.compile(optimizer='adam',\n",
        "              loss='sparse_categorical_crossentropy',\n",
        "              metrics=['accuracy'])\n",
        "#Accuracy is not a great metrics"
      ],
      "execution_count": 0,
      "outputs": []
    },
    {
      "cell_type": "code",
      "metadata": {
        "id": "QwRmHml2n42P",
        "colab_type": "code",
        "colab": {}
      },
      "source": [
        "from sklearn.utils.class_weight import compute_class_weight\n",
        "def compute_class_weight(y):\n",
        "    classes = np.unique(y)\n",
        "    class_weight = compute_class_weight(\"balanced\", classes, y)\n",
        "    class_weights = dict(zip(classes, class_weight))\n",
        "    return class_weights"
      ],
      "execution_count": 0,
      "outputs": []
    },
    {
      "cell_type": "code",
      "metadata": {
        "id": "HJMve9aBhUIw",
        "colab_type": "code",
        "outputId": "317f674b-da27-4cef-9580-3480e36e03bd",
        "colab": {
          "base_uri": "https://localhost:8080/",
          "height": 282
        }
      },
      "source": [
        "#computing class weights according to the percentage in training dataset\n",
        "class_weights = compute_class_weight(Y_train)"
      ],
      "execution_count": 0,
      "outputs": [
        {
          "output_type": "execute_result",
          "data": {
            "text/plain": [
              "<matplotlib.axes._subplots.AxesSubplot at 0x7fc85313a128>"
            ]
          },
          "metadata": {
            "tags": []
          },
          "execution_count": 76
        },
        {
          "output_type": "display_data",
          "data": {
            "image/png": "[encoded data removed]",
            "text/plain": [
              "<Figure size 432x288 with 1 Axes>"
            ]
          },
          "metadata": {
            "tags": []
          }
        }
      ]
    },
    {
      "cell_type": "code",
      "metadata": {
        "id": "jwab07y6Frhn",
        "colab_type": "code",
        "outputId": "272dd0b3-1850-4a52-889d-73e5a774cd55",
        "colab": {
          "base_uri": "https://localhost:8080/",
          "height": 782
        }
      },
      "source": [
        "EPOCHS = 50\n",
        "BATCH_SIZE = 16\n",
        "r = model.fit(\n",
        "  X_train, Y_train,\n",
        "  batch_size=BATCH_SIZE,\n",
        "  epochs=EPOCHS,\n",
        "  validation_data=(X_test, Y_test),\n",
        "  class_weight = class_weights\n",
        ")"
      ],
      "execution_count": 0,
      "outputs": [
        {
          "output_type": "stream",
          "text": [
            "Train on 173362 samples, validate on 74198 samples\n",
            "Epoch 1/50\n",
            "173362/173362 [==============================] - 168s 967us/sample - loss: 0.1457 - accuracy: 0.9306 - val_loss: 3.9394 - val_accuracy: 0.8041\n",
            "Epoch 2/50\n",
            "173362/173362 [==============================] - 164s 945us/sample - loss: 0.1443 - accuracy: 0.9284 - val_loss: 6.0285 - val_accuracy: 0.8263\n",
            "Epoch 3/50\n",
            "173362/173362 [==============================] - 163s 941us/sample - loss: 0.1321 - accuracy: 0.9351 - val_loss: 6.7715 - val_accuracy: 0.8327\n",
            "Epoch 4/50\n",
            "173362/173362 [==============================] - 166s 955us/sample - loss: 0.1318 - accuracy: 0.9359 - val_loss: 4.1682 - val_accuracy: 0.7835\n",
            "Epoch 5/50\n",
            "173362/173362 [==============================] - 165s 954us/sample - loss: 0.1280 - accuracy: 0.9386 - val_loss: 3.7676 - val_accuracy: 0.7809\n",
            "Epoch 6/50\n",
            "173362/173362 [==============================] - 165s 952us/sample - loss: 0.1151 - accuracy: 0.9453 - val_loss: 6.1028 - val_accuracy: 0.8367\n",
            "Epoch 7/50\n",
            "173362/173362 [==============================] - 163s 941us/sample - loss: 0.1185 - accuracy: 0.9447 - val_loss: 4.4522 - val_accuracy: 0.7688\n",
            "Epoch 8/50\n",
            "173362/173362 [==============================] - 167s 962us/sample - loss: 0.1025 - accuracy: 0.9500 - val_loss: 5.8868 - val_accuracy: 0.8475\n",
            "Epoch 9/50\n",
            "173362/173362 [==============================] - 163s 941us/sample - loss: 0.0933 - accuracy: 0.9538 - val_loss: 6.2162 - val_accuracy: 0.8342\n",
            "Epoch 10/50\n",
            "173362/173362 [==============================] - 165s 954us/sample - loss: 0.0986 - accuracy: 0.9514 - val_loss: 8.7974 - val_accuracy: 0.8624\n",
            "Epoch 11/50\n",
            "173362/173362 [==============================] - 169s 973us/sample - loss: 0.1081 - accuracy: 0.9490 - val_loss: 6.7938 - val_accuracy: 0.8327\n",
            "Epoch 12/50\n",
            "173362/173362 [==============================] - 168s 972us/sample - loss: 0.0964 - accuracy: 0.9536 - val_loss: 6.8921 - val_accuracy: 0.8242\n",
            "Epoch 13/50\n",
            "173362/173362 [==============================] - 166s 960us/sample - loss: 0.0911 - accuracy: 0.9552 - val_loss: 7.0952 - val_accuracy: 0.8334\n",
            "Epoch 14/50\n",
            "173362/173362 [==============================] - 167s 966us/sample - loss: 0.0833 - accuracy: 0.9566 - val_loss: 6.8688 - val_accuracy: 0.8075\n",
            "Epoch 15/50\n",
            "173362/173362 [==============================] - 168s 970us/sample - loss: 0.0917 - accuracy: 0.9541 - val_loss: 10.9260 - val_accuracy: 0.8504\n",
            "Epoch 16/50\n",
            "173362/173362 [==============================] - 168s 970us/sample - loss: 0.0877 - accuracy: 0.9589 - val_loss: 10.1090 - val_accuracy: 0.8641\n",
            "Epoch 17/50\n",
            "173362/173362 [==============================] - 171s 984us/sample - loss: 0.0847 - accuracy: 0.9579 - val_loss: 6.5370 - val_accuracy: 0.7600\n",
            "Epoch 18/50\n",
            "173362/173362 [==============================] - 170s 978us/sample - loss: 0.0877 - accuracy: 0.9561 - val_loss: 7.4623 - val_accuracy: 0.8076\n",
            "Epoch 19/50\n",
            "173362/173362 [==============================] - 169s 974us/sample - loss: 0.0848 - accuracy: 0.9583 - val_loss: 9.2325 - val_accuracy: 0.8520\n",
            "Epoch 20/50\n",
            "173362/173362 [==============================] - 169s 977us/sample - loss: 0.0819 - accuracy: 0.9592 - val_loss: 6.8327 - val_accuracy: 0.7472\n",
            "Epoch 21/50\n",
            "173362/173362 [==============================] - 171s 985us/sample - loss: 0.0907 - accuracy: 0.9554 - val_loss: 9.4762 - val_accuracy: 0.8124\n",
            "Epoch 22/50\n",
            "115488/173362 [==================>...........] - ETA: 48s - loss: 0.0722 - accuracy: 0.9626Buffered data was truncated after reaching the output size limit."
          ],
          "name": "stdout"
        }
      ]
    },
    {
      "cell_type": "code",
      "metadata": {
        "id": "lcf2wsdzSSoI",
        "colab_type": "code",
        "colab": {}
      },
      "source": [
        "sns.lineplot(x=range(1,EPOCHS+1),y=r.history['loss'])\n",
        "sns.lineplot(x=range(1,EPOCHS+1),y=r.history['val_loss'])\n",
        "plt.title('Model Cross Entropy Loss')\n",
        "plt.ylabel('Cross Entropy Loss')\n",
        "plt.xlabel('Epochs')\n",
        "plt.legend(['Training', 'Testing'], loc='upper left')"
      ],
      "execution_count": 0,
      "outputs": []
    },
    {
      "cell_type": "code",
      "metadata": {
        "id": "qyGI6Al2n30C",
        "colab_type": "code",
        "colab": {}
      },
      "source": [
        "p_test = model.predict(X_test).argmax(axis=1)"
      ],
      "execution_count": 0,
      "outputs": []
    },
    {
      "cell_type": "code",
      "metadata": {
        "id": "vJugwyIJI_DC",
        "colab_type": "code",
        "outputId": "8421ed4e-e781-4c82-ecb6-173a98172a0c",
        "colab": {
          "base_uri": "https://localhost:8080/",
          "height": 136
        }
      },
      "source": [
        " model.predict(X_test)"
      ],
      "execution_count": 0,
      "outputs": [
        {
          "output_type": "execute_result",
          "data": {
            "text/plain": [
              "array([[9.9935645e-01, 6.4353470e-04, 5.4635085e-10],\n",
              "       [9.9902296e-01, 9.7708602e-04, 8.1950363e-10],\n",
              "       [9.9846858e-01, 1.5314259e-03, 1.1067330e-08],\n",
              "       ...,\n",
              "       [2.0005477e-03, 9.9799949e-01, 4.9733966e-08],\n",
              "       [9.9095714e-04, 9.9900901e-01, 5.0577714e-08],\n",
              "       [9.2293173e-03, 9.9077058e-01, 1.0115249e-07]], dtype=float32)"
            ]
          },
          "metadata": {
            "tags": []
          },
          "execution_count": 66
        }
      ]
    },
    {
      "cell_type": "code",
      "metadata": {
        "id": "WMhHGaX6i-oG",
        "colab_type": "code",
        "outputId": "2146a4d0-5980-4d29-ff3e-813d157354a8",
        "colab": {
          "base_uri": "https://localhost:8080/",
          "height": 269
        }
      },
      "source": [
        "# Plot confusion matrix\n",
        "from sklearn.metrics import confusion_matrix\n",
        "\n",
        "cm = confusion_matrix(y_pred=p_test, y_true=Y_test)\n",
        "    \n",
        "cm = cm.astype('float') / cm.sum(axis=1)[:, np.newaxis]\n",
        "    \n",
        "ax=sns.heatmap(cm, annot=True, xticklabels=[0,1,2], yticklabels=[0,1,2], cmap='Blues')\n",
        "ax.set_ylim(3.0, 0)\n",
        "plt.show()"
      ],
      "execution_count": 0,
      "outputs": [
        {
          "output_type": "display_data",
          "data": {
            "image/png": "[encoded data removed]",
            "text/plain": [
              "<Figure size 432x288 with 2 Axes>"
            ]
          },
          "metadata": {
            "tags": []
          }
        }
      ]
    },
    {
      "cell_type": "code",
      "metadata": {
        "id": "v_tLLfJA6IT0",
        "colab_type": "code",
        "outputId": "f08c0c72-3377-4551-b399-d651a12ebfa3",
        "colab": {
          "base_uri": "https://localhost:8080/",
          "height": 187
        }
      },
      "source": [
        "#Print the classification report\n",
        "print(classification_report(y_true= Y_test, y_pred = p_test))"
      ],
      "execution_count": 0,
      "outputs": [
        {
          "output_type": "stream",
          "text": [
            "              precision    recall  f1-score   support\n",
            "\n",
            "           0       0.10      0.17      0.13      3099\n",
            "           1       0.91      0.90      0.90     67169\n",
            "           2       0.10      0.07      0.08      3930\n",
            "\n",
            "    accuracy                           0.83     74198\n",
            "   macro avg       0.37      0.38      0.37     74198\n",
            "weighted avg       0.83      0.83      0.83     74198\n",
            "\n"
          ],
          "name": "stdout"
        }
      ]
    },
    {
      "cell_type": "code",
      "metadata": {
        "id": "PI1ofgzv6NiA",
        "colab_type": "code",
        "colab": {}
      },
      "source": [
        ""
      ],
      "execution_count": 0,
      "outputs": []
    }
  ]
}