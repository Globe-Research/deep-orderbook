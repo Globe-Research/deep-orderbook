{
 "cells": [
  {
   "cell_type": "markdown",
   "metadata": {
    "colab_type": "text",
    "id": "view-in-github"
   },
   "source": [
    "<a href=\"https://colab.research.google.com/github/rkj26/deep-orderbook/blob/rakshit_jha/CoinBase.ipynb\" target=\"_parent\"><img src=\"https://colab.research.google.com/assets/colab-badge.svg\" alt=\"Open In Colab\"/></a>"
   ]
  },
  {
   "cell_type": "code",
   "execution_count": 1,
   "metadata": {
    "colab": {},
    "colab_type": "code",
    "id": "sh_SnT3l9HZz"
   },
   "outputs": [],
   "source": [
    "%%capture\n",
    "!wget -O dataset.7z https://www.dropbox.com/sh/w3qagq2ze9noxon/AACE6f4nkBAJaJEc7Nbf2nhla/coinbase_btc_usd.7z?dl=0"
   ]
  },
  {
   "cell_type": "code",
   "execution_count": 2,
   "metadata": {
    "colab": {},
    "colab_type": "code",
    "id": "hYTd7ONy-IO9"
   },
   "outputs": [],
   "source": [
    "%%capture\n",
    "!pip install pyunpack\n",
    "!pip install patool"
   ]
  },
  {
   "cell_type": "code",
   "execution_count": 3,
   "metadata": {
    "colab": {},
    "colab_type": "code",
    "id": "N4mqvERn9yr5"
   },
   "outputs": [],
   "source": [
    "from pyunpack import Archive"
   ]
  },
  {
   "cell_type": "code",
   "execution_count": 4,
   "metadata": {},
   "outputs": [
    {
     "name": "stdout",
     "output_type": "stream",
     "text": [
      "Reading package lists... Done\n",
      "Building dependency tree       \n",
      "Reading state information... Done\n",
      "Suggested packages:\n",
      "  p7zip-full\n",
      "The following NEW packages will be installed:\n",
      "  p7zip\n",
      "0 upgraded, 1 newly installed, 0 to remove and 0 not upgraded.\n",
      "Need to get 364 kB of archives.\n",
      "After this operation, 956 kB of additional disk space will be used.\n",
      "Get:1 http://deb.debian.org/debian stretch/main amd64 p7zip amd64 16.02+dfsg-3+deb9u1 [364 kB]\n",
      "Fetched 364 kB in 0s (3,535 kB/s)\n",
      "Selecting previously unselected package p7zip.\n",
      "(Reading database ... 82671 files and directories currently installed.)\n",
      "Preparing to unpack .../p7zip_16.02+dfsg-3+deb9u1_amd64.deb ...\n",
      "Unpacking p7zip (16.02+dfsg-3+deb9u1) ...\n",
      "Setting up p7zip (16.02+dfsg-3+deb9u1) ...\n",
      "Processing triggers for man-db (2.7.6.1-2) ...\n"
     ]
    }
   ],
   "source": [
    "!mkdir content\n",
    "!sudo apt-get install p7zip"
   ]
  },
  {
   "cell_type": "code",
   "execution_count": null,
   "metadata": {
    "colab": {},
    "colab_type": "code",
    "id": "fmfVVJx0-GMx"
   },
   "outputs": [],
   "source": [
    "Archive('dataset.7z').extractall(\"./content\")"
   ]
  },
  {
   "cell_type": "code",
   "execution_count": null,
   "metadata": {
    "colab": {},
    "colab_type": "code",
    "id": "rc5Q7S_b-c0p"
   },
   "outputs": [],
   "source": [
    "import os\n",
    "import pandas as pd\n",
    "import numpy as np\n",
    "%matplotlib inline\n",
    "import matplotlib.pyplot as plt\n",
    "import seaborn as sns\n",
    "import gc\n",
    "from tqdm import tqdm\n",
    "from sklearn.preprocessing import StandardScaler\n",
    "from sklearn.metrics import classification_report"
   ]
  },
  {
   "cell_type": "code",
   "execution_count": null,
   "metadata": {
    "colab": {},
    "colab_type": "code",
    "id": "33uRritzLow_"
   },
   "outputs": [],
   "source": [
    "path_ = './content/coinbase_btc_usd/coinbase/btc_usd/l2_snapshots/100ms/'"
   ]
  },
  {
   "cell_type": "code",
   "execution_count": null,
   "metadata": {
    "colab": {},
    "colab_type": "code",
    "id": "Io0T4wiBJ5xz"
   },
   "outputs": [],
   "source": [
    "l2_snapshot = pd.read_parquet('./content/coinbase_btc_usd/coinbase/btc_usd/l2_snapshots/100ms/coinbase_btc_usd_l2_book_snapshots_depth50_2019_11_12_0000_0100.parquet')"
   ]
  },
  {
   "cell_type": "code",
   "execution_count": null,
   "metadata": {
    "colab": {
     "base_uri": "https://localhost:8080/",
     "height": 369
    },
    "colab_type": "code",
    "id": "w3x4QWVDeo3-",
    "outputId": "4a45778a-d708-4a47-f4e9-18911cb2818f"
   },
   "outputs": [],
   "source": [
    "l2_snapshot.head()"
   ]
  },
  {
   "cell_type": "code",
   "execution_count": null,
   "metadata": {
    "colab": {
     "base_uri": "https://localhost:8080/",
     "height": 221
    },
    "colab_type": "code",
    "id": "6t9oJl3QNn0E",
    "outputId": "c272a18e-3f90-463e-ab0f-ed8462b79ed2"
   },
   "outputs": [],
   "source": [
    "l2_snapshot.isnull().sum()"
   ]
  },
  {
   "cell_type": "code",
   "execution_count": null,
   "metadata": {
    "colab": {
     "base_uri": "https://localhost:8080/",
     "height": 34
    },
    "colab_type": "code",
    "id": "4ED9NkndJkCK",
    "outputId": "d3fda4ce-a3d0-4be1-b543-7c2d9bd20923"
   },
   "outputs": [],
   "source": [
    "i = 0\n",
    "for x in os.listdir(path_):\n",
    "  #Remove the if part to load the full dataset\n",
    "  if i > 10:\n",
    "    break\n",
    "  else:\n",
    "    if i == 0:\n",
    "      l2_snapshot = pd.read_parquet('./content/coinbase_btc_usd/coinbase/btc_usd/l2_snapshots/100ms/coinbase_btc_usd_l2_book_snapshots_depth50_2019_11_12_0000_0100.parquet')\n",
    "    else:\n",
    "      temp = pd.read_parquet(path_+x)\n",
    "      l2_snapshot_ = l2_snapshot.copy()\n",
    "      l2_snapshot = pd.concat([l2_snapshot_, temp])\n",
    "      del temp\n",
    "      del l2_snapshot_\n",
    "      gc.collect()\n",
    "    i = i+1\n",
    "print('Memory Usage: {} MB'.format(l2_snapshot.memory_usage().sum()/(1024**2)))"
   ]
  },
  {
   "cell_type": "code",
   "execution_count": null,
   "metadata": {
    "colab": {
     "base_uri": "https://localhost:8080/",
     "height": 51
    },
    "colab_type": "code",
    "id": "5rzKlDvrzjyK",
    "outputId": "2b62b7d3-31b1-48f8-82ae-ae16b146b241"
   },
   "outputs": [],
   "source": [
    "print('Before dropping null values: {}'.format(l2_snapshot.shape))\n",
    "l2_snapshot.dropna(inplace=True)\n",
    "print('After dropping null values: {}'.format(l2_snapshot.shape))"
   ]
  },
  {
   "cell_type": "code",
   "execution_count": null,
   "metadata": {
    "colab": {},
    "colab_type": "code",
    "id": "KdEO-8eBHM4z"
   },
   "outputs": [],
   "source": [
    "# Function to generate the labels for learning according to the paper\n",
    "def generate_features_labels(df,ask, bid,k=20, alpha = 10e-5):\n",
    "  df_ = df.copy()\n",
    "  df_['mid_price'] = (df_[ask]+df_[bid])/2\n",
    "  df_['target'] = 1\n",
    "  index = df_.columns.get_loc('mid_price')\n",
    "  target_index = df_.columns.get_loc('target')\n",
    "  shape = df_.shape[0]\n",
    "  for i in tqdm(range(k,shape-k)):\n",
    "    m_b = np.mean(df_.iloc[(i-k):i, index].values)\n",
    "    m_a = np.mean(df_.iloc[i+1:(i+k+1), index].values)\n",
    "\n",
    "    if (m_b > m_a*(1+alpha)):\n",
    "      df_.iloc[i,target_index] = 2\n",
    "    if (m_b < m_a*(1-alpha)):\n",
    "      df_.iloc[i,target_index] = 0\n",
    "\n",
    "  y = df_.iloc[k:shape-k, target_index].values\n",
    "  X = df.iloc[k:shape-k,:].values\n",
    "  #Free up memory by deleting not required dataframes.\n",
    "  del df_\n",
    "  del df\n",
    "  gc.collect()\n",
    "  return X,y"
   ]
  },
  {
   "cell_type": "code",
   "execution_count": null,
   "metadata": {
    "colab": {
     "base_uri": "https://localhost:8080/",
     "height": 34
    },
    "colab_type": "code",
    "id": "fDbvInqagtRk",
    "outputId": "1a02effd-40a8-4c3c-d417-b68f4d31fa15"
   },
   "outputs": [],
   "source": [
    "X,y = generate_features_labels(l2_snapshot, ask='a1', bid = 'b1')"
   ]
  },
  {
   "cell_type": "code",
   "execution_count": null,
   "metadata": {
    "colab": {},
    "colab_type": "code",
    "id": "Uy_ivAgHDAqm"
   },
   "outputs": [],
   "source": [
    "#Dimensions for the time series\n",
    "T = 100\n",
    "D = 200\n",
    "N = len(X) - T"
   ]
  },
  {
   "cell_type": "code",
   "execution_count": null,
   "metadata": {
    "colab": {},
    "colab_type": "code",
    "id": "Kx7z59QgDRgL"
   },
   "outputs": [],
   "source": [
    "trainPart = int(len(X)*0.7)  #(70% Data for training and 30% for testing)\n",
    "\n",
    "#Normalising the whole dataset\n",
    "\n",
    "scaler = StandardScaler()\n",
    "scaler.fit(X[:trainPart + T - 1])\n",
    "X = scaler.transform(X)"
   ]
  },
  {
   "cell_type": "code",
   "execution_count": null,
   "metadata": {
    "colab": {
     "base_uri": "https://localhost:8080/",
     "height": 85
    },
    "colab_type": "code",
    "id": "7D-o4gGFq5lD",
    "outputId": "c6097109-20be-4faf-8344-d2fdeb4acc1f"
   },
   "outputs": [],
   "source": [
    "#Create the template structure of training set\n",
    "X_train = np.zeros((trainPart, T, D))\n",
    "y_train = np.zeros(trainPart)\n",
    "\n",
    "#Preparing the time series data using timestep of 100 and no of features = 200\n",
    "for t in range(trainPart):\n",
    "  X_train[t, :, :] = X[t:t+T]\n",
    "  y_train[t] = y[t+T] \n",
    "\n",
    "# Reducing X_train datasize memory usage\n",
    "print('X_train - Before: {} GB'.format(X_train.nbytes/1024**3))\n",
    "X_train = X_train.astype('float16')\n",
    "print('X_train - After: {} GB'.format(X_train.nbytes/1024**3))\n",
    "\n",
    "# Reducing Y_train datasize memory usage\n",
    "print('y_train - before: {} MB'.format(y_train.nbytes/1024**2))\n",
    "y_train = y_train.astype('int')\n",
    "print('y_train - After: {} MB'.format(y_train.nbytes/1024**2))"
   ]
  },
  {
   "cell_type": "code",
   "execution_count": null,
   "metadata": {
    "colab": {
     "base_uri": "https://localhost:8080/",
     "height": 85
    },
    "colab_type": "code",
    "id": "Q6FRnVV6EG1R",
    "outputId": "db4e6d68-dfa7-41ad-b3ae-ced935a2df0b"
   },
   "outputs": [],
   "source": [
    "#Create the template structure of test set\n",
    "X_test = np.zeros((N - trainPart, T, D))\n",
    "y_test = np.zeros(N - trainPart)\n",
    "\n",
    "#Preparing the time series data using timestep of 100 and no of features = 200\n",
    "for k in range(N - trainPart):\n",
    "  t = k + trainPart\n",
    "  X_test[k, :, :] = X[t:t+T]\n",
    "  y_test[k] = y[t+T]\n",
    "\n",
    "# Reducing X_test datasize memory usage\n",
    "print('X_test - Before {} GB'.format(X_test.nbytes/1024**3))\n",
    "X_test = X_test.astype('float16')\n",
    "print('X_test - After {} GB'.format(X_test.nbytes/1024**3))\n",
    "\n",
    "# Reducing Y_test datasize memory usage\n",
    "print('y_test - Before: {} MB'.format(y_test.nbytes/1024**2))\n",
    "y_test = y_test.astype('int')\n",
    "print('y_test - After: {} MB'.format(y_test.nbytes/1024**2))"
   ]
  },
  {
   "cell_type": "code",
   "execution_count": null,
   "metadata": {
    "colab": {
     "base_uri": "https://localhost:8080/",
     "height": 119
    },
    "colab_type": "code",
    "id": "8EEo4XmdFYRv",
    "outputId": "0d6ef404-e1fb-4d05-d8db-86e34e9a4e63"
   },
   "outputs": [],
   "source": [
    "# Install TensorFlow\n",
    "# !pip install -q tensorflow-gpu==2.0.0-beta1\n",
    "\n",
    "try:\n",
    "  %tensorflow_version 2.x  # Colab only.\n",
    "except Exception:\n",
    "  pass\n",
    "\n",
    "import tensorflow as tf\n",
    "print(tf.__version__)"
   ]
  },
  {
   "cell_type": "code",
   "execution_count": null,
   "metadata": {
    "colab": {},
    "colab_type": "code",
    "id": "AisEvFPTjuZ0"
   },
   "outputs": [],
   "source": [
    "from tensorflow.keras.layers import Input, Conv1D, Conv2D, Flatten, MaxPooling1D, MaxPooling2D, Dense, LeakyReLU\n",
    "from tensorflow.keras.models import Model\n",
    "from tensorflow.keras.optimizers import SGD, Adam"
   ]
  },
  {
   "cell_type": "code",
   "execution_count": null,
   "metadata": {
    "colab": {},
    "colab_type": "code",
    "id": "FjeF7paIHkLt"
   },
   "outputs": [],
   "source": [
    "#Converting X_train and X_test for 2D Convolution\n",
    "X_train = np.expand_dims(X_train, -1)\n",
    "X_test = np.expand_dims(X_test, -1)"
   ]
  },
  {
   "cell_type": "code",
   "execution_count": null,
   "metadata": {
    "colab": {
     "base_uri": "https://localhost:8080/",
     "height": 68
    },
    "colab_type": "code",
    "id": "vkZo5eXYmkDd",
    "outputId": "9562e695-f4f7-4dfe-8a8c-713ab3b5c40e"
   },
   "outputs": [],
   "source": [
    "#Model architecture is as from the report\n",
    "#T = 100 from the above step for timesteps and D = 200 (no. of features) \n",
    "i = Input(shape=X_train[0].shape)\n",
    "print(i)\n",
    "x = Conv2D(16, (4,D), activation=LeakyReLU(alpha=0.01))(i)\n",
    "print(x.shape)\n",
    "x = tf.keras.layers.Reshape(target_shape=(T-3,16))(x)\n",
    "print(x.shape)\n",
    "x = Conv1D(16, 4, activation=LeakyReLU(alpha=0.01))(x)\n",
    "x = MaxPooling1D(2)(x)\n",
    "x = Conv1D(32, 3, activation=LeakyReLU(alpha=0.01))(x)\n",
    "x = Conv1D(32, 3, activation=LeakyReLU(alpha=0.01))(x)\n",
    "x = MaxPooling1D(2)(x)\n",
    "x = Flatten()(x)\n",
    "x = Dense(32, activation=LeakyReLU(alpha=0.01))(x)\n",
    "x = Dense(3, activation='softmax')(x)\n",
    "\n",
    "model = Model(i,x)"
   ]
  },
  {
   "cell_type": "code",
   "execution_count": null,
   "metadata": {
    "colab": {
     "base_uri": "https://localhost:8080/",
     "height": 527
    },
    "colab_type": "code",
    "id": "_iWtFhsNFUqr",
    "outputId": "9c03a540-431e-474d-e689-b3e6673441b3"
   },
   "outputs": [],
   "source": [
    "#Printing Model Summary\n",
    "model.summary()"
   ]
  },
  {
   "cell_type": "code",
   "execution_count": null,
   "metadata": {
    "colab": {},
    "colab_type": "code",
    "id": "zxcsMebPpWS-"
   },
   "outputs": [],
   "source": [
    "model.compile(optimizer='adam',\n",
    "              loss='sparse_categorical_crossentropy',\n",
    "              metrics=['accuracy'])\n",
    "#Accuracy is not a great metrics"
   ]
  },
  {
   "cell_type": "code",
   "execution_count": null,
   "metadata": {
    "colab": {},
    "colab_type": "code",
    "id": "QwRmHml2n42P"
   },
   "outputs": [],
   "source": [
    "from sklearn.utils.class_weight import compute_class_weight\n",
    "def compute_class_weights(y):\n",
    "    classes = np.unique(y)\n",
    "    class_weight = compute_class_weight(\"balanced\", classes, y)\n",
    "    class_weights = dict(zip(classes, class_weight))\n",
    "    return class_weights"
   ]
  },
  {
   "cell_type": "code",
   "execution_count": null,
   "metadata": {
    "colab": {},
    "colab_type": "code",
    "id": "HJMve9aBhUIw"
   },
   "outputs": [],
   "source": [
    "#computing class weights according to the percentage in training dataset\n",
    "class_weights = compute_class_weights(y_train)"
   ]
  },
  {
   "cell_type": "code",
   "execution_count": null,
   "metadata": {
    "colab": {
     "base_uri": "https://localhost:8080/",
     "height": 1000
    },
    "colab_type": "code",
    "id": "jwab07y6Frhn",
    "outputId": "e9820a80-f12f-4f41-838c-3ce5317815af"
   },
   "outputs": [],
   "source": [
    "EPOCHS = 50\n",
    "BATCH_SIZE = 16\n",
    "r = model.fit(\n",
    "  X_train, y_train,\n",
    "  batch_size=BATCH_SIZE,\n",
    "  epochs=EPOCHS,\n",
    "  validation_data=(X_test, y_test),\n",
    "  class_weight = class_weights\n",
    ")"
   ]
  },
  {
   "cell_type": "code",
   "execution_count": null,
   "metadata": {
    "colab": {
     "base_uri": "https://localhost:8080/",
     "height": 312
    },
    "colab_type": "code",
    "id": "lcf2wsdzSSoI",
    "outputId": "5de03cb0-afc1-4530-9ff6-78494360ac27"
   },
   "outputs": [],
   "source": [
    "sns.lineplot(x=range(1,EPOCHS+1),y=r.history['loss'])\n",
    "sns.lineplot(x=range(1,EPOCHS+1),y=r.history['val_loss'])\n",
    "plt.title('Model Cross Entropy Loss')\n",
    "plt.ylabel('Cross Entropy Loss')\n",
    "plt.xlabel('Epochs')\n",
    "plt.legend(['Training', 'Testing'], loc='upper left')"
   ]
  },
  {
   "cell_type": "code",
   "execution_count": null,
   "metadata": {
    "colab": {},
    "colab_type": "code",
    "id": "AyMpH7DVlc8m"
   },
   "outputs": [],
   "source": [
    "# Model is clearly overfitting as the training loss is decreasing but the testing loss is just increasing. The confusion matrix below gives better information"
   ]
  },
  {
   "cell_type": "code",
   "execution_count": null,
   "metadata": {
    "colab": {},
    "colab_type": "code",
    "id": "qyGI6Al2n30C"
   },
   "outputs": [],
   "source": [
    "y_pred = model.predict(X_test).argmax(axis=1)"
   ]
  },
  {
   "cell_type": "code",
   "execution_count": null,
   "metadata": {
    "colab": {
     "base_uri": "https://localhost:8080/",
     "height": 136
    },
    "colab_type": "code",
    "id": "vJugwyIJI_DC",
    "outputId": "2f7b9a39-bbe7-4405-8079-9d9d673e416c"
   },
   "outputs": [],
   "source": [
    " model.predict(X_test)"
   ]
  },
  {
   "cell_type": "code",
   "execution_count": null,
   "metadata": {
    "colab": {
     "base_uri": "https://localhost:8080/",
     "height": 265
    },
    "colab_type": "code",
    "id": "WMhHGaX6i-oG",
    "outputId": "8425b258-8929-432d-b89c-ab836e717e06"
   },
   "outputs": [],
   "source": [
    "# Plot confusion matrix\n",
    "from sklearn.metrics import confusion_matrix\n",
    "\n",
    "cm = confusion_matrix(y_pred=y_pred, y_true=y_test)\n",
    "    \n",
    "cm = cm.astype('float') / cm.sum(axis=1)[:, np.newaxis]\n",
    "    \n",
    "ax=sns.heatmap(cm, annot=True, xticklabels=[0,1,2], yticklabels=[0,1,2], cmap='Blues')\n",
    "ax.set_ylim(3.0, 0)\n",
    "plt.show()"
   ]
  },
  {
   "cell_type": "code",
   "execution_count": null,
   "metadata": {
    "colab": {
     "base_uri": "https://localhost:8080/",
     "height": 187
    },
    "colab_type": "code",
    "id": "v_tLLfJA6IT0",
    "outputId": "e92c4aa1-8ad8-4bc9-f0e7-746c9962e6ed"
   },
   "outputs": [],
   "source": [
    "#Print the classification report\n",
    "print(classification_report(y_true= y_test, y_pred = y_pred))"
   ]
  },
  {
   "cell_type": "code",
   "execution_count": null,
   "metadata": {
    "colab": {},
    "colab_type": "code",
    "id": "4Hi_ropAlB3U"
   },
   "outputs": [],
   "source": []
  }
 ],
 "metadata": {
  "accelerator": "TPU",
  "colab": {
   "collapsed_sections": [],
   "include_colab_link": true,
   "machine_shape": "hm",
   "name": "CoinBase.ipynb",
   "provenance": []
  },
  "kernelspec": {
   "display_name": "Python 3",
   "language": "python",
   "name": "python3"
  },
  "language_info": {
   "codemirror_mode": {
    "name": "ipython",
    "version": 3
   },
   "file_extension": ".py",
   "mimetype": "text/x-python",
   "name": "python",
   "nbconvert_exporter": "python",
   "pygments_lexer": "ipython3",
   "version": "3.7.6"
  }
 },
 "nbformat": 4,
 "nbformat_minor": 1
}
