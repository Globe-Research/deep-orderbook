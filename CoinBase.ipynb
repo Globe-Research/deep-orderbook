{
  "nbformat": 4,
  "nbformat_minor": 0,
  "metadata": {
    "colab": {
      "name": "CoinBase.ipynb",
      "provenance": [],
      "collapsed_sections": [],
      "machine_shape": "hm",
      "include_colab_link": true
    },
    "kernelspec": {
      "name": "python3",
      "display_name": "Python 3"
    },
    "accelerator": "TPU"
  },
  "cells": [
    {
      "cell_type": "markdown",
      "metadata": {
        "id": "view-in-github",
        "colab_type": "text"
      },
      "source": [
        "<a href=\"https://colab.research.google.com/github/rkj26/deep-orderbook/blob/rakshit_jha/CoinBase.ipynb\" target=\"_parent\"><img src=\"https://colab.research.google.com/assets/colab-badge.svg\" alt=\"Open In Colab\"/></a>"
      ]
    },
    {
      "cell_type": "code",
      "metadata": {
        "id": "sh_SnT3l9HZz",
        "colab_type": "code",
        "colab": {}
      },
      "source": [
        "%%capture\n",
        "!wget -O dataset.7z https://www.dropbox.com/sh/w3qagq2ze9noxon/AACE6f4nkBAJaJEc7Nbf2nhla/coinbase_btc_usd.7z?dl=0"
      ],
      "execution_count": 0,
      "outputs": []
    },
    {
      "cell_type": "code",
      "metadata": {
        "id": "hYTd7ONy-IO9",
        "colab_type": "code",
        "colab": {}
      },
      "source": [
        "%%capture\n",
        "!pip install pyunpack\n",
        "!pip install patool"
      ],
      "execution_count": 0,
      "outputs": []
    },
    {
      "cell_type": "code",
      "metadata": {
        "id": "N4mqvERn9yr5",
        "colab_type": "code",
        "colab": {}
      },
      "source": [
        "from pyunpack import Archive"
      ],
      "execution_count": 0,
      "outputs": []
    },
    {
      "cell_type": "code",
      "metadata": {
        "id": "fmfVVJx0-GMx",
        "colab_type": "code",
        "colab": {}
      },
      "source": [
        "Archive('/content/dataset.7z').extractall(\"/content\")"
      ],
      "execution_count": 0,
      "outputs": []
    },
    {
      "cell_type": "code",
      "metadata": {
        "id": "rc5Q7S_b-c0p",
        "colab_type": "code",
        "colab": {}
      },
      "source": [
        "import os\n",
        "import pandas as pd\n",
        "import numpy as np\n",
        "%matplotlib inline\n",
        "import matplotlib.pyplot as plt\n",
        "import seaborn as sns\n",
        "import gc\n",
        "from tqdm import tqdm\n",
        "from sklearn.preprocessing import StandardScaler\n",
        "from sklearn.metrics import classification_report"
      ],
      "execution_count": 0,
      "outputs": []
    },
    {
      "cell_type": "code",
      "metadata": {
        "id": "33uRritzLow_",
        "colab_type": "code",
        "colab": {}
      },
      "source": [
        "path_ = '/content/coinbase_btc_usd/coinbase/btc_usd/l2_snapshots/100ms/'"
      ],
      "execution_count": 0,
      "outputs": []
    },
    {
      "cell_type": "code",
      "metadata": {
        "id": "Io0T4wiBJ5xz",
        "colab_type": "code",
        "colab": {}
      },
      "source": [
        "l2_snapshot = pd.read_parquet('/content/coinbase_btc_usd/coinbase/btc_usd/l2_snapshots/100ms/coinbase_btc_usd_l2_book_snapshots_depth50_2019_11_12_0000_0100.parquet')"
      ],
      "execution_count": 0,
      "outputs": []
    },
    {
      "cell_type": "code",
      "metadata": {
        "id": "w3x4QWVDeo3-",
        "colab_type": "code",
        "outputId": "4a45778a-d708-4a47-f4e9-18911cb2818f",
        "colab": {
          "base_uri": "https://localhost:8080/",
          "height": 369
        }
      },
      "source": [
        "l2_snapshot.head()"
      ],
      "execution_count": 0,
      "outputs": [
        {
          "output_type": "execute_result",
          "data": {
            "text/html": [
              "<div>\n",
              "<style scoped>\n",
              "    .dataframe tbody tr th:only-of-type {\n",
              "        vertical-align: middle;\n",
              "    }\n",
              "\n",
              "    .dataframe tbody tr th {\n",
              "        vertical-align: top;\n",
              "    }\n",
              "\n",
              "    .dataframe thead th {\n",
              "        text-align: right;\n",
              "    }\n",
              "</style>\n",
              "<table border=\"1\" class=\"dataframe\">\n",
              "  <thead>\n",
              "    <tr style=\"text-align: right;\">\n",
              "      <th></th>\n",
              "      <th>b1</th>\n",
              "      <th>b2</th>\n",
              "      <th>b3</th>\n",
              "      <th>b4</th>\n",
              "      <th>b5</th>\n",
              "      <th>b6</th>\n",
              "      <th>b7</th>\n",
              "      <th>b8</th>\n",
              "      <th>b9</th>\n",
              "      <th>b10</th>\n",
              "      <th>b11</th>\n",
              "      <th>b12</th>\n",
              "      <th>b13</th>\n",
              "      <th>b14</th>\n",
              "      <th>b15</th>\n",
              "      <th>b16</th>\n",
              "      <th>b17</th>\n",
              "      <th>b18</th>\n",
              "      <th>b19</th>\n",
              "      <th>b20</th>\n",
              "      <th>b21</th>\n",
              "      <th>b22</th>\n",
              "      <th>b23</th>\n",
              "      <th>b24</th>\n",
              "      <th>b25</th>\n",
              "      <th>b26</th>\n",
              "      <th>b27</th>\n",
              "      <th>b28</th>\n",
              "      <th>b29</th>\n",
              "      <th>b30</th>\n",
              "      <th>b31</th>\n",
              "      <th>b32</th>\n",
              "      <th>b33</th>\n",
              "      <th>b34</th>\n",
              "      <th>b35</th>\n",
              "      <th>b36</th>\n",
              "      <th>b37</th>\n",
              "      <th>b38</th>\n",
              "      <th>b39</th>\n",
              "      <th>b40</th>\n",
              "      <th>...</th>\n",
              "      <th>aq11</th>\n",
              "      <th>aq12</th>\n",
              "      <th>aq13</th>\n",
              "      <th>aq14</th>\n",
              "      <th>aq15</th>\n",
              "      <th>aq16</th>\n",
              "      <th>aq17</th>\n",
              "      <th>aq18</th>\n",
              "      <th>aq19</th>\n",
              "      <th>aq20</th>\n",
              "      <th>aq21</th>\n",
              "      <th>aq22</th>\n",
              "      <th>aq23</th>\n",
              "      <th>aq24</th>\n",
              "      <th>aq25</th>\n",
              "      <th>aq26</th>\n",
              "      <th>aq27</th>\n",
              "      <th>aq28</th>\n",
              "      <th>aq29</th>\n",
              "      <th>aq30</th>\n",
              "      <th>aq31</th>\n",
              "      <th>aq32</th>\n",
              "      <th>aq33</th>\n",
              "      <th>aq34</th>\n",
              "      <th>aq35</th>\n",
              "      <th>aq36</th>\n",
              "      <th>aq37</th>\n",
              "      <th>aq38</th>\n",
              "      <th>aq39</th>\n",
              "      <th>aq40</th>\n",
              "      <th>aq41</th>\n",
              "      <th>aq42</th>\n",
              "      <th>aq43</th>\n",
              "      <th>aq44</th>\n",
              "      <th>aq45</th>\n",
              "      <th>aq46</th>\n",
              "      <th>aq47</th>\n",
              "      <th>aq48</th>\n",
              "      <th>aq49</th>\n",
              "      <th>aq50</th>\n",
              "    </tr>\n",
              "    <tr>\n",
              "      <th>timestamp</th>\n",
              "      <th></th>\n",
              "      <th></th>\n",
              "      <th></th>\n",
              "      <th></th>\n",
              "      <th></th>\n",
              "      <th></th>\n",
              "      <th></th>\n",
              "      <th></th>\n",
              "      <th></th>\n",
              "      <th></th>\n",
              "      <th></th>\n",
              "      <th></th>\n",
              "      <th></th>\n",
              "      <th></th>\n",
              "      <th></th>\n",
              "      <th></th>\n",
              "      <th></th>\n",
              "      <th></th>\n",
              "      <th></th>\n",
              "      <th></th>\n",
              "      <th></th>\n",
              "      <th></th>\n",
              "      <th></th>\n",
              "      <th></th>\n",
              "      <th></th>\n",
              "      <th></th>\n",
              "      <th></th>\n",
              "      <th></th>\n",
              "      <th></th>\n",
              "      <th></th>\n",
              "      <th></th>\n",
              "      <th></th>\n",
              "      <th></th>\n",
              "      <th></th>\n",
              "      <th></th>\n",
              "      <th></th>\n",
              "      <th></th>\n",
              "      <th></th>\n",
              "      <th></th>\n",
              "      <th></th>\n",
              "      <th></th>\n",
              "      <th></th>\n",
              "      <th></th>\n",
              "      <th></th>\n",
              "      <th></th>\n",
              "      <th></th>\n",
              "      <th></th>\n",
              "      <th></th>\n",
              "      <th></th>\n",
              "      <th></th>\n",
              "      <th></th>\n",
              "      <th></th>\n",
              "      <th></th>\n",
              "      <th></th>\n",
              "      <th></th>\n",
              "      <th></th>\n",
              "      <th></th>\n",
              "      <th></th>\n",
              "      <th></th>\n",
              "      <th></th>\n",
              "      <th></th>\n",
              "      <th></th>\n",
              "      <th></th>\n",
              "      <th></th>\n",
              "      <th></th>\n",
              "      <th></th>\n",
              "      <th></th>\n",
              "      <th></th>\n",
              "      <th></th>\n",
              "      <th></th>\n",
              "      <th></th>\n",
              "      <th></th>\n",
              "      <th></th>\n",
              "      <th></th>\n",
              "      <th></th>\n",
              "      <th></th>\n",
              "      <th></th>\n",
              "      <th></th>\n",
              "      <th></th>\n",
              "      <th></th>\n",
              "      <th></th>\n",
              "    </tr>\n",
              "  </thead>\n",
              "  <tbody>\n",
              "    <tr>\n",
              "      <th>2019-11-12 00:00:00.000</th>\n",
              "      <td>8721.53</td>\n",
              "      <td>8720.59</td>\n",
              "      <td>8719.55</td>\n",
              "      <td>8719.50</td>\n",
              "      <td>8719.0</td>\n",
              "      <td>8718.02</td>\n",
              "      <td>8717.87</td>\n",
              "      <td>8717.85</td>\n",
              "      <td>8717.56</td>\n",
              "      <td>8716.06</td>\n",
              "      <td>8716.00</td>\n",
              "      <td>8715.29</td>\n",
              "      <td>8715.00</td>\n",
              "      <td>8714.97</td>\n",
              "      <td>8714.61</td>\n",
              "      <td>8714.20</td>\n",
              "      <td>8713.93</td>\n",
              "      <td>8712.43</td>\n",
              "      <td>8712.41</td>\n",
              "      <td>8712.09</td>\n",
              "      <td>8710.56</td>\n",
              "      <td>8710.55</td>\n",
              "      <td>8710.00</td>\n",
              "      <td>8708.91</td>\n",
              "      <td>8708.69</td>\n",
              "      <td>8708.68</td>\n",
              "      <td>8708.19</td>\n",
              "      <td>8708.13</td>\n",
              "      <td>8707.99</td>\n",
              "      <td>8705.89</td>\n",
              "      <td>8705.21</td>\n",
              "      <td>8705.00</td>\n",
              "      <td>8704.09</td>\n",
              "      <td>8704.08</td>\n",
              "      <td>8703.0</td>\n",
              "      <td>8702.34</td>\n",
              "      <td>8701.50</td>\n",
              "      <td>8700.99</td>\n",
              "      <td>8700.60</td>\n",
              "      <td>8700.36</td>\n",
              "      <td>...</td>\n",
              "      <td>0.08</td>\n",
              "      <td>0.630734</td>\n",
              "      <td>5.999000</td>\n",
              "      <td>1.116316</td>\n",
              "      <td>0.00224</td>\n",
              "      <td>1.00000</td>\n",
              "      <td>0.04</td>\n",
              "      <td>0.005</td>\n",
              "      <td>0.001889</td>\n",
              "      <td>4.100000</td>\n",
              "      <td>1.0</td>\n",
              "      <td>1.060263</td>\n",
              "      <td>1.000000</td>\n",
              "      <td>0.4099</td>\n",
              "      <td>2.0000</td>\n",
              "      <td>1.5</td>\n",
              "      <td>0.01</td>\n",
              "      <td>0.68713</td>\n",
              "      <td>0.25000</td>\n",
              "      <td>1.141294</td>\n",
              "      <td>3.500000</td>\n",
              "      <td>0.092358</td>\n",
              "      <td>0.688130</td>\n",
              "      <td>0.67100</td>\n",
              "      <td>0.2335</td>\n",
              "      <td>0.689853</td>\n",
              "      <td>0.747313</td>\n",
              "      <td>1.640000</td>\n",
              "      <td>1.042177</td>\n",
              "      <td>0.009135</td>\n",
              "      <td>8.200000</td>\n",
              "      <td>2.203</td>\n",
              "      <td>2.600</td>\n",
              "      <td>0.005</td>\n",
              "      <td>2.500</td>\n",
              "      <td>0.896321</td>\n",
              "      <td>0.766000</td>\n",
              "      <td>0.001737</td>\n",
              "      <td>1.820000</td>\n",
              "      <td>0.933419</td>\n",
              "    </tr>\n",
              "    <tr>\n",
              "      <th>2019-11-12 00:00:00.100</th>\n",
              "      <td>8721.53</td>\n",
              "      <td>8720.59</td>\n",
              "      <td>8719.56</td>\n",
              "      <td>8719.55</td>\n",
              "      <td>8719.0</td>\n",
              "      <td>8718.02</td>\n",
              "      <td>8717.87</td>\n",
              "      <td>8717.85</td>\n",
              "      <td>8717.56</td>\n",
              "      <td>8716.06</td>\n",
              "      <td>8716.00</td>\n",
              "      <td>8715.29</td>\n",
              "      <td>8715.00</td>\n",
              "      <td>8714.97</td>\n",
              "      <td>8714.61</td>\n",
              "      <td>8714.20</td>\n",
              "      <td>8713.93</td>\n",
              "      <td>8712.43</td>\n",
              "      <td>8712.41</td>\n",
              "      <td>8712.09</td>\n",
              "      <td>8710.56</td>\n",
              "      <td>8710.55</td>\n",
              "      <td>8710.00</td>\n",
              "      <td>8708.91</td>\n",
              "      <td>8708.69</td>\n",
              "      <td>8708.68</td>\n",
              "      <td>8708.19</td>\n",
              "      <td>8708.13</td>\n",
              "      <td>8707.99</td>\n",
              "      <td>8705.89</td>\n",
              "      <td>8705.21</td>\n",
              "      <td>8705.00</td>\n",
              "      <td>8704.09</td>\n",
              "      <td>8704.08</td>\n",
              "      <td>8703.0</td>\n",
              "      <td>8702.34</td>\n",
              "      <td>8701.50</td>\n",
              "      <td>8700.99</td>\n",
              "      <td>8700.60</td>\n",
              "      <td>8700.36</td>\n",
              "      <td>...</td>\n",
              "      <td>0.08</td>\n",
              "      <td>0.630734</td>\n",
              "      <td>5.999000</td>\n",
              "      <td>1.116316</td>\n",
              "      <td>0.00224</td>\n",
              "      <td>1.00000</td>\n",
              "      <td>0.04</td>\n",
              "      <td>0.005</td>\n",
              "      <td>0.001889</td>\n",
              "      <td>4.100000</td>\n",
              "      <td>1.0</td>\n",
              "      <td>1.060263</td>\n",
              "      <td>1.000000</td>\n",
              "      <td>0.4099</td>\n",
              "      <td>2.0000</td>\n",
              "      <td>1.5</td>\n",
              "      <td>0.01</td>\n",
              "      <td>0.68713</td>\n",
              "      <td>0.25000</td>\n",
              "      <td>1.141294</td>\n",
              "      <td>3.500000</td>\n",
              "      <td>0.092358</td>\n",
              "      <td>0.688130</td>\n",
              "      <td>0.67100</td>\n",
              "      <td>0.2335</td>\n",
              "      <td>0.689853</td>\n",
              "      <td>0.747313</td>\n",
              "      <td>1.640000</td>\n",
              "      <td>1.042177</td>\n",
              "      <td>0.009135</td>\n",
              "      <td>8.200000</td>\n",
              "      <td>2.203</td>\n",
              "      <td>2.600</td>\n",
              "      <td>0.005</td>\n",
              "      <td>2.500</td>\n",
              "      <td>0.896321</td>\n",
              "      <td>0.766000</td>\n",
              "      <td>0.001737</td>\n",
              "      <td>1.820000</td>\n",
              "      <td>0.933419</td>\n",
              "    </tr>\n",
              "    <tr>\n",
              "      <th>2019-11-12 00:00:00.200</th>\n",
              "      <td>8721.53</td>\n",
              "      <td>8720.59</td>\n",
              "      <td>8719.61</td>\n",
              "      <td>8719.56</td>\n",
              "      <td>8719.0</td>\n",
              "      <td>8718.02</td>\n",
              "      <td>8717.87</td>\n",
              "      <td>8717.85</td>\n",
              "      <td>8716.06</td>\n",
              "      <td>8716.00</td>\n",
              "      <td>8715.29</td>\n",
              "      <td>8715.00</td>\n",
              "      <td>8714.61</td>\n",
              "      <td>8714.20</td>\n",
              "      <td>8713.93</td>\n",
              "      <td>8712.43</td>\n",
              "      <td>8712.41</td>\n",
              "      <td>8712.09</td>\n",
              "      <td>8710.56</td>\n",
              "      <td>8710.55</td>\n",
              "      <td>8710.00</td>\n",
              "      <td>8708.91</td>\n",
              "      <td>8708.69</td>\n",
              "      <td>8708.68</td>\n",
              "      <td>8708.19</td>\n",
              "      <td>8708.13</td>\n",
              "      <td>8707.99</td>\n",
              "      <td>8705.89</td>\n",
              "      <td>8705.21</td>\n",
              "      <td>8705.00</td>\n",
              "      <td>8704.09</td>\n",
              "      <td>8704.08</td>\n",
              "      <td>8703.00</td>\n",
              "      <td>8702.34</td>\n",
              "      <td>8701.5</td>\n",
              "      <td>8700.99</td>\n",
              "      <td>8700.60</td>\n",
              "      <td>8700.36</td>\n",
              "      <td>8700.02</td>\n",
              "      <td>8700.00</td>\n",
              "      <td>...</td>\n",
              "      <td>1.00</td>\n",
              "      <td>0.080000</td>\n",
              "      <td>0.630734</td>\n",
              "      <td>5.999000</td>\n",
              "      <td>0.03030</td>\n",
              "      <td>0.00224</td>\n",
              "      <td>1.00</td>\n",
              "      <td>0.040</td>\n",
              "      <td>0.005000</td>\n",
              "      <td>0.001889</td>\n",
              "      <td>4.1</td>\n",
              "      <td>1.000000</td>\n",
              "      <td>1.060263</td>\n",
              "      <td>1.0000</td>\n",
              "      <td>0.4099</td>\n",
              "      <td>2.0</td>\n",
              "      <td>1.50</td>\n",
              "      <td>0.01000</td>\n",
              "      <td>0.68713</td>\n",
              "      <td>0.250000</td>\n",
              "      <td>1.141294</td>\n",
              "      <td>3.500000</td>\n",
              "      <td>0.092358</td>\n",
              "      <td>0.68813</td>\n",
              "      <td>0.6710</td>\n",
              "      <td>0.233500</td>\n",
              "      <td>0.689853</td>\n",
              "      <td>0.747313</td>\n",
              "      <td>1.640000</td>\n",
              "      <td>1.042177</td>\n",
              "      <td>0.009135</td>\n",
              "      <td>8.200</td>\n",
              "      <td>2.203</td>\n",
              "      <td>2.600</td>\n",
              "      <td>0.005</td>\n",
              "      <td>2.500000</td>\n",
              "      <td>0.896321</td>\n",
              "      <td>0.766000</td>\n",
              "      <td>0.001737</td>\n",
              "      <td>1.820000</td>\n",
              "    </tr>\n",
              "    <tr>\n",
              "      <th>2019-11-12 00:00:00.300</th>\n",
              "      <td>8721.53</td>\n",
              "      <td>8720.59</td>\n",
              "      <td>8719.61</td>\n",
              "      <td>8719.56</td>\n",
              "      <td>8719.0</td>\n",
              "      <td>8718.02</td>\n",
              "      <td>8718.00</td>\n",
              "      <td>8717.87</td>\n",
              "      <td>8717.85</td>\n",
              "      <td>8716.60</td>\n",
              "      <td>8716.06</td>\n",
              "      <td>8716.00</td>\n",
              "      <td>8715.29</td>\n",
              "      <td>8715.00</td>\n",
              "      <td>8714.61</td>\n",
              "      <td>8714.20</td>\n",
              "      <td>8713.93</td>\n",
              "      <td>8713.10</td>\n",
              "      <td>8712.41</td>\n",
              "      <td>8712.09</td>\n",
              "      <td>8710.56</td>\n",
              "      <td>8710.55</td>\n",
              "      <td>8710.26</td>\n",
              "      <td>8710.00</td>\n",
              "      <td>8708.91</td>\n",
              "      <td>8708.69</td>\n",
              "      <td>8708.19</td>\n",
              "      <td>8708.13</td>\n",
              "      <td>8707.99</td>\n",
              "      <td>8705.89</td>\n",
              "      <td>8705.00</td>\n",
              "      <td>8704.09</td>\n",
              "      <td>8704.08</td>\n",
              "      <td>8703.00</td>\n",
              "      <td>8701.5</td>\n",
              "      <td>8700.99</td>\n",
              "      <td>8700.60</td>\n",
              "      <td>8700.36</td>\n",
              "      <td>8700.02</td>\n",
              "      <td>8700.00</td>\n",
              "      <td>...</td>\n",
              "      <td>1.00</td>\n",
              "      <td>0.080000</td>\n",
              "      <td>0.630734</td>\n",
              "      <td>5.999000</td>\n",
              "      <td>0.03030</td>\n",
              "      <td>0.00224</td>\n",
              "      <td>1.00</td>\n",
              "      <td>0.040</td>\n",
              "      <td>0.005000</td>\n",
              "      <td>0.001889</td>\n",
              "      <td>4.1</td>\n",
              "      <td>1.000000</td>\n",
              "      <td>1.060263</td>\n",
              "      <td>1.0000</td>\n",
              "      <td>0.4099</td>\n",
              "      <td>2.0</td>\n",
              "      <td>1.50</td>\n",
              "      <td>0.01000</td>\n",
              "      <td>0.68713</td>\n",
              "      <td>0.250000</td>\n",
              "      <td>1.141294</td>\n",
              "      <td>3.500000</td>\n",
              "      <td>0.092358</td>\n",
              "      <td>0.68813</td>\n",
              "      <td>0.6710</td>\n",
              "      <td>0.233500</td>\n",
              "      <td>0.689853</td>\n",
              "      <td>0.747313</td>\n",
              "      <td>1.640000</td>\n",
              "      <td>1.042177</td>\n",
              "      <td>0.009135</td>\n",
              "      <td>8.200</td>\n",
              "      <td>2.203</td>\n",
              "      <td>2.600</td>\n",
              "      <td>0.005</td>\n",
              "      <td>2.500000</td>\n",
              "      <td>0.896321</td>\n",
              "      <td>0.766000</td>\n",
              "      <td>0.001737</td>\n",
              "      <td>1.820000</td>\n",
              "    </tr>\n",
              "    <tr>\n",
              "      <th>2019-11-12 00:00:00.400</th>\n",
              "      <td>8721.53</td>\n",
              "      <td>8720.59</td>\n",
              "      <td>8719.61</td>\n",
              "      <td>8719.56</td>\n",
              "      <td>8719.0</td>\n",
              "      <td>8718.99</td>\n",
              "      <td>8718.02</td>\n",
              "      <td>8718.00</td>\n",
              "      <td>8717.87</td>\n",
              "      <td>8717.85</td>\n",
              "      <td>8716.60</td>\n",
              "      <td>8716.06</td>\n",
              "      <td>8716.00</td>\n",
              "      <td>8715.29</td>\n",
              "      <td>8715.00</td>\n",
              "      <td>8714.61</td>\n",
              "      <td>8714.20</td>\n",
              "      <td>8713.93</td>\n",
              "      <td>8713.10</td>\n",
              "      <td>8712.41</td>\n",
              "      <td>8712.09</td>\n",
              "      <td>8710.56</td>\n",
              "      <td>8710.55</td>\n",
              "      <td>8710.26</td>\n",
              "      <td>8710.00</td>\n",
              "      <td>8708.91</td>\n",
              "      <td>8708.69</td>\n",
              "      <td>8708.19</td>\n",
              "      <td>8708.13</td>\n",
              "      <td>8707.99</td>\n",
              "      <td>8705.89</td>\n",
              "      <td>8705.00</td>\n",
              "      <td>8704.09</td>\n",
              "      <td>8704.08</td>\n",
              "      <td>8703.0</td>\n",
              "      <td>8701.50</td>\n",
              "      <td>8700.99</td>\n",
              "      <td>8700.60</td>\n",
              "      <td>8700.36</td>\n",
              "      <td>8700.02</td>\n",
              "      <td>...</td>\n",
              "      <td>1.00</td>\n",
              "      <td>0.080000</td>\n",
              "      <td>0.630734</td>\n",
              "      <td>5.999000</td>\n",
              "      <td>0.03030</td>\n",
              "      <td>0.00224</td>\n",
              "      <td>1.00</td>\n",
              "      <td>0.040</td>\n",
              "      <td>0.005000</td>\n",
              "      <td>0.001889</td>\n",
              "      <td>4.1</td>\n",
              "      <td>1.000000</td>\n",
              "      <td>1.060263</td>\n",
              "      <td>1.0000</td>\n",
              "      <td>0.4099</td>\n",
              "      <td>2.0</td>\n",
              "      <td>1.50</td>\n",
              "      <td>0.01000</td>\n",
              "      <td>0.68713</td>\n",
              "      <td>0.250000</td>\n",
              "      <td>1.141294</td>\n",
              "      <td>3.500000</td>\n",
              "      <td>0.092358</td>\n",
              "      <td>0.68813</td>\n",
              "      <td>0.6710</td>\n",
              "      <td>0.233500</td>\n",
              "      <td>0.689853</td>\n",
              "      <td>0.747313</td>\n",
              "      <td>1.640000</td>\n",
              "      <td>1.042177</td>\n",
              "      <td>0.009135</td>\n",
              "      <td>8.200</td>\n",
              "      <td>2.203</td>\n",
              "      <td>2.600</td>\n",
              "      <td>0.005</td>\n",
              "      <td>2.500000</td>\n",
              "      <td>0.896321</td>\n",
              "      <td>0.766000</td>\n",
              "      <td>0.001737</td>\n",
              "      <td>1.820000</td>\n",
              "    </tr>\n",
              "  </tbody>\n",
              "</table>\n",
              "<p>5 rows × 200 columns</p>\n",
              "</div>"
            ],
            "text/plain": [
              "                              b1       b2  ...      aq49      aq50\n",
              "timestamp                                  ...                    \n",
              "2019-11-12 00:00:00.000  8721.53  8720.59  ...  1.820000  0.933419\n",
              "2019-11-12 00:00:00.100  8721.53  8720.59  ...  1.820000  0.933419\n",
              "2019-11-12 00:00:00.200  8721.53  8720.59  ...  0.001737  1.820000\n",
              "2019-11-12 00:00:00.300  8721.53  8720.59  ...  0.001737  1.820000\n",
              "2019-11-12 00:00:00.400  8721.53  8720.59  ...  0.001737  1.820000\n",
              "\n",
              "[5 rows x 200 columns]"
            ]
          },
          "metadata": {
            "tags": []
          },
          "execution_count": 8
        }
      ]
    },
    {
      "cell_type": "code",
      "metadata": {
        "id": "6t9oJl3QNn0E",
        "colab_type": "code",
        "outputId": "c272a18e-3f90-463e-ab0f-ed8462b79ed2",
        "colab": {
          "base_uri": "https://localhost:8080/",
          "height": 221
        }
      },
      "source": [
        "l2_snapshot.isnull().sum()"
      ],
      "execution_count": 0,
      "outputs": [
        {
          "output_type": "execute_result",
          "data": {
            "text/plain": [
              "b1      7452\n",
              "b2      7452\n",
              "b3      7452\n",
              "b4      7452\n",
              "b5      7452\n",
              "        ... \n",
              "aq46    7452\n",
              "aq47    7452\n",
              "aq48    7452\n",
              "aq49    7452\n",
              "aq50    7452\n",
              "Length: 200, dtype: int64"
            ]
          },
          "metadata": {
            "tags": []
          },
          "execution_count": 9
        }
      ]
    },
    {
      "cell_type": "code",
      "metadata": {
        "id": "4ED9NkndJkCK",
        "colab_type": "code",
        "outputId": "d3fda4ce-a3d0-4be1-b543-7c2d9bd20923",
        "colab": {
          "base_uri": "https://localhost:8080/",
          "height": 34
        }
      },
      "source": [
        "i = 0\n",
        "for x in os.listdir(path_):\n",
        "  #Remove the if part to load the full dataset\n",
        "  if i > 10:\n",
        "    break\n",
        "  else:\n",
        "    if i == 0:\n",
        "      l2_snapshot = pd.read_parquet('/content/coinbase_btc_usd/coinbase/btc_usd/l2_snapshots/100ms/coinbase_btc_usd_l2_book_snapshots_depth50_2019_11_12_0000_0100.parquet')\n",
        "    else:\n",
        "      temp = pd.read_parquet(path_+x)\n",
        "      l2_snapshot_ = l2_snapshot.copy()\n",
        "      l2_snapshot = pd.concat([l2_snapshot_, temp])\n",
        "      del temp\n",
        "      del l2_snapshot_\n",
        "      gc.collect()\n",
        "    i = i+1\n",
        "print('Memory Usage: {} MB'.format(l2_snapshot.memory_usage().sum()/(1024**2)))"
      ],
      "execution_count": 0,
      "outputs": [
        {
          "output_type": "stream",
          "text": [
            "Memory Usage: 607.2156143188477 MB\n"
          ],
          "name": "stdout"
        }
      ]
    },
    {
      "cell_type": "code",
      "metadata": {
        "id": "5rzKlDvrzjyK",
        "colab_type": "code",
        "outputId": "2b62b7d3-31b1-48f8-82ae-ae16b146b241",
        "colab": {
          "base_uri": "https://localhost:8080/",
          "height": 51
        }
      },
      "source": [
        "print('Before dropping null values: {}'.format(l2_snapshot.shape))\n",
        "l2_snapshot.dropna(inplace=True)\n",
        "print('After dropping null values: {}'.format(l2_snapshot.shape))"
      ],
      "execution_count": 0,
      "outputs": [
        {
          "output_type": "stream",
          "text": [
            "Before dropping null values: (395965, 200)\n",
            "After dropping null values: (214656, 200)\n"
          ],
          "name": "stdout"
        }
      ]
    },
    {
      "cell_type": "code",
      "metadata": {
        "id": "KdEO-8eBHM4z",
        "colab_type": "code",
        "colab": {}
      },
      "source": [
        "# Function to generate the labels for learning according to the paper\n",
        "def generate_features_labels(df,ask, bid,k=20, alpha = 10e-5):\n",
        "  df_ = df.copy()\n",
        "  df_['mid_price'] = (df_[ask]+df_[bid])/2\n",
        "  df_['target'] = 1\n",
        "  index = df_.columns.get_loc('mid_price')\n",
        "  target_index = df_.columns.get_loc('target')\n",
        "  shape = df_.shape[0]\n",
        "  for i in tqdm(range(k,shape-k)):\n",
        "    m_b = np.mean(df_.iloc[(i-k):i, index].values)\n",
        "    m_a = np.mean(df_.iloc[i+1:(i+k+1), index].values)\n",
        "\n",
        "    if (m_b > m_a*(1+alpha)):\n",
        "      df_.iloc[i,target_index] = 2\n",
        "    if (m_b < m_a*(1-alpha)):\n",
        "      df_.iloc[i,target_index] = 0\n",
        "\n",
        "  y = df_.iloc[k:shape-k, target_index].values\n",
        "  X = df.iloc[k:shape-k,:].values\n",
        "  #Free up memory by deleting not required dataframes.\n",
        "  del df_\n",
        "  del df\n",
        "  gc.collect()\n",
        "  return X,y"
      ],
      "execution_count": 0,
      "outputs": []
    },
    {
      "cell_type": "code",
      "metadata": {
        "id": "fDbvInqagtRk",
        "colab_type": "code",
        "outputId": "1a02effd-40a8-4c3c-d417-b68f4d31fa15",
        "colab": {
          "base_uri": "https://localhost:8080/",
          "height": 34
        }
      },
      "source": [
        "X,y = generate_features_labels(l2_snapshot, ask='a1', bid = 'b1')"
      ],
      "execution_count": 0,
      "outputs": [
        {
          "output_type": "stream",
          "text": [
            "100%|██████████| 214616/214616 [04:02<00:00, 884.07it/s] \n"
          ],
          "name": "stderr"
        }
      ]
    },
    {
      "cell_type": "code",
      "metadata": {
        "id": "Uy_ivAgHDAqm",
        "colab_type": "code",
        "colab": {}
      },
      "source": [
        "#Dimensions for the time series\n",
        "T = 100\n",
        "D = 200\n",
        "N = len(X) - T"
      ],
      "execution_count": 0,
      "outputs": []
    },
    {
      "cell_type": "code",
      "metadata": {
        "id": "Kx7z59QgDRgL",
        "colab_type": "code",
        "colab": {}
      },
      "source": [
        "trainPart = int(len(X)*0.7)  #(70% Data for training and 30% for testing)\n",
        "\n",
        "#Normalising the whole dataset\n",
        "\n",
        "scaler = StandardScaler()\n",
        "scaler.fit(X[:trainPart + T - 1])\n",
        "X = scaler.transform(X)"
      ],
      "execution_count": 0,
      "outputs": []
    },
    {
      "cell_type": "code",
      "metadata": {
        "colab_type": "code",
        "id": "7D-o4gGFq5lD",
        "outputId": "c6097109-20be-4faf-8344-d2fdeb4acc1f",
        "colab": {
          "base_uri": "https://localhost:8080/",
          "height": 85
        }
      },
      "source": [
        "#Create the template structure of training set\n",
        "X_train = np.zeros((trainPart, T, D))\n",
        "y_train = np.zeros(trainPart)\n",
        "\n",
        "#Preparing the time series data using timestep of 100 and no of features = 200\n",
        "for t in range(trainPart):\n",
        "  X_train[t, :, :] = X[t:t+T]\n",
        "  y_train[t] = y[t+T] \n",
        "\n",
        "# Reducing X_train datasize memory usage\n",
        "print('X_train - Before: {} GB'.format(X_train.nbytes/1024**3))\n",
        "X_train = X_train.astype('float16')\n",
        "print('X_train - After: {} GB'.format(X_train.nbytes/1024**3))\n",
        "\n",
        "# Reducing Y_train datasize memory usage\n",
        "print('y_train - before: {} MB'.format(y_train.nbytes/1024**2))\n",
        "y_train = y_train.astype('int')\n",
        "print('y_train - After: {} MB'.format(y_train.nbytes/1024**2))"
      ],
      "execution_count": 0,
      "outputs": [
        {
          "output_type": "stream",
          "text": [
            "X_train - Before: 22.386163473129272 GB\n",
            "X_train - After: 5.596540868282318 GB\n",
            "y_train - before: 1.1461715698242188 MB\n",
            "y_train - After: 1.1461715698242188 MB\n"
          ],
          "name": "stdout"
        }
      ]
    },
    {
      "cell_type": "code",
      "metadata": {
        "id": "Q6FRnVV6EG1R",
        "colab_type": "code",
        "outputId": "db4e6d68-dfa7-41ad-b3ae-ced935a2df0b",
        "colab": {
          "base_uri": "https://localhost:8080/",
          "height": 85
        }
      },
      "source": [
        "#Create the template structure of test set\n",
        "X_test = np.zeros((N - trainPart, T, D))\n",
        "y_test = np.zeros(N - trainPart)\n",
        "\n",
        "#Preparing the time series data using timestep of 100 and no of features = 200\n",
        "for k in range(N - trainPart):\n",
        "  t = k + trainPart\n",
        "  X_test[k, :, :] = X[t:t+T]\n",
        "  y_test[k] = y[t+T]\n",
        "\n",
        "# Reducing X_test datasize memory usage\n",
        "print('X_test - Before {} GB'.format(X_test.nbytes/1024**3))\n",
        "X_test = X_test.astype('float16')\n",
        "print('X_test - After {} GB'.format(X_test.nbytes/1024**3))\n",
        "\n",
        "# Reducing Y_test datasize memory usage\n",
        "print('y_test - Before: {} MB'.format(y_test.nbytes/1024**2))\n",
        "y_test = y_test.astype('int')\n",
        "print('y_test - After: {} MB'.format(y_test.nbytes/1024**2))"
      ],
      "execution_count": 0,
      "outputs": [
        {
          "output_type": "stream",
          "text": [
            "X_test - Before 9.579211473464966 GB\n",
            "X_test - After 2.3948028683662415 GB\n",
            "y_test - Before: 0.49045562744140625 MB\n",
            "y_test - After: 0.49045562744140625 MB\n"
          ],
          "name": "stdout"
        }
      ]
    },
    {
      "cell_type": "code",
      "metadata": {
        "id": "8EEo4XmdFYRv",
        "colab_type": "code",
        "outputId": "0d6ef404-e1fb-4d05-d8db-86e34e9a4e63",
        "colab": {
          "base_uri": "https://localhost:8080/",
          "height": 119
        }
      },
      "source": [
        "# Install TensorFlow\n",
        "# !pip install -q tensorflow-gpu==2.0.0-beta1\n",
        "\n",
        "try:\n",
        "  %tensorflow_version 2.x  # Colab only.\n",
        "except Exception:\n",
        "  pass\n",
        "\n",
        "import tensorflow as tf\n",
        "print(tf.__version__)"
      ],
      "execution_count": 0,
      "outputs": [
        {
          "output_type": "stream",
          "text": [
            "`%tensorflow_version` only switches the major version: `1.x` or `2.x`.\n",
            "You set: `2.x  # Colab only.`. This will be interpreted as: `2.x`.\n",
            "\n",
            "\n",
            "TensorFlow 2.x selected.\n",
            "2.0.0\n"
          ],
          "name": "stdout"
        }
      ]
    },
    {
      "cell_type": "code",
      "metadata": {
        "id": "AisEvFPTjuZ0",
        "colab_type": "code",
        "colab": {}
      },
      "source": [
        "from tensorflow.keras.layers import Input, Conv1D, Conv2D, Flatten, MaxPooling1D, MaxPooling2D, Dense, LeakyReLU\n",
        "from tensorflow.keras.models import Model\n",
        "from tensorflow.keras.optimizers import SGD, Adam"
      ],
      "execution_count": 0,
      "outputs": []
    },
    {
      "cell_type": "code",
      "metadata": {
        "id": "FjeF7paIHkLt",
        "colab_type": "code",
        "colab": {}
      },
      "source": [
        "#Converting X_train and X_test for 2D Convolution\n",
        "X_train = np.expand_dims(X_train, -1)\n",
        "X_test = np.expand_dims(X_test, -1)"
      ],
      "execution_count": 0,
      "outputs": []
    },
    {
      "cell_type": "code",
      "metadata": {
        "id": "vkZo5eXYmkDd",
        "colab_type": "code",
        "outputId": "9562e695-f4f7-4dfe-8a8c-713ab3b5c40e",
        "colab": {
          "base_uri": "https://localhost:8080/",
          "height": 68
        }
      },
      "source": [
        "#Model architecture is as from the report\n",
        "#T = 100 from the above step for timesteps and D = 200 (no. of features) \n",
        "i = Input(shape=X_train[0].shape)\n",
        "print(i)\n",
        "x = Conv2D(16, (4,D), activation=LeakyReLU(alpha=0.01))(i)\n",
        "print(x.shape)\n",
        "x = tf.keras.layers.Reshape(target_shape=(T-3,16))(x)\n",
        "print(x.shape)\n",
        "x = Conv1D(16, 4, activation=LeakyReLU(alpha=0.01))(x)\n",
        "x = MaxPooling1D(2)(x)\n",
        "x = Conv1D(32, 3, activation=LeakyReLU(alpha=0.01))(x)\n",
        "x = Conv1D(32, 3, activation=LeakyReLU(alpha=0.01))(x)\n",
        "x = MaxPooling1D(2)(x)\n",
        "x = Flatten()(x)\n",
        "x = Dense(32, activation=LeakyReLU(alpha=0.01))(x)\n",
        "x = Dense(3, activation='softmax')(x)\n",
        "\n",
        "model = Model(i,x)"
      ],
      "execution_count": 0,
      "outputs": [
        {
          "output_type": "stream",
          "text": [
            "Tensor(\"input_1:0\", shape=(None, 100, 200, 1), dtype=float32)\n",
            "(None, 97, 1, 16)\n",
            "(None, 97, 16)\n"
          ],
          "name": "stdout"
        }
      ]
    },
    {
      "cell_type": "code",
      "metadata": {
        "id": "_iWtFhsNFUqr",
        "colab_type": "code",
        "outputId": "9c03a540-431e-474d-e689-b3e6673441b3",
        "colab": {
          "base_uri": "https://localhost:8080/",
          "height": 527
        }
      },
      "source": [
        "#Printing Model Summary\n",
        "model.summary()"
      ],
      "execution_count": 0,
      "outputs": [
        {
          "output_type": "stream",
          "text": [
            "Model: \"model\"\n",
            "_________________________________________________________________\n",
            "Layer (type)                 Output Shape              Param #   \n",
            "=================================================================\n",
            "input_1 (InputLayer)         [(None, 100, 200, 1)]     0         \n",
            "_________________________________________________________________\n",
            "conv2d (Conv2D)              (None, 97, 1, 16)         12816     \n",
            "_________________________________________________________________\n",
            "reshape (Reshape)            (None, 97, 16)            0         \n",
            "_________________________________________________________________\n",
            "conv1d (Conv1D)              (None, 94, 16)            1040      \n",
            "_________________________________________________________________\n",
            "max_pooling1d (MaxPooling1D) (None, 47, 16)            0         \n",
            "_________________________________________________________________\n",
            "conv1d_1 (Conv1D)            (None, 45, 32)            1568      \n",
            "_________________________________________________________________\n",
            "conv1d_2 (Conv1D)            (None, 43, 32)            3104      \n",
            "_________________________________________________________________\n",
            "max_pooling1d_1 (MaxPooling1 (None, 21, 32)            0         \n",
            "_________________________________________________________________\n",
            "flatten (Flatten)            (None, 672)               0         \n",
            "_________________________________________________________________\n",
            "dense (Dense)                (None, 32)                21536     \n",
            "_________________________________________________________________\n",
            "dense_1 (Dense)              (None, 3)                 99        \n",
            "=================================================================\n",
            "Total params: 40,163\n",
            "Trainable params: 40,163\n",
            "Non-trainable params: 0\n",
            "_________________________________________________________________\n"
          ],
          "name": "stdout"
        }
      ]
    },
    {
      "cell_type": "code",
      "metadata": {
        "id": "zxcsMebPpWS-",
        "colab_type": "code",
        "colab": {}
      },
      "source": [
        "model.compile(optimizer='adam',\n",
        "              loss='sparse_categorical_crossentropy',\n",
        "              metrics=['accuracy'])\n",
        "#Accuracy is not a great metrics"
      ],
      "execution_count": 0,
      "outputs": []
    },
    {
      "cell_type": "code",
      "metadata": {
        "id": "QwRmHml2n42P",
        "colab_type": "code",
        "colab": {}
      },
      "source": [
        "from sklearn.utils.class_weight import compute_class_weight\n",
        "def compute_class_weights(y):\n",
        "    classes = np.unique(y)\n",
        "    class_weight = compute_class_weight(\"balanced\", classes, y)\n",
        "    class_weights = dict(zip(classes, class_weight))\n",
        "    return class_weights"
      ],
      "execution_count": 0,
      "outputs": []
    },
    {
      "cell_type": "code",
      "metadata": {
        "id": "HJMve9aBhUIw",
        "colab_type": "code",
        "colab": {}
      },
      "source": [
        "#computing class weights according to the percentage in training dataset\n",
        "class_weights = compute_class_weights(y_train)"
      ],
      "execution_count": 0,
      "outputs": []
    },
    {
      "cell_type": "code",
      "metadata": {
        "id": "jwab07y6Frhn",
        "colab_type": "code",
        "outputId": "e9820a80-f12f-4f41-838c-3ce5317815af",
        "colab": {
          "base_uri": "https://localhost:8080/",
          "height": 1000
        }
      },
      "source": [
        "EPOCHS = 50\n",
        "BATCH_SIZE = 16\n",
        "r = model.fit(\n",
        "  X_train, y_train,\n",
        "  batch_size=BATCH_SIZE,\n",
        "  epochs=EPOCHS,\n",
        "  validation_data=(X_test, y_test),\n",
        "  class_weight = class_weights\n",
        ")"
      ],
      "execution_count": 0,
      "outputs": [
        {
          "output_type": "stream",
          "text": [
            "Train on 150231 samples, validate on 64285 samples\n",
            "Epoch 1/50\n",
            "150231/150231 [==============================] - 105s 702us/sample - loss: 0.8125 - accuracy: 0.3620 - val_loss: 0.6922 - val_accuracy: 0.5642\n",
            "Epoch 2/50\n",
            "150231/150231 [==============================] - 113s 751us/sample - loss: 0.5505 - accuracy: 0.6131 - val_loss: 1.0339 - val_accuracy: 0.6012\n",
            "Epoch 3/50\n",
            "150231/150231 [==============================] - 121s 803us/sample - loss: 0.4080 - accuracy: 0.7211 - val_loss: 0.9403 - val_accuracy: 0.6256\n",
            "Epoch 4/50\n",
            "150231/150231 [==============================] - 130s 868us/sample - loss: 0.3253 - accuracy: 0.7854 - val_loss: 1.2011 - val_accuracy: 0.6997\n",
            "Epoch 5/50\n",
            "150231/150231 [==============================] - 129s 862us/sample - loss: 0.2816 - accuracy: 0.8214 - val_loss: 1.1180 - val_accuracy: 0.6813\n",
            "Epoch 6/50\n",
            "150231/150231 [==============================] - 128s 855us/sample - loss: 0.2395 - accuracy: 0.8513 - val_loss: 1.3957 - val_accuracy: 0.7266\n",
            "Epoch 7/50\n",
            "150231/150231 [==============================] - 126s 841us/sample - loss: 0.2189 - accuracy: 0.8639 - val_loss: 1.4211 - val_accuracy: 0.7301\n",
            "Epoch 8/50\n",
            "150231/150231 [==============================] - 137s 914us/sample - loss: 0.2030 - accuracy: 0.8767 - val_loss: 1.5330 - val_accuracy: 0.7989\n",
            "Epoch 9/50\n",
            "150231/150231 [==============================] - 151s 1ms/sample - loss: 0.1934 - accuracy: 0.8856 - val_loss: 1.6077 - val_accuracy: 0.7850\n",
            "Epoch 10/50\n",
            "150231/150231 [==============================] - 153s 1ms/sample - loss: 0.1789 - accuracy: 0.8964 - val_loss: 1.5187 - val_accuracy: 0.7940\n",
            "Epoch 11/50\n",
            "150231/150231 [==============================] - 156s 1ms/sample - loss: 0.1684 - accuracy: 0.9033 - val_loss: 1.6688 - val_accuracy: 0.7486\n",
            "Epoch 12/50\n",
            "150231/150231 [==============================] - 158s 1ms/sample - loss: 0.1667 - accuracy: 0.9058 - val_loss: 1.5955 - val_accuracy: 0.7933\n",
            "Epoch 13/50\n",
            "150231/150231 [==============================] - 153s 1ms/sample - loss: 0.1572 - accuracy: 0.9117 - val_loss: 1.7007 - val_accuracy: 0.8119\n",
            "Epoch 14/50\n",
            "150231/150231 [==============================] - 154s 1ms/sample - loss: 0.1547 - accuracy: 0.9137 - val_loss: 1.8818 - val_accuracy: 0.8214\n",
            "Epoch 15/50\n",
            "150231/150231 [==============================] - 153s 1ms/sample - loss: 0.1421 - accuracy: 0.9198 - val_loss: 1.7090 - val_accuracy: 0.8191\n",
            "Epoch 16/50\n",
            "150231/150231 [==============================] - 156s 1ms/sample - loss: 0.1446 - accuracy: 0.9200 - val_loss: 1.9951 - val_accuracy: 0.8366\n",
            "Epoch 17/50\n",
            "150231/150231 [==============================] - 154s 1ms/sample - loss: 0.1431 - accuracy: 0.9238 - val_loss: 1.9766 - val_accuracy: 0.8105\n",
            "Epoch 18/50\n",
            "150231/150231 [==============================] - 159s 1ms/sample - loss: 0.1403 - accuracy: 0.9263 - val_loss: 1.8099 - val_accuracy: 0.8169\n",
            "Epoch 19/50\n",
            "150231/150231 [==============================] - 165s 1ms/sample - loss: 0.1385 - accuracy: 0.9267 - val_loss: 1.8338 - val_accuracy: 0.7631\n",
            "Epoch 20/50\n",
            "150231/150231 [==============================] - 171s 1ms/sample - loss: 0.1243 - accuracy: 0.9335 - val_loss: 2.3375 - val_accuracy: 0.8513\n",
            "Epoch 21/50\n",
            "150231/150231 [==============================] - 166s 1ms/sample - loss: 0.1274 - accuracy: 0.9318 - val_loss: 1.8927 - val_accuracy: 0.8048\n",
            "Epoch 22/50\n",
            "150231/150231 [==============================] - 173s 1ms/sample - loss: 0.1288 - accuracy: 0.9339 - val_loss: 1.7831 - val_accuracy: 0.8108\n",
            "Epoch 23/50\n",
            "150231/150231 [==============================] - 170s 1ms/sample - loss: 0.1248 - accuracy: 0.9353 - val_loss: 1.9418 - val_accuracy: 0.8099\n",
            "Epoch 24/50\n",
            "150231/150231 [==============================] - 165s 1ms/sample - loss: 0.1207 - accuracy: 0.9380 - val_loss: 2.1842 - val_accuracy: 0.8367\n",
            "Epoch 25/50\n",
            "150231/150231 [==============================] - 170s 1ms/sample - loss: 0.1163 - accuracy: 0.9396 - val_loss: 1.8845 - val_accuracy: 0.8135\n",
            "Epoch 26/50\n",
            "150231/150231 [==============================] - 170s 1ms/sample - loss: 0.1203 - accuracy: 0.9381 - val_loss: 2.1563 - val_accuracy: 0.8061\n",
            "Epoch 27/50\n",
            "150231/150231 [==============================] - 176s 1ms/sample - loss: 0.1172 - accuracy: 0.9405 - val_loss: 1.9110 - val_accuracy: 0.8390\n",
            "Epoch 28/50\n",
            "150231/150231 [==============================] - 170s 1ms/sample - loss: 0.1115 - accuracy: 0.9416 - val_loss: 1.9844 - val_accuracy: 0.8341\n",
            "Epoch 29/50\n",
            "150231/150231 [==============================] - 171s 1ms/sample - loss: 0.1150 - accuracy: 0.9429 - val_loss: 2.3133 - val_accuracy: 0.8353\n",
            "Epoch 30/50\n",
            "150231/150231 [==============================] - 169s 1ms/sample - loss: 0.1122 - accuracy: 0.9430 - val_loss: 2.0833 - val_accuracy: 0.7617\n",
            "Epoch 31/50\n",
            "150231/150231 [==============================] - 173s 1ms/sample - loss: 0.1107 - accuracy: 0.9427 - val_loss: 2.1083 - val_accuracy: 0.8095\n",
            "Epoch 32/50\n",
            "150231/150231 [==============================] - 168s 1ms/sample - loss: 0.1086 - accuracy: 0.9459 - val_loss: 2.0234 - val_accuracy: 0.8115\n",
            "Epoch 33/50\n",
            "150231/150231 [==============================] - 173s 1ms/sample - loss: 0.1077 - accuracy: 0.9450 - val_loss: 1.9418 - val_accuracy: 0.8294\n",
            "Epoch 34/50\n",
            "150231/150231 [==============================] - 174s 1ms/sample - loss: 0.1062 - accuracy: 0.9465 - val_loss: 2.1590 - val_accuracy: 0.8417\n",
            "Epoch 35/50\n",
            "150231/150231 [==============================] - 173s 1ms/sample - loss: 0.1099 - accuracy: 0.9465 - val_loss: 2.0098 - val_accuracy: 0.8502\n",
            "Epoch 36/50\n",
            "150231/150231 [==============================] - 175s 1ms/sample - loss: 0.1153 - accuracy: 0.9450 - val_loss: 2.0721 - val_accuracy: 0.8370\n",
            "Epoch 37/50\n",
            "150231/150231 [==============================] - 175s 1ms/sample - loss: 0.0952 - accuracy: 0.9510 - val_loss: 2.1235 - val_accuracy: 0.8179\n",
            "Epoch 38/50\n",
            "150231/150231 [==============================] - 177s 1ms/sample - loss: 0.1040 - accuracy: 0.9493 - val_loss: 1.8304 - val_accuracy: 0.7764\n",
            "Epoch 39/50\n",
            "150231/150231 [==============================] - 170s 1ms/sample - loss: 0.0958 - accuracy: 0.9518 - val_loss: 2.1705 - val_accuracy: 0.8039\n",
            "Epoch 40/50\n",
            "150231/150231 [==============================] - 172s 1ms/sample - loss: 0.1102 - accuracy: 0.9472 - val_loss: 1.9224 - val_accuracy: 0.8261\n",
            "Epoch 41/50\n",
            "150231/150231 [==============================] - 172s 1ms/sample - loss: 0.0909 - accuracy: 0.9545 - val_loss: 1.9797 - val_accuracy: 0.8261\n",
            "Epoch 42/50\n",
            "150231/150231 [==============================] - 175s 1ms/sample - loss: 0.1097 - accuracy: 0.9468 - val_loss: 2.0220 - val_accuracy: 0.8175\n",
            "Epoch 43/50\n",
            "150231/150231 [==============================] - 170s 1ms/sample - loss: 0.0961 - accuracy: 0.9516 - val_loss: 2.2406 - val_accuracy: 0.8364\n",
            "Epoch 44/50\n",
            "150231/150231 [==============================] - 170s 1ms/sample - loss: 0.1002 - accuracy: 0.9503 - val_loss: 2.1422 - val_accuracy: 0.8420\n",
            "Epoch 45/50\n",
            "150231/150231 [==============================] - 175s 1ms/sample - loss: 0.1015 - accuracy: 0.9505 - val_loss: 2.0656 - val_accuracy: 0.7804\n",
            "Epoch 46/50\n",
            "150231/150231 [==============================] - 172s 1ms/sample - loss: 0.0893 - accuracy: 0.9539 - val_loss: 2.3706 - val_accuracy: 0.8587\n",
            "Epoch 47/50\n",
            "150231/150231 [==============================] - 172s 1ms/sample - loss: 0.0938 - accuracy: 0.9531 - val_loss: 1.9988 - val_accuracy: 0.7782\n",
            "Epoch 48/50\n",
            "150231/150231 [==============================] - 170s 1ms/sample - loss: 0.0972 - accuracy: 0.9519 - val_loss: 2.2690 - val_accuracy: 0.8106\n",
            "Epoch 49/50\n",
            "150231/150231 [==============================] - 171s 1ms/sample - loss: 0.1037 - accuracy: 0.9513 - val_loss: 2.3247 - val_accuracy: 0.8515\n",
            "Epoch 50/50\n",
            "150231/150231 [==============================] - 173s 1ms/sample - loss: 0.1079 - accuracy: 0.9486 - val_loss: 2.2371 - val_accuracy: 0.8369\n"
          ],
          "name": "stdout"
        }
      ]
    },
    {
      "cell_type": "code",
      "metadata": {
        "id": "lcf2wsdzSSoI",
        "colab_type": "code",
        "outputId": "5de03cb0-afc1-4530-9ff6-78494360ac27",
        "colab": {
          "base_uri": "https://localhost:8080/",
          "height": 312
        }
      },
      "source": [
        "sns.lineplot(x=range(1,EPOCHS+1),y=r.history['loss'])\n",
        "sns.lineplot(x=range(1,EPOCHS+1),y=r.history['val_loss'])\n",
        "plt.title('Model Cross Entropy Loss')\n",
        "plt.ylabel('Cross Entropy Loss')\n",
        "plt.xlabel('Epochs')\n",
        "plt.legend(['Training', 'Testing'], loc='upper left')"
      ],
      "execution_count": 0,
      "outputs": [
        {
          "output_type": "execute_result",
          "data": {
            "text/plain": [
              "<matplotlib.legend.Legend at 0x7f7fa457d6a0>"
            ]
          },
          "metadata": {
            "tags": []
          },
          "execution_count": 27
        },
        {
          "output_type": "display_data",
          "data": {
            "image/png": "[encoded data removed]",
            "text/plain": [
              "<Figure size 432x288 with 1 Axes>"
            ]
          },
          "metadata": {
            "tags": []
          }
        }
      ]
    },
    {
      "cell_type": "code",
      "metadata": {
        "id": "AyMpH7DVlc8m",
        "colab_type": "code",
        "colab": {}
      },
      "source": [
        "# Model is clearly overfitting as the training loss is decreasing but the testing loss is just increasing. The confusion matrix below gives better information"
      ],
      "execution_count": 0,
      "outputs": []
    },
    {
      "cell_type": "code",
      "metadata": {
        "id": "qyGI6Al2n30C",
        "colab_type": "code",
        "colab": {}
      },
      "source": [
        "y_pred = model.predict(X_test).argmax(axis=1)"
      ],
      "execution_count": 0,
      "outputs": []
    },
    {
      "cell_type": "code",
      "metadata": {
        "id": "vJugwyIJI_DC",
        "colab_type": "code",
        "outputId": "2f7b9a39-bbe7-4405-8079-9d9d673e416c",
        "colab": {
          "base_uri": "https://localhost:8080/",
          "height": 136
        }
      },
      "source": [
        " model.predict(X_test)"
      ],
      "execution_count": 0,
      "outputs": [
        {
          "output_type": "execute_result",
          "data": {
            "text/plain": [
              "array([[9.9944943e-01, 5.5062218e-04, 5.9082446e-26],\n",
              "       [9.5253259e-01, 4.7467332e-02, 1.0671785e-19],\n",
              "       [9.6852845e-01, 3.1471580e-02, 6.8123664e-17],\n",
              "       ...,\n",
              "       [7.4375956e-03, 9.9205458e-01, 5.0786865e-04],\n",
              "       [1.0000000e+00, 4.6534499e-08, 0.0000000e+00],\n",
              "       [5.2140851e-02, 9.4785911e-01, 2.2283022e-12]], dtype=float32)"
            ]
          },
          "metadata": {
            "tags": []
          },
          "execution_count": 29
        }
      ]
    },
    {
      "cell_type": "code",
      "metadata": {
        "id": "WMhHGaX6i-oG",
        "colab_type": "code",
        "outputId": "8425b258-8929-432d-b89c-ab836e717e06",
        "colab": {
          "base_uri": "https://localhost:8080/",
          "height": 265
        }
      },
      "source": [
        "# Plot confusion matrix\n",
        "from sklearn.metrics import confusion_matrix\n",
        "\n",
        "cm = confusion_matrix(y_pred=y_pred, y_true=y_test)\n",
        "    \n",
        "cm = cm.astype('float') / cm.sum(axis=1)[:, np.newaxis]\n",
        "    \n",
        "ax=sns.heatmap(cm, annot=True, xticklabels=[0,1,2], yticklabels=[0,1,2], cmap='Blues')\n",
        "ax.set_ylim(3.0, 0)\n",
        "plt.show()"
      ],
      "execution_count": 0,
      "outputs": [
        {
          "output_type": "display_data",
          "data": {
            "image/png": "[encoded data removed]",
            "text/plain": [
              "<Figure size 432x288 with 2 Axes>"
            ]
          },
          "metadata": {
            "tags": []
          }
        }
      ]
    },
    {
      "cell_type": "code",
      "metadata": {
        "id": "v_tLLfJA6IT0",
        "colab_type": "code",
        "outputId": "e92c4aa1-8ad8-4bc9-f0e7-746c9962e6ed",
        "colab": {
          "base_uri": "https://localhost:8080/",
          "height": 187
        }
      },
      "source": [
        "#Print the classification report\n",
        "print(classification_report(y_true= y_test, y_pred = y_pred))"
      ],
      "execution_count": 0,
      "outputs": [
        {
          "output_type": "stream",
          "text": [
            "              precision    recall  f1-score   support\n",
            "\n",
            "           0       0.08      0.11      0.09      1865\n",
            "           1       0.94      0.88      0.91     60324\n",
            "           2       0.08      0.21      0.12      2096\n",
            "\n",
            "    accuracy                           0.84     64285\n",
            "   macro avg       0.37      0.40      0.37     64285\n",
            "weighted avg       0.89      0.84      0.86     64285\n",
            "\n"
          ],
          "name": "stdout"
        }
      ]
    },
    {
      "cell_type": "code",
      "metadata": {
        "id": "4Hi_ropAlB3U",
        "colab_type": "code",
        "colab": {}
      },
      "source": [
        ""
      ],
      "execution_count": 0,
      "outputs": []
    }
  ]
}