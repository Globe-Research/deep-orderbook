{
  "nbformat": 4,
  "nbformat_minor": 0,
  "metadata": {
    "kernelspec": {
      "display_name": "Python 3",
      "language": "python",
      "name": "python3"
    },
    "language_info": {
      "codemirror_mode": {
        "name": "ipython",
        "version": 3
      },
      "file_extension": ".py",
      "mimetype": "text/x-python",
      "name": "python",
      "nbconvert_exporter": "python",
      "pygments_lexer": "ipython3",
      "version": "3.7.5"
    },
    "colab": {
      "name": "CNN Deeplearning_walkforward.ipynb",
      "provenance": [],
      "collapsed_sections": []
    }
  },
  "cells": [
    {
      "cell_type": "code",
      "metadata": {
        "id": "bhz3q1xpevKZ",
        "colab_type": "code",
        "colab": {}
      },
      "source": [
        "import os\n",
        "import pandas as pd\n",
        "import numpy as np\n",
        "from google.cloud import storage\n",
        "%matplotlib inline\n",
        "import seaborn as sns\n",
        "import matplotlib.pyplot as plt\n",
        "from tqdm import tqdm\n",
        "from sklearn.metrics import classification_report\n",
        "from sklearn.model_selection import train_test_split\n",
        "import gc"
      ],
      "execution_count": 1,
      "outputs": []
    },
    {
      "cell_type": "code",
      "metadata": {
        "id": "9aeLjSyhNJRn",
        "colab_type": "code",
        "colab": {}
      },
      "source": [
        "JSONcredential = \"key_storage_dl-orderbook.json\"\n",
        "os.environ[\"GOOGLE_APPLICATION_CREDENTIALS\"] = JSONcredential"
      ],
      "execution_count": 2,
      "outputs": []
    },
    {
      "cell_type": "code",
      "metadata": {
        "id": "Sc3zbGbAFdFN",
        "colab_type": "code",
        "colab": {}
      },
      "source": [
        "#Create client to bundle configuration needed for API requests.\n",
        "storage_client = storage.client.Client()\n",
        "\n",
        "# Or create object to existing bucket\n",
        "bucket = storage_client.get_bucket('bucket_l2_snapshot')\n",
        "\n",
        "# blob = bucket.blob('l2_snapshot_100ms.csv')"
      ],
      "execution_count": 3,
      "outputs": []
    },
    {
      "cell_type": "code",
      "metadata": {
        "id": "VpgOk6jlT-bG",
        "colab_type": "code",
        "colab": {}
      },
      "source": [
        "df = pd.read_csv('gs://bucket_l2_snapshot/l2_snapshot_100ms.csv', index_col=0, infer_datetime_format=True)"
      ],
      "execution_count": 30,
      "outputs": []
    },
    {
      "cell_type": "code",
      "metadata": {
        "id": "C2qvcsVScmIB",
        "colab_type": "code",
        "colab": {}
      },
      "source": [
        "df.index = pd.to_datetime(df.index)"
      ],
      "execution_count": 31,
      "outputs": []
    },
    {
      "cell_type": "code",
      "metadata": {
        "id": "vSxdj0pTevLR",
        "colab_type": "code",
        "colab": {}
      },
      "source": [
        "def concat_data(base_path, features):\n",
        "    \"\"\"Concatenate all the files in basepath keeping only the\n",
        "    columns specified by features.\n",
        "    \"\"\"\n",
        "    l2_snapshot = pd.DataFrame()\n",
        "    for i, x in enumerate(tqdm(sorted(os.listdir(base_path)))):\n",
        "      if base_path is None:\n",
        "        path = x\n",
        "      else:\n",
        "        path = base_path + x\n",
        "      df_hour = pd.read_parquet(path, columns=features)\n",
        "      l2_snapshot = pd.concat([l2_snapshot, df_hour.dropna()])\n",
        "        \n",
        "    return l2_snapshot\n",
        "\n",
        "def extend_matrix(A, n):\n",
        "    \"\"\"Extend a matrix A by duplicating rows as specified by the list n.\"\"\"\n",
        "    n = n[1:]  # Do not duplicate rows for the first day\n",
        "    A = A[:-1]  # Do not duplicate the last day's row\n",
        "    A = np.repeat(A, repeats=n, axis=0)\n",
        "    return A\n",
        "\n",
        "def normalise_data_per_day(df):\n",
        "    df_mean = df.resample('D').mean()\n",
        "    df_var = df.resample('D').var()\n",
        "    \n",
        "    timestamps_per_day = np.unique(df.index.date, return_counts=True)[1]\n",
        "    mean_array = extend_matrix(df_mean.to_numpy(), timestamps_per_day)\n",
        "    var_array = extend_matrix(df_var.to_numpy(), timestamps_per_day)\n",
        "    \n",
        "    # Drop the rows of the first day\n",
        "    df = df[df.index.date != df.index[0].date()]\n",
        "    \n",
        "    df = (df - mean_array) / np.sqrt(var_array)\n",
        "\n",
        "    return df\n",
        "\n",
        "def balance_classes(y):\n",
        "    unique = np.unique(y, return_counts=True)\n",
        "\n",
        "    # Take smallest number as class size\n",
        "    class_size = np.min(unique[1])\n",
        "    class_size_index = np.argmin(unique[1])\n",
        "    timestamps = np.array([], dtype=int)\n",
        "    for i, category in enumerate(unique[0]):\n",
        "        if i == class_size_index:\n",
        "            continue\n",
        "        index = np.argwhere(y==category)\n",
        "        index = index.reshape(len(index))\n",
        "        random_timestamps = np.random.choice(index, (unique[1][i] - class_size), replace=False)\n",
        "        timestamps = np.concatenate((timestamps, random_timestamps), axis=None)\n",
        "        \n",
        "    return timestamps\n",
        "\n",
        "def generate_y(df_snapshot, T=100, D=40, best_ask='a1', best_bid='b1', k=20, alpha=10e-5):\n",
        "    \"\"\"Return X, y from the snapshot dataframe and the best ask/bid columns.\"\"\"\n",
        "    df = pd.DataFrame()\n",
        "    df['mid_price'] = (df_snapshot[best_ask].to_numpy()+df_snapshot[best_bid].to_numpy())/2\n",
        "\n",
        "    # Create columns delayed by -k to k-1\n",
        "    for i in range(-k, k):\n",
        "        df[i] = df['mid_price'].shift(periods=i)\n",
        "\n",
        "    # Drop first k-1 rows and last k rows\n",
        "    df.drop(range(0,20), axis=0, inplace=True)\n",
        "    df.drop(range(len(df_snapshot)-20,len(df_snapshot)), axis=0, inplace=True)\n",
        "    \n",
        "    # Compute mean of previous k and next k\n",
        "    df['m_b'] = df[range(0,20)].mean(axis=1)\n",
        "    df['m_a'] = df[range(-20,0)].mean(axis=1)\n",
        "    \n",
        "    # Compute label of increasing or decreasing\n",
        "    y_increase = np.where(df['m_b'] > df['m_a'] * (1+alpha), 1, 0)\n",
        "    y_decrease = np.where(df['m_b'] < df['m_a'] * (1-alpha), -1, 0)\n",
        "    y = y_increase + y_decrease\n",
        "\n",
        "    # 100 most recent limit orders used so ignore first 100 timesteps\n",
        "    y = y[T:]\n",
        "    y += 1\n",
        "\n",
        "    return y\n",
        "\n",
        "def generate_preX(df_snapshot):\n",
        "    # First and last 20 can't create labels for as previous and next k=20 needed\n",
        "    preX = df_snapshot.to_numpy()[20:-20]\n",
        "\n",
        "    return preX\n",
        "\n",
        "def generate_X(preX, T=100, D=40):\n",
        "    # For each timestep create matrix of 100 most recent limit orders\n",
        "    X = np.array([preX[t:t+T] for t in range(len(preX)-T)], dtype='float32')\n",
        "        \n",
        "    return X"
      ],
      "execution_count": 32,
      "outputs": []
    },
    {
      "cell_type": "code",
      "metadata": {
        "id": "XwQ_MmCFevL5",
        "colab_type": "code",
        "colab": {}
      },
      "source": [
        "# takes 70 seconds\n",
        "l2_norm = normalise_data_per_day(df)"
      ],
      "execution_count": 33,
      "outputs": []
    },
    {
      "cell_type": "code",
      "metadata": {
        "id": "DLvio-Nxxz22",
        "colab_type": "code",
        "colab": {}
      },
      "source": [
        "del df"
      ],
      "execution_count": 34,
      "outputs": []
    },
    {
      "cell_type": "code",
      "metadata": {
        "id": "NEb1NMSXevNO",
        "colab_type": "code",
        "colab": {
          "base_uri": "https://localhost:8080/",
          "height": 486
        },
        "outputId": "896c712e-d48c-47a8-b254-af4f96f99505"
      },
      "source": [
        "# plt.figure(figsize = (15,8))\n",
        "# plt.plot(np.arange(1,l2_norm.shape[0]+1), (l2_norm['a1']+l2_norm['b1'])/2)\n",
        "# plt.show()"
      ],
      "execution_count": null,
      "outputs": [
        {
          "output_type": "display_data",
          "data": {
            "text/plain": [
              "<Figure size 1080x576 with 1 Axes>"
            ],
            "image/png": "[encoded data removed]"
          },
          "metadata": {
            "tags": [],
            "needs_background": "light"
          }
        }
      ]
    },
    {
      "cell_type": "code",
      "metadata": {
        "id": "q-MNyf4S4pcg",
        "colab_type": "code",
        "colab": {}
      },
      "source": [
        "# First create input dataset and then undersample to have balanced classes\n",
        "# Train test validate split "
      ],
      "execution_count": null,
      "outputs": []
    },
    {
      "cell_type": "code",
      "metadata": {
        "id": "sW2NrIdRevN2",
        "colab_type": "code",
        "colab": {
          "base_uri": "https://localhost:8080/",
          "height": 104
        },
        "outputId": "116b9f65-49ca-4d6f-a849-cf6af086539a"
      },
      "source": [
        "T = 100\n",
        "D = 40\n",
        "y = generate_y(l2_norm, T=T, D=D, best_ask='a1', best_bid = 'b1', alpha=0.002)\n",
        "preX = generate_preX(l2_norm)\n",
        "print(\"preX Shape: \", preX.shape)\n",
        "X = generate_X(preX)\n",
        "print(\"X shape, y shape: \", X.shape, y.shape)\n",
        "print(\"Unique y's: \", np.unique(y))\n",
        "\n",
        "del preX\n",
        "gc.collect()\n",
        "\n",
        "# First and last 20 are removed to create labels and then last 100 as previous 100 is required for input matrix\n",
        "l2_norm_adj = l2_norm[20:-120]\n",
        "X_index = l2_norm[20:-120].index\n",
        "\n",
        "# Number of data points for the last day\n",
        "num_test = np.unique(X_index.day, return_counts=True)[1][-1]\n",
        "\n",
        "# Split the data into the first seven days and the last day\n",
        "X_train_val = X[:-num_test]\n",
        "y_train_val = y[:-num_test]\n",
        "X_test = X[-num_test:]\n",
        "y_test = y[-num_test:]\n",
        "\"\"\"\n",
        "# Balance out the classes by taking the number of the smallest class\n",
        "timestamps_to_delete = balance_classes(y_train_val)\n",
        "print(\"Number of snapshots deleted: \", len(timestamps_to_delete))\n",
        "X_train_val = np.delete(X_train_val, timestamps_to_delete, axis=0)\n",
        "y_train_val = np.delete(y_train_val, timestamps_to_delete, axis=0)\n",
        "print(\"X_train_val shape and y_train_val shape\", X_train_val.shape, y_train_val.shape)\n",
        "print(\"The count for each class: \", np.unique(y_train_val, return_counts=True)[1])\n",
        "\n",
        "# Split the data further (now randomly) into train and validation\n",
        "X_train, X_validation, y_train, y_validation = train_test_split(\n",
        "    X_train_val, y_train_val, test_size=0.15, random_state=42)\n",
        "\n",
        "del X_train_val, y_train_val, X, y\n",
        "gc.collect()\n",
        "\"\"\""
      ],
      "execution_count": 9,
      "outputs": [
        {
          "output_type": "stream",
          "text": [
            "preX Shape:  (4220032, 40)\n",
            "X shape, y shape:  (4219932, 100, 40) (4219932,)\n",
            "Unique y's:  [0 1 2]\n"
          ],
          "name": "stdout"
        },
        {
          "output_type": "execute_result",
          "data": {
            "text/plain": [
              "'\\n# Balance out the classes by taking the number of the smallest class\\ntimestamps_to_delete = balance_classes(y_train_val)\\nprint(\"Number of snapshots deleted: \", len(timestamps_to_delete))\\nX_train_val = np.delete(X_train_val, timestamps_to_delete, axis=0)\\ny_train_val = np.delete(y_train_val, timestamps_to_delete, axis=0)\\nprint(\"X_train_val shape and y_train_val shape\", X_train_val.shape, y_train_val.shape)\\nprint(\"The count for each class: \", np.unique(y_train_val, return_counts=True)[1])\\n\\n# Split the data further (now randomly) into train and validation\\nX_train, X_validation, y_train, y_validation = train_test_split(\\n    X_train_val, y_train_val, test_size=0.15, random_state=42)\\n\\ndel X_train_val, y_train_val, X, y\\ngc.collect()\\n'"
            ]
          },
          "metadata": {
            "tags": []
          },
          "execution_count": 9
        }
      ]
    },
    {
      "cell_type": "code",
      "metadata": {
        "id": "ZlpMp2BjevO0",
        "colab_type": "code",
        "colab": {
          "base_uri": "https://localhost:8080/",
          "height": 118
        },
        "outputId": "535bced1-efac-4ede-9211-630543f20aef"
      },
      "source": [
        "print('X_train - Before: {} GB'.format(X_train.nbytes/1024**3), X_train.dtype)\n",
        "print('y_train - Before: {} GB'.format(y_train.nbytes/1024**3), y_train.dtype)\n",
        "print('X_validation - Before: {} GB'.format(X_validation.nbytes/1024**3), X_validation.dtype)\n",
        "print('y_validation - Before: {} GB'.format(y_validation.nbytes/1024**3), y_validation.dtype)\n",
        "print('X_test - Before: {} GB'.format(X_test.nbytes/1024**3), X_test.dtype)\n",
        "print('y_test - Before: {} GB'.format(y_test.nbytes/1024**3), y_test.dtype)\n",
        "\n",
        "print(\"X_train shape, y_train shape\", X_train.shape, y_train.shape)"
      ],
      "execution_count": null,
      "outputs": [
        {
          "output_type": "stream",
          "text": [
            "X_train - Before: 19.253939390182495 GB float32\n",
            "y_train - Before: 0.009626969695091248 GB int64\n",
            "X_validation - Before: 3.3977627754211426 GB float32\n",
            "y_validation - Before: 0.0016988813877105713 GB int64\n",
            "X_test - Before: 6.935000419616699 GB float32\n",
            "y_test - Before: 0.0034675002098083496 GB int64\n"
          ],
          "name": "stdout"
        }
      ]
    },
    {
      "cell_type": "code",
      "metadata": {
        "id": "LTlsiH-ievO_",
        "colab_type": "code",
        "colab": {
          "base_uri": "https://localhost:8080/",
          "height": 34
        },
        "outputId": "616627e5-d50f-4002-8621-eb70496e736e"
      },
      "source": [
        "import tensorflow as tf\n",
        "print(tf.__version__)"
      ],
      "execution_count": 10,
      "outputs": [
        {
          "output_type": "stream",
          "text": [
            "2.1.0\n"
          ],
          "name": "stdout"
        }
      ]
    },
    {
      "cell_type": "code",
      "metadata": {
        "id": "q9ETniLaevPm",
        "colab_type": "code",
        "colab": {}
      },
      "source": [
        "from tensorflow.keras.layers import Input, Conv1D, Conv2D, Flatten, MaxPooling1D, MaxPooling2D, Dense, LeakyReLU, Bidirectional, LSTM, Add, Activation, GlobalAveragePooling1D, BatchNormalization\n",
        "from tensorflow.keras import activations\n",
        "from tensorflow.keras.models import Model\n",
        "from tensorflow.keras.optimizers import SGD, Adam\n",
        "from tensorflow.compat.v1.keras.layers import CuDNNLSTM\n",
        "from tensorflow import keras\n",
        "from functools import partial"
      ],
      "execution_count": 11,
      "outputs": []
    },
    {
      "cell_type": "code",
      "metadata": {
        "id": "yAx4OvHJAvOc",
        "colab_type": "code",
        "colab": {
          "base_uri": "https://localhost:8080/",
          "height": 222
        },
        "outputId": "482bb2c7-9639-4a31-ad9b-c07234281b55"
      },
      "source": [
        "DefaultConv1D = partial(keras.layers.Conv1D, kernel_size=4, strides=1,\n",
        "                        padding=\"SAME\", use_bias=False)\n",
        "\n",
        "strategy = tf.distribute.MirroredStrategy()\n",
        "with strategy.scope():\n",
        "    inputs = keras.layers.Input(shape = (100,40))\n",
        "    x = keras.layers.Conv1D(filters=16, kernel_size=4 ,activation='relu', padding='SAME')(inputs)\n",
        "    x = keras.layers.MaxPooling1D(2)(x)\n",
        "    \n",
        "    prev_filters = 16\n",
        "    for filters in [16]*3+[32]*2:\n",
        "        if prev_filters != filters:\n",
        "            stride = 2\n",
        "            shortcut = DefaultConv1D(filters, kernel_size=1, strides=stride)(x)\n",
        "            shortcut = keras.layers.BatchNormalization()(shortcut)\n",
        "        else:\n",
        "            stride = 1\n",
        "            shortcut = x\n",
        "\n",
        "        x = DefaultConv1D(filters, strides=stride)(x)\n",
        "        x = keras.layers.BatchNormalization()(x)\n",
        "        x = keras.layers.Activation('relu')(x)\n",
        "        x = DefaultConv1D(filters)(x)\n",
        "        x = keras.layers.BatchNormalization()(x)\n",
        "\n",
        "        x = keras.layers.Add()([shortcut, x])\n",
        "        x = keras.layers.Activation('relu')(x)\n",
        "\n",
        "        prev_filters = filters\n",
        "\n",
        "    x = keras.layers.GlobalAveragePooling1D()(x)\n",
        "    outputs = keras.layers.Dense(3, activation='softmax')(x)\n",
        "    \n",
        "    res_net_model = keras.models.Model(inputs, outputs)\n",
        "    opt = keras.optimizers.Adam(learning_rate=0.001)  # Default is 0.001\n",
        "    res_net_model.compile(optimizer=opt,\n",
        "               loss='sparse_categorical_crossentropy',\n",
        "                metrics = ['accuracy'])"
      ],
      "execution_count": null,
      "outputs": [
        {
          "output_type": "stream",
          "text": [
            "INFO:tensorflow:Using MirroredStrategy with devices ('/job:localhost/replica:0/task:0/device:GPU:0', '/job:localhost/replica:0/task:0/device:GPU:1', '/job:localhost/replica:0/task:0/device:GPU:2', '/job:localhost/replica:0/task:0/device:GPU:3')\n",
            "INFO:tensorflow:Reduce to /job:localhost/replica:0/task:0/device:CPU:0 then broadcast to ('/job:localhost/replica:0/task:0/device:CPU:0',).\n",
            "INFO:tensorflow:Reduce to /job:localhost/replica:0/task:0/device:CPU:0 then broadcast to ('/job:localhost/replica:0/task:0/device:CPU:0',).\n",
            "INFO:tensorflow:Reduce to /job:localhost/replica:0/task:0/device:CPU:0 then broadcast to ('/job:localhost/replica:0/task:0/device:CPU:0',).\n",
            "INFO:tensorflow:Reduce to /job:localhost/replica:0/task:0/device:CPU:0 then broadcast to ('/job:localhost/replica:0/task:0/device:CPU:0',).\n",
            "INFO:tensorflow:Reduce to /job:localhost/replica:0/task:0/device:CPU:0 then broadcast to ('/job:localhost/replica:0/task:0/device:CPU:0',).\n",
            "INFO:tensorflow:Reduce to /job:localhost/replica:0/task:0/device:CPU:0 then broadcast to ('/job:localhost/replica:0/task:0/device:CPU:0',).\n",
            "INFO:tensorflow:Reduce to /job:localhost/replica:0/task:0/device:CPU:0 then broadcast to ('/job:localhost/replica:0/task:0/device:CPU:0',).\n",
            "INFO:tensorflow:Reduce to /job:localhost/replica:0/task:0/device:CPU:0 then broadcast to ('/job:localhost/replica:0/task:0/device:CPU:0',).\n",
            "INFO:tensorflow:Reduce to /job:localhost/replica:0/task:0/device:CPU:0 then broadcast to ('/job:localhost/replica:0/task:0/device:CPU:0',).\n",
            "INFO:tensorflow:Reduce to /job:localhost/replica:0/task:0/device:CPU:0 then broadcast to ('/job:localhost/replica:0/task:0/device:CPU:0',).\n"
          ],
          "name": "stdout"
        }
      ]
    },
    {
      "cell_type": "code",
      "metadata": {
        "id": "9Q1sG4gWlZsg",
        "colab_type": "code",
        "colab": {}
      },
      "source": [
        "res_net_model_walkforward = tf.keras.models.load_model('models/model_resnet_walkforward.h5')\n",
        "# res_net_model_walkforward = tf.keras.models.load_model('gs://bucket_l2_snapshot/model_resnet_walkforward')"
      ],
      "execution_count": 12,
      "outputs": []
    },
    {
      "cell_type": "code",
      "metadata": {
        "id": "usv_jxCWevQ_",
        "colab_type": "code",
        "colab": {
          "base_uri": "https://localhost:8080/",
          "height": 1000
        },
        "outputId": "130a3f8e-e2e3-433c-a079-780bc1c86188"
      },
      "source": [
        "EPOCHS = 1000\n",
        "model_filename = \"model_resnet_walkforward.h5\"\n",
        "hist_filename = \"hist_model_walkforward.csv\"\n",
        "early_stop = keras.callbacks.EarlyStopping(\n",
        "                monitor='val_loss',\n",
        "                patience=4)\n",
        "model_save_checkpoint = keras.callbacks.ModelCheckpoint(\n",
        "                            filepath=\"models/\" + model_filename,\n",
        "                            save_best_only=True,\n",
        "                            monitor='val_loss',\n",
        "                            verbose=1)\n",
        "reduce_lr = keras.callbacks.ReduceLROnPlateau(\n",
        "                monitor='val_loss',\n",
        "                factor=0.2,\n",
        "                patience=2,\n",
        "                verbose=1,\n",
        "                min_lr=0.0001)\n",
        "callbacks = [reduce_lr, model_save_checkpoint, early_stop]\n",
        "history = res_net_model.fit(\n",
        "            X_train, y_train,\n",
        "            epochs=EPOCHS,\n",
        "            batch_size=128,\n",
        "            callbacks=callbacks,\n",
        "            validation_data = (X_validation, y_validation),\n",
        ")\n",
        "\n",
        "hist = pd.DataFrame(history.history)\n",
        "hist.to_csv(hist_filename)\n",
        "\n",
        "#Create client to bundle configuration needed for API requests.\n",
        "storage_client = storage.client.Client()\n",
        "\n",
        "# Or create object to existing bucket\n",
        "bucket = storage_client.get_bucket('bucket_l2_snapshot')\n",
        "\n",
        "# Upload model to bucket\n",
        "blob = bucket.blob('model_resnet_walkforward')\n",
        "blob.upload_from_filename(\"models/\" + model_filename)\n",
        "\n",
        "# Upload history to bucket\n",
        "blob_2 = bucket.blob('history_training_walkforward')\n",
        "blob_2.upload_from_filename(hist_filename)"
      ],
      "execution_count": null,
      "outputs": [
        {
          "output_type": "stream",
          "text": [
            "Train on 1292110 samples, validate on 228020 samples\n",
            "Epoch 1/1000\n",
            "INFO:tensorflow:batch_all_reduce: 37 all-reduces with algorithm = nccl, num_packs = 1, agg_small_grads_max_bytes = 0 and agg_small_grads_max_group = 10\n",
            "INFO:tensorflow:batch_all_reduce: 37 all-reduces with algorithm = nccl, num_packs = 1, agg_small_grads_max_bytes = 0 and agg_small_grads_max_group = 10\n",
            "1291904/1292110 [============================>.] - ETA: 0s - loss: 0.7382 - accuracy: 0.6635\n",
            "Epoch 00001: val_loss improved from inf to 0.69681, saving model to models/model_resnet_walkforward.h5\n",
            "1292110/1292110 [==============================] - 241s 186us/sample - loss: 0.7382 - accuracy: 0.6635 - val_loss: 0.6968 - val_accuracy: 0.6901\n",
            "Epoch 2/1000\n",
            "1291904/1292110 [============================>.] - ETA: 0s - loss: 0.6778 - accuracy: 0.6983\n",
            "Epoch 00002: val_loss improved from 0.69681 to 0.66121, saving model to models/model_resnet_walkforward.h5\n",
            "1292110/1292110 [==============================] - 188s 145us/sample - loss: 0.6778 - accuracy: 0.6983 - val_loss: 0.6612 - val_accuracy: 0.7068\n",
            "Epoch 3/1000\n",
            "1291776/1292110 [============================>.] - ETA: 0s - loss: 0.6594 - accuracy: 0.7074\n",
            "Epoch 00003: val_loss improved from 0.66121 to 0.65751, saving model to models/model_resnet_walkforward.h5\n",
            "1292110/1292110 [==============================] - 187s 145us/sample - loss: 0.6594 - accuracy: 0.7074 - val_loss: 0.6575 - val_accuracy: 0.7079\n",
            "Epoch 4/1000\n",
            "1291776/1292110 [============================>.] - ETA: 0s - loss: 0.6479 - accuracy: 0.7133\n",
            "Epoch 00004: val_loss improved from 0.65751 to 0.64378, saving model to models/model_resnet_walkforward.h5\n",
            "1292110/1292110 [==============================] - 188s 145us/sample - loss: 0.6479 - accuracy: 0.7133 - val_loss: 0.6438 - val_accuracy: 0.7133\n",
            "Epoch 5/1000\n",
            "1291904/1292110 [============================>.] - ETA: 0s - loss: 0.6392 - accuracy: 0.7173\n",
            "Epoch 00005: val_loss improved from 0.64378 to 0.63275, saving model to models/model_resnet_walkforward.h5\n",
            "1292110/1292110 [==============================] - 188s 145us/sample - loss: 0.6392 - accuracy: 0.7173 - val_loss: 0.6327 - val_accuracy: 0.7202\n",
            "Epoch 6/1000\n",
            "1292032/1292110 [============================>.] - ETA: 0s - loss: 0.6325 - accuracy: 0.7213\n",
            "Epoch 00006: val_loss did not improve from 0.63275\n",
            "1292110/1292110 [==============================] - 188s 145us/sample - loss: 0.6325 - accuracy: 0.7213 - val_loss: 0.6355 - val_accuracy: 0.7189\n",
            "Epoch 7/1000\n",
            "1291904/1292110 [============================>.] - ETA: 0s - loss: 0.6264 - accuracy: 0.7238\n",
            "Epoch 00007: val_loss improved from 0.63275 to 0.62323, saving model to models/model_resnet_walkforward.h5\n",
            "1292110/1292110 [==============================] - 187s 145us/sample - loss: 0.6264 - accuracy: 0.7238 - val_loss: 0.6232 - val_accuracy: 0.7257\n",
            "Epoch 8/1000\n",
            "1292032/1292110 [============================>.] - ETA: 0s - loss: 0.6215 - accuracy: 0.7267\n",
            "Epoch 00008: val_loss improved from 0.62323 to 0.61677, saving model to models/model_resnet_walkforward.h5\n",
            "1292110/1292110 [==============================] - 187s 145us/sample - loss: 0.6215 - accuracy: 0.7267 - val_loss: 0.6168 - val_accuracy: 0.7297\n",
            "Epoch 9/1000\n",
            "1291904/1292110 [============================>.] - ETA: 0s - loss: 0.6169 - accuracy: 0.7288\n",
            "Epoch 00009: val_loss did not improve from 0.61677\n",
            "1292110/1292110 [==============================] - 188s 146us/sample - loss: 0.6170 - accuracy: 0.7288 - val_loss: 0.6172 - val_accuracy: 0.7283\n",
            "Epoch 10/1000\n",
            "1291904/1292110 [============================>.] - ETA: 0s - loss: 0.6128 - accuracy: 0.7311\n",
            "Epoch 00010: val_loss improved from 0.61677 to 0.60707, saving model to models/model_resnet_walkforward.h5\n",
            "1292110/1292110 [==============================] - 188s 146us/sample - loss: 0.6128 - accuracy: 0.7311 - val_loss: 0.6071 - val_accuracy: 0.7325\n",
            "Epoch 11/1000\n",
            "1291904/1292110 [============================>.] - ETA: 0s - loss: 0.6091 - accuracy: 0.7330\n",
            "Epoch 00011: val_loss did not improve from 0.60707\n",
            "1292110/1292110 [==============================] - 188s 146us/sample - loss: 0.6091 - accuracy: 0.7330 - val_loss: 0.6167 - val_accuracy: 0.7276\n",
            "Epoch 12/1000\n",
            "1291904/1292110 [============================>.] - ETA: 0s - loss: 0.6053 - accuracy: 0.7346\n",
            "Epoch 00012: val_loss improved from 0.60707 to 0.60190, saving model to models/model_resnet_walkforward.h5\n",
            "1292110/1292110 [==============================] - 188s 146us/sample - loss: 0.6053 - accuracy: 0.7346 - val_loss: 0.6019 - val_accuracy: 0.7373\n",
            "Epoch 13/1000\n",
            "1291776/1292110 [============================>.] - ETA: 0s - loss: 0.6026 - accuracy: 0.7358\n",
            "Epoch 00013: val_loss did not improve from 0.60190\n",
            "1292110/1292110 [==============================] - 188s 145us/sample - loss: 0.6026 - accuracy: 0.7358 - val_loss: 0.6036 - val_accuracy: 0.7361\n",
            "Epoch 14/1000\n",
            "1292032/1292110 [============================>.] - ETA: 0s - loss: 0.5993 - accuracy: 0.7376\n",
            "Epoch 00014: val_loss improved from 0.60190 to 0.59718, saving model to models/model_resnet_walkforward.h5\n",
            "1292110/1292110 [==============================] - 188s 146us/sample - loss: 0.5993 - accuracy: 0.7376 - val_loss: 0.5972 - val_accuracy: 0.7378\n",
            "Epoch 15/1000\n",
            "1292032/1292110 [============================>.] - ETA: 0s - loss: 0.5973 - accuracy: 0.7388\n",
            "Epoch 00015: val_loss improved from 0.59718 to 0.59442, saving model to models/model_resnet_walkforward.h5\n",
            "1292110/1292110 [==============================] - 188s 146us/sample - loss: 0.5973 - accuracy: 0.7388 - val_loss: 0.5944 - val_accuracy: 0.7406\n",
            "Epoch 16/1000\n",
            "1292032/1292110 [============================>.] - ETA: 0s - loss: 0.5949 - accuracy: 0.7399\n",
            "Epoch 00016: val_loss improved from 0.59442 to 0.59219, saving model to models/model_resnet_walkforward.h5\n",
            "1292110/1292110 [==============================] - 188s 145us/sample - loss: 0.5949 - accuracy: 0.7399 - val_loss: 0.5922 - val_accuracy: 0.7393\n",
            "Epoch 17/1000\n",
            "1292032/1292110 [============================>.] - ETA: 0s - loss: 0.5923 - accuracy: 0.7409\n",
            "Epoch 00017: val_loss did not improve from 0.59219\n",
            "1292110/1292110 [==============================] - 189s 146us/sample - loss: 0.5923 - accuracy: 0.7409 - val_loss: 0.5940 - val_accuracy: 0.7386\n",
            "Epoch 18/1000\n",
            "1291776/1292110 [============================>.] - ETA: 0s - loss: 0.5909 - accuracy: 0.7417\n",
            "Epoch 00018: val_loss improved from 0.59219 to 0.58977, saving model to models/model_resnet_walkforward.h5\n",
            "1292110/1292110 [==============================] - 188s 145us/sample - loss: 0.5909 - accuracy: 0.7417 - val_loss: 0.5898 - val_accuracy: 0.7418\n",
            "Epoch 19/1000\n",
            "1291904/1292110 [============================>.] - ETA: 0s - loss: 0.5886 - accuracy: 0.7426\n",
            "Epoch 00019: val_loss improved from 0.58977 to 0.58085, saving model to models/model_resnet_walkforward.h5\n",
            "1292110/1292110 [==============================] - 188s 146us/sample - loss: 0.5886 - accuracy: 0.7426 - val_loss: 0.5809 - val_accuracy: 0.7469\n",
            "Epoch 20/1000\n",
            "1291904/1292110 [============================>.] - ETA: 0s - loss: 0.5864 - accuracy: 0.7437\n",
            "Epoch 00020: val_loss did not improve from 0.58085\n",
            "1292110/1292110 [==============================] - 188s 146us/sample - loss: 0.5864 - accuracy: 0.7437 - val_loss: 0.5863 - val_accuracy: 0.7438\n",
            "Epoch 21/1000\n",
            "1292032/1292110 [============================>.] - ETA: 0s - loss: 0.5845 - accuracy: 0.7449\n",
            "Epoch 00021: ReduceLROnPlateau reducing learning rate to 0.00020000000949949026.\n",
            "\n",
            "Epoch 00021: val_loss did not improve from 0.58085\n",
            "1292110/1292110 [==============================] - 188s 145us/sample - loss: 0.5845 - accuracy: 0.7449 - val_loss: 0.5877 - val_accuracy: 0.7439\n",
            "Epoch 22/1000\n",
            "1291776/1292110 [============================>.] - ETA: 0s - loss: 0.5670 - accuracy: 0.7533\n",
            "Epoch 00022: val_loss improved from 0.58085 to 0.56454, saving model to models/model_resnet_walkforward.h5\n",
            "1292110/1292110 [==============================] - 189s 146us/sample - loss: 0.5670 - accuracy: 0.7533 - val_loss: 0.5645 - val_accuracy: 0.7540\n",
            "Epoch 23/1000\n",
            "1291776/1292110 [============================>.] - ETA: 0s - loss: 0.5639 - accuracy: 0.7548\n",
            "Epoch 00023: val_loss improved from 0.56454 to 0.56108, saving model to models/model_resnet_walkforward.h5\n",
            "1292110/1292110 [==============================] - 188s 146us/sample - loss: 0.5639 - accuracy: 0.7548 - val_loss: 0.5611 - val_accuracy: 0.7563\n",
            "Epoch 24/1000\n",
            "1291648/1292110 [============================>.] - ETA: 0s - loss: 0.5628 - accuracy: 0.7553\n",
            "Epoch 00024: val_loss improved from 0.56108 to 0.55936, saving model to models/model_resnet_walkforward.h5\n",
            "1292110/1292110 [==============================] - 188s 146us/sample - loss: 0.5628 - accuracy: 0.7553 - val_loss: 0.5594 - val_accuracy: 0.7571\n",
            "Epoch 25/1000\n",
            "1291776/1292110 [============================>.] - ETA: 0s - loss: 0.5620 - accuracy: 0.7559\n",
            "Epoch 00025: val_loss did not improve from 0.55936\n",
            "1292110/1292110 [==============================] - 188s 146us/sample - loss: 0.5620 - accuracy: 0.7559 - val_loss: 0.5612 - val_accuracy: 0.7561\n",
            "Epoch 26/1000\n",
            "1291904/1292110 [============================>.] - ETA: 0s - loss: 0.5613 - accuracy: 0.7562\n",
            "Epoch 00026: ReduceLROnPlateau reducing learning rate to 0.0001.\n",
            "\n",
            "Epoch 00026: val_loss did not improve from 0.55936\n",
            "1292110/1292110 [==============================] - 188s 146us/sample - loss: 0.5613 - accuracy: 0.7562 - val_loss: 0.5601 - val_accuracy: 0.7566\n",
            "Epoch 27/1000\n",
            "1291904/1292110 [============================>.] - ETA: 0s - loss: 0.5584 - accuracy: 0.7575\n",
            "Epoch 00027: val_loss improved from 0.55936 to 0.55624, saving model to models/model_resnet_walkforward.h5\n",
            "1292110/1292110 [==============================] - 189s 146us/sample - loss: 0.5584 - accuracy: 0.7575 - val_loss: 0.5562 - val_accuracy: 0.7581\n",
            "Epoch 28/1000\n",
            "1292032/1292110 [============================>.] - ETA: 0s - loss: 0.5576 - accuracy: 0.7583\n",
            "Epoch 00028: val_loss did not improve from 0.55624\n",
            "1292110/1292110 [==============================] - 188s 146us/sample - loss: 0.5576 - accuracy: 0.7583 - val_loss: 0.5563 - val_accuracy: 0.7587\n",
            "Epoch 29/1000\n",
            "1292032/1292110 [============================>.] - ETA: 0s - loss: 0.5572 - accuracy: 0.7582\n",
            "Epoch 00029: val_loss did not improve from 0.55624\n",
            "1292110/1292110 [==============================] - 188s 146us/sample - loss: 0.5573 - accuracy: 0.7582 - val_loss: 0.5565 - val_accuracy: 0.7584\n",
            "Epoch 30/1000\n",
            "1291904/1292110 [============================>.] - ETA: 0s - loss: 0.5567 - accuracy: 0.7586\n",
            "Epoch 00030: val_loss improved from 0.55624 to 0.55543, saving model to models/model_resnet_walkforward.h5\n",
            "1292110/1292110 [==============================] - 189s 146us/sample - loss: 0.5567 - accuracy: 0.7586 - val_loss: 0.5554 - val_accuracy: 0.7590\n",
            "Epoch 31/1000\n",
            "1292032/1292110 [============================>.] - ETA: 0s - loss: 0.5566 - accuracy: 0.7584\n",
            "Epoch 00031: val_loss did not improve from 0.55543\n",
            "1292110/1292110 [==============================] - 188s 145us/sample - loss: 0.5566 - accuracy: 0.7584 - val_loss: 0.5555 - val_accuracy: 0.7591\n",
            "Epoch 32/1000\n",
            "1292032/1292110 [============================>.] - ETA: 0s - loss: 0.5561 - accuracy: 0.7590\n",
            "Epoch 00032: val_loss improved from 0.55543 to 0.55485, saving model to models/model_resnet_walkforward.h5\n",
            "1292110/1292110 [==============================] - 188s 146us/sample - loss: 0.5561 - accuracy: 0.7590 - val_loss: 0.5548 - val_accuracy: 0.7590\n",
            "Epoch 33/1000\n",
            "1291904/1292110 [============================>.] - ETA: 0s - loss: 0.5559 - accuracy: 0.7587\n",
            "Epoch 00033: val_loss improved from 0.55485 to 0.55432, saving model to models/model_resnet_walkforward.h5\n",
            "1292110/1292110 [==============================] - 188s 146us/sample - loss: 0.5559 - accuracy: 0.7587 - val_loss: 0.5543 - val_accuracy: 0.7602\n",
            "Epoch 34/1000\n",
            "1291776/1292110 [============================>.] - ETA: 0s - loss: 0.5557 - accuracy: 0.7591\n",
            "Epoch 00034: val_loss improved from 0.55432 to 0.55417, saving model to models/model_resnet_walkforward.h5\n",
            "1292110/1292110 [==============================] - 188s 145us/sample - loss: 0.5557 - accuracy: 0.7591 - val_loss: 0.5542 - val_accuracy: 0.7598\n",
            "Epoch 35/1000\n",
            "1292032/1292110 [============================>.] - ETA: 0s - loss: 0.5554 - accuracy: 0.7591\n",
            "Epoch 00035: val_loss improved from 0.55417 to 0.55393, saving model to models/model_resnet_walkforward.h5\n",
            "1292110/1292110 [==============================] - 189s 146us/sample - loss: 0.5554 - accuracy: 0.7591 - val_loss: 0.5539 - val_accuracy: 0.7601\n",
            "Epoch 36/1000\n",
            "1291776/1292110 [============================>.] - ETA: 0s - loss: 0.5547 - accuracy: 0.7593\n",
            "Epoch 00036: val_loss improved from 0.55393 to 0.55336, saving model to models/model_resnet_walkforward.h5\n",
            "1292110/1292110 [==============================] - 189s 147us/sample - loss: 0.5547 - accuracy: 0.7593 - val_loss: 0.5534 - val_accuracy: 0.7598\n",
            "Epoch 37/1000\n",
            "1291648/1292110 [============================>.] - ETA: 0s - loss: 0.5548 - accuracy: 0.7594\n",
            "Epoch 00037: val_loss improved from 0.55336 to 0.55275, saving model to models/model_resnet_walkforward.h5\n",
            "1292110/1292110 [==============================] - 189s 146us/sample - loss: 0.5548 - accuracy: 0.7594 - val_loss: 0.5527 - val_accuracy: 0.7606\n",
            "Epoch 38/1000\n",
            "1291904/1292110 [============================>.] - ETA: 0s - loss: 0.5548 - accuracy: 0.7595\n",
            "Epoch 00038: val_loss did not improve from 0.55275\n",
            "1292110/1292110 [==============================] - 188s 146us/sample - loss: 0.5547 - accuracy: 0.7595 - val_loss: 0.5533 - val_accuracy: 0.7602\n",
            "Epoch 39/1000\n",
            "1291776/1292110 [============================>.] - ETA: 0s - loss: 0.5546 - accuracy: 0.7597\n",
            "Epoch 00039: val_loss did not improve from 0.55275\n",
            "1292110/1292110 [==============================] - 189s 146us/sample - loss: 0.5546 - accuracy: 0.7597 - val_loss: 0.5528 - val_accuracy: 0.7601\n",
            "Epoch 40/1000\n",
            "1291776/1292110 [============================>.] - ETA: 0s - loss: 0.5541 - accuracy: 0.7597\n",
            "Epoch 00040: val_loss did not improve from 0.55275\n",
            "1292110/1292110 [==============================] - 189s 146us/sample - loss: 0.5541 - accuracy: 0.7597 - val_loss: 0.5545 - val_accuracy: 0.7602\n",
            "Epoch 41/1000\n",
            "1292032/1292110 [============================>.] - ETA: 0s - loss: 0.5538 - accuracy: 0.7597\n",
            "Epoch 00041: val_loss did not improve from 0.55275\n",
            "1292110/1292110 [==============================] - 188s 146us/sample - loss: 0.5538 - accuracy: 0.7597 - val_loss: 0.5530 - val_accuracy: 0.7602\n"
          ],
          "name": "stdout"
        }
      ]
    },
    {
      "cell_type": "code",
      "metadata": {
        "id": "Yt6KpEU8evRJ",
        "colab_type": "code",
        "colab": {
          "base_uri": "https://localhost:8080/",
          "height": 195
        },
        "outputId": "871d2ee3-bd1a-4f24-cf2a-067e84e84e41"
      },
      "source": [
        "# hist = pd.DataFrame(history.history)\n",
        "hist['epoch'] = history.epoch\n",
        "hist.tail()"
      ],
      "execution_count": null,
      "outputs": [
        {
          "output_type": "execute_result",
          "data": {
            "text/plain": [
              "    accuracy      loss      lr  val_accuracy  val_loss  epoch\n",
              "52  0.752099  0.564113  0.0001      0.753423  0.560456     52\n",
              "53  0.752196  0.563841  0.0001      0.753518  0.561269     53\n",
              "54  0.752601  0.563348  0.0001      0.754051  0.560977     54\n",
              "55  0.752160  0.563240  0.0001      0.753613  0.561686     55\n",
              "56  0.752522  0.562858  0.0001      0.753814  0.560985     56"
            ],
            "text/html": [
              "<div>\n",
              "<style scoped>\n",
              "    .dataframe tbody tr th:only-of-type {\n",
              "        vertical-align: middle;\n",
              "    }\n",
              "\n",
              "    .dataframe tbody tr th {\n",
              "        vertical-align: top;\n",
              "    }\n",
              "\n",
              "    .dataframe thead th {\n",
              "        text-align: right;\n",
              "    }\n",
              "</style>\n",
              "<table border=\"1\" class=\"dataframe\">\n",
              "  <thead>\n",
              "    <tr style=\"text-align: right;\">\n",
              "      <th></th>\n",
              "      <th>accuracy</th>\n",
              "      <th>loss</th>\n",
              "      <th>lr</th>\n",
              "      <th>val_accuracy</th>\n",
              "      <th>val_loss</th>\n",
              "      <th>epoch</th>\n",
              "    </tr>\n",
              "  </thead>\n",
              "  <tbody>\n",
              "    <tr>\n",
              "      <th>52</th>\n",
              "      <td>0.752099</td>\n",
              "      <td>0.564113</td>\n",
              "      <td>0.0001</td>\n",
              "      <td>0.753423</td>\n",
              "      <td>0.560456</td>\n",
              "      <td>52</td>\n",
              "    </tr>\n",
              "    <tr>\n",
              "      <th>53</th>\n",
              "      <td>0.752196</td>\n",
              "      <td>0.563841</td>\n",
              "      <td>0.0001</td>\n",
              "      <td>0.753518</td>\n",
              "      <td>0.561269</td>\n",
              "      <td>53</td>\n",
              "    </tr>\n",
              "    <tr>\n",
              "      <th>54</th>\n",
              "      <td>0.752601</td>\n",
              "      <td>0.563348</td>\n",
              "      <td>0.0001</td>\n",
              "      <td>0.754051</td>\n",
              "      <td>0.560977</td>\n",
              "      <td>54</td>\n",
              "    </tr>\n",
              "    <tr>\n",
              "      <th>55</th>\n",
              "      <td>0.752160</td>\n",
              "      <td>0.563240</td>\n",
              "      <td>0.0001</td>\n",
              "      <td>0.753613</td>\n",
              "      <td>0.561686</td>\n",
              "      <td>55</td>\n",
              "    </tr>\n",
              "    <tr>\n",
              "      <th>56</th>\n",
              "      <td>0.752522</td>\n",
              "      <td>0.562858</td>\n",
              "      <td>0.0001</td>\n",
              "      <td>0.753814</td>\n",
              "      <td>0.560985</td>\n",
              "      <td>56</td>\n",
              "    </tr>\n",
              "  </tbody>\n",
              "</table>\n",
              "</div>"
            ]
          },
          "metadata": {
            "tags": []
          },
          "execution_count": 23
        }
      ]
    },
    {
      "cell_type": "code",
      "metadata": {
        "id": "EIJFkXcyH3bT",
        "colab_type": "code",
        "colab": {}
      },
      "source": [
        "hist.to_csv('hist_model_0_1.csv')"
      ],
      "execution_count": null,
      "outputs": []
    },
    {
      "cell_type": "code",
      "metadata": {
        "id": "aUf1pWZ21hTN",
        "colab_type": "code",
        "colab": {
          "base_uri": "https://localhost:8080/",
          "height": 302
        },
        "outputId": "fce41359-0d7d-4bbd-b1c3-e87eeae26175"
      },
      "source": [
        "plt.plot(hist[['loss', 'val_loss']])\n",
        "plt.legend()\n",
        "# plt.ylim([0, 10])\n",
        "plt.ylabel('Sparse Categorical Crossentropy')"
      ],
      "execution_count": null,
      "outputs": [
        {
          "output_type": "stream",
          "text": [
            "No handles with labels found to put in legend.\n"
          ],
          "name": "stderr"
        },
        {
          "output_type": "execute_result",
          "data": {
            "text/plain": [
              "Text(0, 0.5, 'Sparse Categorical Crossentropy')"
            ]
          },
          "metadata": {
            "tags": []
          },
          "execution_count": 27
        },
        {
          "output_type": "display_data",
          "data": {
            "text/plain": [
              "<Figure size 432x288 with 1 Axes>"
            ],
            "image/png": "[encoded data removed]"
          },
          "metadata": {
            "tags": [],
            "needs_background": "light"
          }
        }
      ]
    },
    {
      "cell_type": "code",
      "metadata": {
        "scrolled": true,
        "id": "UEasGeXDevRh",
        "colab_type": "code",
        "colab": {
          "base_uri": "https://localhost:8080/",
          "height": 312
        },
        "outputId": "800bc918-84c9-40ab-8a97-3b3bbad930b0"
      },
      "source": [
        "sns.lineplot(x=range(1,+1),y=histor.history['loss'])\n",
        "#sns.lineplot(x=range(1,EPOCHS+1),y=r.history['val_loss'])\n",
        "plt.title('Model Cross Entropy Loss')\n",
        "plt.ylabel('Cross Entropy Loss')\n",
        "plt.xlabel('Epochs')\n",
        "plt.legend(['Training'], loc='upper left')"
      ],
      "execution_count": null,
      "outputs": [
        {
          "output_type": "execute_result",
          "data": {
            "text/plain": [
              "<matplotlib.legend.Legend at 0x7f9d8dba3128>"
            ]
          },
          "metadata": {
            "tags": []
          },
          "execution_count": 29
        },
        {
          "output_type": "display_data",
          "data": {
            "image/png": "[encoded data removed]",
            "text/plain": [
              "<Figure size 432x288 with 1 Axes>"
            ]
          },
          "metadata": {
            "tags": [],
            "needs_background": "light"
          }
        }
      ]
    },
    {
      "cell_type": "code",
      "metadata": {
        "id": "6red1zdUUE_i",
        "colab_type": "code",
        "colab": {}
      },
      "source": [
        "y_pred = res_net_model_walkforward.predict(X_test)"
      ],
      "execution_count": null,
      "outputs": []
    },
    {
      "cell_type": "code",
      "metadata": {
        "id": "SlvVu32fUNsl",
        "colab_type": "code",
        "colab": {
          "base_uri": "https://localhost:8080/",
          "height": 134
        },
        "outputId": "cd72c622-61d3-4c13-cad7-827c082b840f"
      },
      "source": [
        "y_pred_2 = res_net_model.predict(X_test)\n",
        "print(y-PRED)"
      ],
      "execution_count": null,
      "outputs": [
        {
          "output_type": "stream",
          "text": [
            "[[False False False]\n",
            " [False False False]\n",
            " [False False False]\n",
            " ...\n",
            " [False False False]\n",
            " [False False False]\n",
            " [False False False]]\n"
          ],
          "name": "stdout"
        }
      ]
    },
    {
      "cell_type": "code",
      "metadata": {
        "id": "GIUmHvxyVAK4",
        "colab_type": "code",
        "colab": {
          "base_uri": "https://localhost:8080/",
          "height": 252
        },
        "outputId": "da561f07-3caf-4a1a-b82a-4206d9fbbf28"
      },
      "source": [
        "print(y_pred)\n",
        "print(y_pred_2)"
      ],
      "execution_count": null,
      "outputs": [
        {
          "output_type": "stream",
          "text": [
            "[[0.02278053 0.7124219  0.26479757]\n",
            " [0.01975996 0.80286896 0.177371  ]\n",
            " [0.01093824 0.70463616 0.28442565]\n",
            " ...\n",
            " [0.64936155 0.28116786 0.06947051]\n",
            " [0.5132548  0.43124154 0.05550363]\n",
            " [0.32671145 0.4160068  0.25728172]]\n",
            "[[0.02355058 0.7283601  0.24808928]\n",
            " [0.0166661  0.8311667  0.15216723]\n",
            " [0.01317282 0.73877895 0.24804828]\n",
            " ...\n",
            " [0.64077836 0.28931198 0.06990956]\n",
            " [0.50623053 0.43926316 0.05450632]\n",
            " [0.3629744  0.42114305 0.21588255]]\n"
          ],
          "name": "stdout"
        }
      ]
    },
    {
      "cell_type": "code",
      "metadata": {
        "id": "uCbCbYYCevRT",
        "colab_type": "code",
        "colab": {}
      },
      "source": [
        "y_pred = res_net_model.predict(X_test)"
      ],
      "execution_count": null,
      "outputs": []
    },
    {
      "cell_type": "code",
      "metadata": {
        "id": "sEdOgorJevRt",
        "colab_type": "code",
        "colab": {}
      },
      "source": [
        "y_pred = y_pred.argmax(axis=1)"
      ],
      "execution_count": null,
      "outputs": []
    },
    {
      "cell_type": "code",
      "metadata": {
        "id": "liEVm0bnQlfl",
        "colab_type": "code",
        "colab": {
          "base_uri": "https://localhost:8080/",
          "height": 50
        },
        "outputId": "1fbacb41-6377-4c39-a09a-55da513afe34"
      },
      "source": [
        "np.unique(y_pred, return_counts=True), np.unique(y_test, return_counts=True)"
      ],
      "execution_count": null,
      "outputs": [
        {
          "output_type": "execute_result",
          "data": {
            "text/plain": [
              "((array([0, 1, 2]), array([ 94782, 277026,  93592])),\n",
              " (array([0, 1, 2]), array([ 61142, 350499,  53759])))"
            ]
          },
          "metadata": {
            "tags": []
          },
          "execution_count": 31
        }
      ]
    },
    {
      "cell_type": "code",
      "metadata": {
        "id": "7yYSjC0zevSD",
        "colab_type": "code",
        "colab": {
          "base_uri": "https://localhost:8080/",
          "height": 269
        },
        "outputId": "90c8fda2-48f7-482e-a40c-91d13364dcf6"
      },
      "source": [
        "from sklearn.metrics import confusion_matrix\n",
        "\n",
        "cm = confusion_matrix(y_pred=y_pred, y_true=y_test)\n",
        "    \n",
        "cm = cm.astype('float') / cm.sum(axis=1)[:, np.newaxis]\n",
        "\n",
        "ax=sns.heatmap(cm, annot=True, xticklabels=[0,1,2], yticklabels=[0,1,2], cmap='Blues')\n",
        "ax.set_ylim(3.0, 0)\n",
        "plt.show()"
      ],
      "execution_count": null,
      "outputs": [
        {
          "output_type": "display_data",
          "data": {
            "image/png": "[encoded data removed]",
            "text/plain": [
              "<Figure size 432x288 with 2 Axes>"
            ]
          },
          "metadata": {
            "tags": [],
            "needs_background": "light"
          }
        }
      ]
    },
    {
      "cell_type": "code",
      "metadata": {
        "scrolled": true,
        "id": "lUlPtc50evSO",
        "colab_type": "code",
        "colab": {
          "base_uri": "https://localhost:8080/",
          "height": 151
        },
        "outputId": "75b5626f-1e9c-4f59-df30-e425a8d2eb17"
      },
      "source": [
        "print(classification_report(y_test,y_pred))"
      ],
      "execution_count": null,
      "outputs": [
        {
          "output_type": "stream",
          "text": [
            "             precision    recall  f1-score   support\n",
            "\n",
            "          0       0.39      0.61      0.48     61142\n",
            "          1       0.89      0.71      0.79    350499\n",
            "          2       0.37      0.65      0.47     53759\n",
            "\n",
            "avg / total       0.77      0.69      0.71    465400\n",
            "\n"
          ],
          "name": "stdout"
        }
      ]
    },
    {
      "cell_type": "code",
      "metadata": {
        "id": "-B5jiqOAj6QW",
        "colab_type": "code",
        "colab": {
          "base_uri": "https://localhost:8080/",
          "height": 403
        },
        "outputId": "13cc6a07-a94c-4d74-cb62-8d8d3236c0bf"
      },
      "source": [
        "y_pred = res_net_model_walkforward.predict(X_test)\n",
        "\n",
        "y_pred = y_pred.argmax(axis=1)\n",
        "\n",
        "np.unique(y_pred, return_counts=True), np.unique(y_test, return_counts=True)\n",
        "\n",
        "from sklearn.metrics import confusion_matrix\n",
        "\n",
        "cm = confusion_matrix(y_pred=y_pred, y_true=y_test)\n",
        "    \n",
        "cm = cm.astype('float') / cm.sum(axis=1)[:, np.newaxis]\n",
        "\n",
        "ax=sns.heatmap(cm, annot=True, xticklabels=[0,1,2], yticklabels=[0,1,2], cmap='Blues')\n",
        "ax.set_ylim(3.0, 0)\n",
        "plt.show()\n",
        "\n",
        "print(classification_report(y_test,y_pred))"
      ],
      "execution_count": 13,
      "outputs": [
        {
          "output_type": "display_data",
          "data": {
            "image/png": "[encoded data removed]",
            "text/plain": [
              "<Figure size 432x288 with 2 Axes>"
            ]
          },
          "metadata": {
            "tags": [],
            "needs_background": "light"
          }
        },
        {
          "output_type": "stream",
          "text": [
            "             precision    recall  f1-score   support\n",
            "\n",
            "          0       0.40      0.59      0.48     61142\n",
            "          1       0.89      0.68      0.78    350499\n",
            "          2       0.35      0.69      0.46     53759\n",
            "\n",
            "avg / total       0.77      0.67      0.70    465400\n",
            "\n"
          ],
          "name": "stdout"
        }
      ]
    },
    {
      "cell_type": "code",
      "metadata": {
        "id": "JDSYwDRt4HHp",
        "colab_type": "code",
        "colab": {
          "base_uri": "https://localhost:8080/",
          "height": 50
        },
        "outputId": "5abf02b7-9ae3-4667-ab36-5dad9e34f201"
      },
      "source": [
        "average = np.zeros(int(len(y_test)/10))\n",
        "print(average)\n",
        "for i in range(int(len(y_test)/10)):\n",
        "    if sum(y_test[i*10:(i+1)*10]) >= 5.0:\n",
        "           average[i] = 1\n",
        "print(average)"
      ],
      "execution_count": 64,
      "outputs": [
        {
          "output_type": "stream",
          "text": [
            "[0. 0. 0. ... 0. 0. 0.]\n",
            "[1. 1. 1. ... 1. 1. 1.]\n"
          ],
          "name": "stdout"
        }
      ]
    },
    {
      "cell_type": "code",
      "metadata": {
        "id": "u4EVrG9T5Mhs",
        "colab_type": "code",
        "colab": {
          "base_uri": "https://localhost:8080/",
          "height": 486
        },
        "outputId": "4b12642c-01d8-4443-b48b-267bde92b22b"
      },
      "source": [
        "wrong = average == 0\n",
        "correct = average == 1\n",
        "plt.figure(figsize = (15,8))\n",
        "\n",
        "plt.plot(average, marker='o', ls='', markersize=1.0)\n",
        "plt.show()"
      ],
      "execution_count": 66,
      "outputs": [
        {
          "output_type": "display_data",
          "data": {
            "image/png": "[encoded data removed]",
            "text/plain": [
              "<Figure size 1080x576 with 1 Axes>"
            ]
          },
          "metadata": {
            "tags": [],
            "needs_background": "light"
          }
        }
      ]
    },
    {
      "cell_type": "code",
      "metadata": {
        "id": "5m4_PVzfmF47",
        "colab_type": "code",
        "colab": {
          "base_uri": "https://localhost:8080/",
          "height": 481
        },
        "outputId": "110978e7-a7b3-4190-e300-7014b68d61b4"
      },
      "source": [
        "l2_train_val = l2_norm_adj[:-num_test]\n",
        "l2_test = l2_norm_adj[-num_test:]\n",
        "\n",
        "correct = l2_test[y_pred==y_test]\n",
        "wrong = l2_test[y_pred!=y_test]\n",
        "print(len(correct), len(wrong))\n",
        "\n",
        "plt.figure(figsize = (15,8))\n",
        "\n",
        "# plt.plot(l2_train_val.index, (l2_train_val['a1']+l2_train_val['b1'])/2, color=\"r\", marker='o', markersize=12)\n",
        "plt.plot(correct.index, (correct['a1']+correct['b1'])/2, color=\"g\", marker='o', markersize=1, ls='')\n",
        "plt.plot(wrong.index, (wrong['a1']+wrong['b1'])/2, color=\"r\", marker='o', markersize=1, ls='')\n",
        "\n",
        "plt.xlim(pd.Timestamp('2019-11-20 19:00:00'), pd.Timestamp('2019-11-20 21:00:00'))\n",
        "plt.ylim(-1.5, 0)\n",
        "plt.gcf().autofmt_xdate()\n",
        "\n",
        "plt.show()"
      ],
      "execution_count": 75,
      "outputs": [
        {
          "output_type": "stream",
          "text": [
            "312881 152519\n"
          ],
          "name": "stdout"
        },
        {
          "output_type": "display_data",
          "data": {
            "image/png": "[encoded data removed]",
            "text/plain": [
              "<Figure size 1080x576 with 1 Axes>"
            ]
          },
          "metadata": {
            "tags": [],
            "needs_background": "light"
          }
        }
      ]
    },
    {
      "cell_type": "code",
      "metadata": {
        "id": "fTzyI_w_6oFu",
        "colab_type": "code",
        "colab": {
          "base_uri": "https://localhost:8080/",
          "height": 464
        },
        "outputId": "22a3de79-6b41-42e4-f577-604c2a6a21de"
      },
      "source": [
        "plt.figure(figsize = (20,8))\n",
        "\n",
        "plt.xlim(pd.Timestamp('2019-11-20 15:00:00'), pd.Timestamp('2019-11-20 16:00:00'))\n",
        "plt.vlines(wrong['2019-11-20 15:00:00':].index, 0, 1, color='r', lw=0.1)\n",
        "plt.vlines(correct['2019-11-20 15:00:00':].index, 0, 1, color='g', lw=0.1)\n",
        "plt.gcf().autofmt_xdate()\n",
        "\n",
        "\n",
        "plt.show()"
      ],
      "execution_count": 89,
      "outputs": [
        {
          "output_type": "display_data",
          "data": {
            "image/png": "[encoded data removed]",
            "text/plain": [
              "<Figure size 1440x576 with 1 Axes>"
            ]
          },
          "metadata": {
            "tags": [],
            "needs_background": "light"
          }
        }
      ]
    },
    {
      "cell_type": "code",
      "metadata": {
        "id": "bKUqm6coruej",
        "colab_type": "code",
        "colab": {}
      },
      "source": [
        "df_history = pd.read_csv('history_training.csv', index_col=0)"
      ],
      "execution_count": null,
      "outputs": []
    },
    {
      "cell_type": "code",
      "metadata": {
        "id": "ua0CgTTdRVVl",
        "colab_type": "code",
        "colab": {
          "base_uri": "https://localhost:8080/",
          "height": 195
        },
        "outputId": "dabdbef1-40ed-4966-de0b-0c385bb8056e"
      },
      "source": [
        "df_history.head()"
      ],
      "execution_count": null,
      "outputs": [
        {
          "output_type": "execute_result",
          "data": {
            "text/html": [
              "<div>\n",
              "<style scoped>\n",
              "    .dataframe tbody tr th:only-of-type {\n",
              "        vertical-align: middle;\n",
              "    }\n",
              "\n",
              "    .dataframe tbody tr th {\n",
              "        vertical-align: top;\n",
              "    }\n",
              "\n",
              "    .dataframe thead th {\n",
              "        text-align: right;\n",
              "    }\n",
              "</style>\n",
              "<table border=\"1\" class=\"dataframe\">\n",
              "  <thead>\n",
              "    <tr style=\"text-align: right;\">\n",
              "      <th></th>\n",
              "      <th>accuracy</th>\n",
              "      <th>loss</th>\n",
              "      <th>lr</th>\n",
              "      <th>val_accuracy</th>\n",
              "      <th>val_loss</th>\n",
              "    </tr>\n",
              "  </thead>\n",
              "  <tbody>\n",
              "    <tr>\n",
              "      <th>0</th>\n",
              "      <td>0.662171</td>\n",
              "      <td>0.732915</td>\n",
              "      <td>0.001</td>\n",
              "      <td>0.685452</td>\n",
              "      <td>0.691871</td>\n",
              "    </tr>\n",
              "    <tr>\n",
              "      <th>1</th>\n",
              "      <td>0.697852</td>\n",
              "      <td>0.670754</td>\n",
              "      <td>0.001</td>\n",
              "      <td>0.704418</td>\n",
              "      <td>0.653910</td>\n",
              "    </tr>\n",
              "    <tr>\n",
              "      <th>2</th>\n",
              "      <td>0.705946</td>\n",
              "      <td>0.654831</td>\n",
              "      <td>0.001</td>\n",
              "      <td>0.710744</td>\n",
              "      <td>0.645040</td>\n",
              "    </tr>\n",
              "    <tr>\n",
              "      <th>3</th>\n",
              "      <td>0.711077</td>\n",
              "      <td>0.644557</td>\n",
              "      <td>0.001</td>\n",
              "      <td>0.717609</td>\n",
              "      <td>0.633086</td>\n",
              "    </tr>\n",
              "    <tr>\n",
              "      <th>4</th>\n",
              "      <td>0.715403</td>\n",
              "      <td>0.636243</td>\n",
              "      <td>0.001</td>\n",
              "      <td>0.718627</td>\n",
              "      <td>0.629828</td>\n",
              "    </tr>\n",
              "  </tbody>\n",
              "</table>\n",
              "</div>"
            ],
            "text/plain": [
              "   accuracy      loss     lr  val_accuracy  val_loss\n",
              "0  0.662171  0.732915  0.001      0.685452  0.691871\n",
              "1  0.697852  0.670754  0.001      0.704418  0.653910\n",
              "2  0.705946  0.654831  0.001      0.710744  0.645040\n",
              "3  0.711077  0.644557  0.001      0.717609  0.633086\n",
              "4  0.715403  0.636243  0.001      0.718627  0.629828"
            ]
          },
          "metadata": {
            "tags": []
          },
          "execution_count": 10
        }
      ]
    },
    {
      "cell_type": "code",
      "metadata": {
        "id": "ArKSRAuxTMbk",
        "colab_type": "code",
        "colab": {
          "base_uri": "https://localhost:8080/",
          "height": 298
        },
        "outputId": "fc5cdca2-3124-4a51-c626-a6bee54b11e5"
      },
      "source": [
        "plt.plot(df_history[['loss', 'val_loss']])\n",
        "plt.legend()\n",
        "# plt.ylim([0, 10])\n",
        "plt.ylabel('Sparse Categorical Crossentropy')"
      ],
      "execution_count": null,
      "outputs": [
        {
          "output_type": "stream",
          "text": [
            "No handles with labels found to put in legend.\n"
          ],
          "name": "stderr"
        },
        {
          "output_type": "execute_result",
          "data": {
            "text/plain": [
              "Text(0, 0.5, 'Sparse Categorical Crossentropy')"
            ]
          },
          "metadata": {
            "tags": []
          },
          "execution_count": 12
        },
        {
          "output_type": "display_data",
          "data": {
            "image/png": "[encoded data removed]",
            "text/plain": [
              "<Figure size 432x288 with 1 Axes>"
            ]
          },
          "metadata": {
            "tags": [],
            "needs_background": "light"
          }
        }
      ]
    },
    {
      "cell_type": "code",
      "metadata": {
        "id": "__WeJwzdT3ka",
        "colab_type": "code",
        "colab": {
          "base_uri": "https://localhost:8080/",
          "height": 298
        },
        "outputId": "5dea392b-8aca-41ff-c751-ef512a0c057c"
      },
      "source": [
        "plt.plot(df_history[['accuracy', 'val_accuracy']])\n",
        "plt.legend()\n",
        "# plt.ylim([0, 10])\n",
        "plt.ylabel('Accuracy')"
      ],
      "execution_count": null,
      "outputs": [
        {
          "output_type": "stream",
          "text": [
            "No handles with labels found to put in legend.\n"
          ],
          "name": "stderr"
        },
        {
          "output_type": "execute_result",
          "data": {
            "text/plain": [
              "Text(0, 0.5, 'Accuracy')"
            ]
          },
          "metadata": {
            "tags": []
          },
          "execution_count": 13
        },
        {
          "output_type": "display_data",
          "data": {
            "image/png": "[encoded data removed]",
            "text/plain": [
              "<Figure size 432x288 with 1 Axes>"
            ]
          },
          "metadata": {
            "tags": [],
            "needs_background": "light"
          }
        }
      ]
    }
  ]
}